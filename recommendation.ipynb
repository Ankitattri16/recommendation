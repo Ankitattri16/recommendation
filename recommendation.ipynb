{
  "cells": [
    {
      "cell_type": "markdown",
      "metadata": {
        "id": "view-in-github",
        "colab_type": "text"
      },
      "source": [
        "<a href=\"https://colab.research.google.com/github/Ankitattri16/recommendation/blob/main/recommendation.ipynb\" target=\"_parent\"><img src=\"https://colab.research.google.com/assets/colab-badge.svg\" alt=\"Open In Colab\"/></a>"
      ]
    },
    {
      "cell_type": "code",
      "execution_count": null,
      "metadata": {
        "id": "GYo81EGJTEZD"
      },
      "outputs": [],
      "source": [
        "import numpy as np\n",
        "import pandas as pd\n",
        "import difflib\n",
        "from sklearn.feature_extraction.text import TfidfVectorizer\n",
        "from sklearn.metrics.pairwise import cosine_similarity"
      ]
    },
    {
      "cell_type": "markdown",
      "metadata": {
        "id": "qH-4o7z9U3Ds"
      },
      "source": [
        "Data collection and Pre-Processing"
      ]
    },
    {
      "cell_type": "code",
      "source": [
        "def fix_unmatched_quotes(file_path):\n",
        "    with open(file_path, 'r', encoding='utf-8') as file:\n",
        "        lines = file.readlines()\n",
        "\n",
        "    corrected_lines = []\n",
        "    for line in lines:\n",
        "        if line.count('\"') % 2 != 0:\n",
        "            # Add a closing quote if the count of quotes is odd\n",
        "            line = line.strip() + '\"\\n'\n",
        "        corrected_lines.append(line)\n",
        "\n",
        "    with open(file_path, 'w', encoding='utf-8') as file:\n",
        "        file.writelines(corrected_lines)\n",
        "\n",
        "fix_unmatched_quotes(\"/content/movies.csv\")\n",
        "movies_data = pd.read_csv(\"/content/movies.csv\")\n"
      ],
      "metadata": {
        "id": "Fxcqf9LzY3GO"
      },
      "execution_count": null,
      "outputs": []
    },
    {
      "cell_type": "code",
      "source": [
        "#printing the first five rows of the dataframe\n",
        "movies_data. head()"
      ],
      "metadata": {
        "colab": {
          "base_uri": "https://localhost:8080/",
          "height": 794
        },
        "id": "6vAfc8cThiWA",
        "outputId": "1a567c92-4d83-4cc2-dd41-2da8a8f42186"
      },
      "execution_count": null,
      "outputs": [
        {
          "output_type": "execute_result",
          "data": {
            "text/plain": [
              "   index     budget                                    genres  \\\n",
              "0      0  237000000  Action Adventure Fantasy Science Fiction   \n",
              "1      1  300000000                  Adventure Fantasy Action   \n",
              "2      2  245000000                    Action Adventure Crime   \n",
              "3      3  250000000               Action Crime Drama Thriller   \n",
              "4      4  260000000          Action Adventure Science Fiction   \n",
              "\n",
              "                                       homepage      id  \\\n",
              "0                   http://www.avatarmovie.com/   19995   \n",
              "1  http://disney.go.com/disneypictures/pirates/     285   \n",
              "2   http://www.sonypictures.com/movies/spectre/  206647   \n",
              "3            http://www.thedarkknightrises.com/   49026   \n",
              "4          http://movies.disney.com/john-carter   49529   \n",
              "\n",
              "                                            keywords original_language  \\\n",
              "0  culture clash future space war space colony so...                en   \n",
              "1  ocean drug abuse exotic island east india trad...                en   \n",
              "2         spy based on novel secret agent sequel mi6                en   \n",
              "3  dc comics crime fighter terrorist secret ident...                en   \n",
              "4  based on novel mars medallion space travel pri...                en   \n",
              "\n",
              "                             original_title  \\\n",
              "0                                    Avatar   \n",
              "1  Pirates of the Caribbean: At World's End   \n",
              "2                                   Spectre   \n",
              "3                     The Dark Knight Rises   \n",
              "4                               John Carter   \n",
              "\n",
              "                                            overview  popularity  ... runtime  \\\n",
              "0  In the 22nd century, a paraplegic Marine is di...  150.437577  ...   162.0   \n",
              "1  Captain Barbossa, long believed to be dead, ha...  139.082615  ...   169.0   \n",
              "2  A cryptic message from Bond’s past sends him o...  107.376788  ...   148.0   \n",
              "3  Following the death of District Attorney Harve...  112.312950  ...   165.0   \n",
              "4  John Carter is a war-weary, former military ca...   43.926995  ...   132.0   \n",
              "\n",
              "                                    spoken_languages    status  \\\n",
              "0  [{\"iso_639_1\": \"en\", \"name\": \"English\"}, {\"iso...  Released   \n",
              "1           [{\"iso_639_1\": \"en\", \"name\": \"English\"}]  Released   \n",
              "2  [{\"iso_639_1\": \"fr\", \"name\": \"Fran\\u00e7ais\"},...  Released   \n",
              "3           [{\"iso_639_1\": \"en\", \"name\": \"English\"}]  Released   \n",
              "4           [{\"iso_639_1\": \"en\", \"name\": \"English\"}]  Released   \n",
              "\n",
              "                                          tagline  \\\n",
              "0                     Enter the World of Pandora.   \n",
              "1  At the end of the world, the adventure begins.   \n",
              "2                           A Plan No One Escapes   \n",
              "3                                 The Legend Ends   \n",
              "4            Lost in our world, found in another.   \n",
              "\n",
              "                                      title vote_average vote_count  \\\n",
              "0                                    Avatar          7.2      11800   \n",
              "1  Pirates of the Caribbean: At World's End          6.9       4500   \n",
              "2                                   Spectre          6.3       4466   \n",
              "3                     The Dark Knight Rises          7.6       9106   \n",
              "4                               John Carter          6.1       2124   \n",
              "\n",
              "                                                cast  \\\n",
              "0  Sam Worthington Zoe Saldana Sigourney Weaver S...   \n",
              "1  Johnny Depp Orlando Bloom Keira Knightley Stel...   \n",
              "2  Daniel Craig Christoph Waltz L\\u00e9a Seydoux ...   \n",
              "3  Christian Bale Michael Caine Gary Oldman Anne ...   \n",
              "4  Taylor Kitsch Lynn Collins Samantha Morton Wil...   \n",
              "\n",
              "                                                crew           director  \n",
              "0  [{'name': 'Stephen E. Rivkin', 'gender': 0, 'd...      James Cameron  \n",
              "1  [{'name': 'Dariusz Wolski', 'gender': 2, 'depa...     Gore Verbinski  \n",
              "2  [{'name': 'Thomas Newman', 'gender': 2, 'depar...         Sam Mendes  \n",
              "3  [{'name': 'Hans Zimmer', 'gender': 2, 'departm...  Christopher Nolan  \n",
              "4  [{'name': 'Andrew Stanton', 'gender': 2, 'depa...     Andrew Stanton  \n",
              "\n",
              "[5 rows x 24 columns]"
            ],
            "text/html": [
              "\n",
              "  <div id=\"df-165b4011-8134-427d-a90f-5fa02bf8d74d\" class=\"colab-df-container\">\n",
              "    <div>\n",
              "<style scoped>\n",
              "    .dataframe tbody tr th:only-of-type {\n",
              "        vertical-align: middle;\n",
              "    }\n",
              "\n",
              "    .dataframe tbody tr th {\n",
              "        vertical-align: top;\n",
              "    }\n",
              "\n",
              "    .dataframe thead th {\n",
              "        text-align: right;\n",
              "    }\n",
              "</style>\n",
              "<table border=\"1\" class=\"dataframe\">\n",
              "  <thead>\n",
              "    <tr style=\"text-align: right;\">\n",
              "      <th></th>\n",
              "      <th>index</th>\n",
              "      <th>budget</th>\n",
              "      <th>genres</th>\n",
              "      <th>homepage</th>\n",
              "      <th>id</th>\n",
              "      <th>keywords</th>\n",
              "      <th>original_language</th>\n",
              "      <th>original_title</th>\n",
              "      <th>overview</th>\n",
              "      <th>popularity</th>\n",
              "      <th>...</th>\n",
              "      <th>runtime</th>\n",
              "      <th>spoken_languages</th>\n",
              "      <th>status</th>\n",
              "      <th>tagline</th>\n",
              "      <th>title</th>\n",
              "      <th>vote_average</th>\n",
              "      <th>vote_count</th>\n",
              "      <th>cast</th>\n",
              "      <th>crew</th>\n",
              "      <th>director</th>\n",
              "    </tr>\n",
              "  </thead>\n",
              "  <tbody>\n",
              "    <tr>\n",
              "      <th>0</th>\n",
              "      <td>0</td>\n",
              "      <td>237000000</td>\n",
              "      <td>Action Adventure Fantasy Science Fiction</td>\n",
              "      <td>http://www.avatarmovie.com/</td>\n",
              "      <td>19995</td>\n",
              "      <td>culture clash future space war space colony so...</td>\n",
              "      <td>en</td>\n",
              "      <td>Avatar</td>\n",
              "      <td>In the 22nd century, a paraplegic Marine is di...</td>\n",
              "      <td>150.437577</td>\n",
              "      <td>...</td>\n",
              "      <td>162.0</td>\n",
              "      <td>[{\"iso_639_1\": \"en\", \"name\": \"English\"}, {\"iso...</td>\n",
              "      <td>Released</td>\n",
              "      <td>Enter the World of Pandora.</td>\n",
              "      <td>Avatar</td>\n",
              "      <td>7.2</td>\n",
              "      <td>11800</td>\n",
              "      <td>Sam Worthington Zoe Saldana Sigourney Weaver S...</td>\n",
              "      <td>[{'name': 'Stephen E. Rivkin', 'gender': 0, 'd...</td>\n",
              "      <td>James Cameron</td>\n",
              "    </tr>\n",
              "    <tr>\n",
              "      <th>1</th>\n",
              "      <td>1</td>\n",
              "      <td>300000000</td>\n",
              "      <td>Adventure Fantasy Action</td>\n",
              "      <td>http://disney.go.com/disneypictures/pirates/</td>\n",
              "      <td>285</td>\n",
              "      <td>ocean drug abuse exotic island east india trad...</td>\n",
              "      <td>en</td>\n",
              "      <td>Pirates of the Caribbean: At World's End</td>\n",
              "      <td>Captain Barbossa, long believed to be dead, ha...</td>\n",
              "      <td>139.082615</td>\n",
              "      <td>...</td>\n",
              "      <td>169.0</td>\n",
              "      <td>[{\"iso_639_1\": \"en\", \"name\": \"English\"}]</td>\n",
              "      <td>Released</td>\n",
              "      <td>At the end of the world, the adventure begins.</td>\n",
              "      <td>Pirates of the Caribbean: At World's End</td>\n",
              "      <td>6.9</td>\n",
              "      <td>4500</td>\n",
              "      <td>Johnny Depp Orlando Bloom Keira Knightley Stel...</td>\n",
              "      <td>[{'name': 'Dariusz Wolski', 'gender': 2, 'depa...</td>\n",
              "      <td>Gore Verbinski</td>\n",
              "    </tr>\n",
              "    <tr>\n",
              "      <th>2</th>\n",
              "      <td>2</td>\n",
              "      <td>245000000</td>\n",
              "      <td>Action Adventure Crime</td>\n",
              "      <td>http://www.sonypictures.com/movies/spectre/</td>\n",
              "      <td>206647</td>\n",
              "      <td>spy based on novel secret agent sequel mi6</td>\n",
              "      <td>en</td>\n",
              "      <td>Spectre</td>\n",
              "      <td>A cryptic message from Bond’s past sends him o...</td>\n",
              "      <td>107.376788</td>\n",
              "      <td>...</td>\n",
              "      <td>148.0</td>\n",
              "      <td>[{\"iso_639_1\": \"fr\", \"name\": \"Fran\\u00e7ais\"},...</td>\n",
              "      <td>Released</td>\n",
              "      <td>A Plan No One Escapes</td>\n",
              "      <td>Spectre</td>\n",
              "      <td>6.3</td>\n",
              "      <td>4466</td>\n",
              "      <td>Daniel Craig Christoph Waltz L\\u00e9a Seydoux ...</td>\n",
              "      <td>[{'name': 'Thomas Newman', 'gender': 2, 'depar...</td>\n",
              "      <td>Sam Mendes</td>\n",
              "    </tr>\n",
              "    <tr>\n",
              "      <th>3</th>\n",
              "      <td>3</td>\n",
              "      <td>250000000</td>\n",
              "      <td>Action Crime Drama Thriller</td>\n",
              "      <td>http://www.thedarkknightrises.com/</td>\n",
              "      <td>49026</td>\n",
              "      <td>dc comics crime fighter terrorist secret ident...</td>\n",
              "      <td>en</td>\n",
              "      <td>The Dark Knight Rises</td>\n",
              "      <td>Following the death of District Attorney Harve...</td>\n",
              "      <td>112.312950</td>\n",
              "      <td>...</td>\n",
              "      <td>165.0</td>\n",
              "      <td>[{\"iso_639_1\": \"en\", \"name\": \"English\"}]</td>\n",
              "      <td>Released</td>\n",
              "      <td>The Legend Ends</td>\n",
              "      <td>The Dark Knight Rises</td>\n",
              "      <td>7.6</td>\n",
              "      <td>9106</td>\n",
              "      <td>Christian Bale Michael Caine Gary Oldman Anne ...</td>\n",
              "      <td>[{'name': 'Hans Zimmer', 'gender': 2, 'departm...</td>\n",
              "      <td>Christopher Nolan</td>\n",
              "    </tr>\n",
              "    <tr>\n",
              "      <th>4</th>\n",
              "      <td>4</td>\n",
              "      <td>260000000</td>\n",
              "      <td>Action Adventure Science Fiction</td>\n",
              "      <td>http://movies.disney.com/john-carter</td>\n",
              "      <td>49529</td>\n",
              "      <td>based on novel mars medallion space travel pri...</td>\n",
              "      <td>en</td>\n",
              "      <td>John Carter</td>\n",
              "      <td>John Carter is a war-weary, former military ca...</td>\n",
              "      <td>43.926995</td>\n",
              "      <td>...</td>\n",
              "      <td>132.0</td>\n",
              "      <td>[{\"iso_639_1\": \"en\", \"name\": \"English\"}]</td>\n",
              "      <td>Released</td>\n",
              "      <td>Lost in our world, found in another.</td>\n",
              "      <td>John Carter</td>\n",
              "      <td>6.1</td>\n",
              "      <td>2124</td>\n",
              "      <td>Taylor Kitsch Lynn Collins Samantha Morton Wil...</td>\n",
              "      <td>[{'name': 'Andrew Stanton', 'gender': 2, 'depa...</td>\n",
              "      <td>Andrew Stanton</td>\n",
              "    </tr>\n",
              "  </tbody>\n",
              "</table>\n",
              "<p>5 rows × 24 columns</p>\n",
              "</div>\n",
              "    <div class=\"colab-df-buttons\">\n",
              "\n",
              "  <div class=\"colab-df-container\">\n",
              "    <button class=\"colab-df-convert\" onclick=\"convertToInteractive('df-165b4011-8134-427d-a90f-5fa02bf8d74d')\"\n",
              "            title=\"Convert this dataframe to an interactive table.\"\n",
              "            style=\"display:none;\">\n",
              "\n",
              "  <svg xmlns=\"http://www.w3.org/2000/svg\" height=\"24px\" viewBox=\"0 -960 960 960\">\n",
              "    <path d=\"M120-120v-720h720v720H120Zm60-500h600v-160H180v160Zm220 220h160v-160H400v160Zm0 220h160v-160H400v160ZM180-400h160v-160H180v160Zm440 0h160v-160H620v160ZM180-180h160v-160H180v160Zm440 0h160v-160H620v160Z\"/>\n",
              "  </svg>\n",
              "    </button>\n",
              "\n",
              "  <style>\n",
              "    .colab-df-container {\n",
              "      display:flex;\n",
              "      gap: 12px;\n",
              "    }\n",
              "\n",
              "    .colab-df-convert {\n",
              "      background-color: #E8F0FE;\n",
              "      border: none;\n",
              "      border-radius: 50%;\n",
              "      cursor: pointer;\n",
              "      display: none;\n",
              "      fill: #1967D2;\n",
              "      height: 32px;\n",
              "      padding: 0 0 0 0;\n",
              "      width: 32px;\n",
              "    }\n",
              "\n",
              "    .colab-df-convert:hover {\n",
              "      background-color: #E2EBFA;\n",
              "      box-shadow: 0px 1px 2px rgba(60, 64, 67, 0.3), 0px 1px 3px 1px rgba(60, 64, 67, 0.15);\n",
              "      fill: #174EA6;\n",
              "    }\n",
              "\n",
              "    .colab-df-buttons div {\n",
              "      margin-bottom: 4px;\n",
              "    }\n",
              "\n",
              "    [theme=dark] .colab-df-convert {\n",
              "      background-color: #3B4455;\n",
              "      fill: #D2E3FC;\n",
              "    }\n",
              "\n",
              "    [theme=dark] .colab-df-convert:hover {\n",
              "      background-color: #434B5C;\n",
              "      box-shadow: 0px 1px 3px 1px rgba(0, 0, 0, 0.15);\n",
              "      filter: drop-shadow(0px 1px 2px rgba(0, 0, 0, 0.3));\n",
              "      fill: #FFFFFF;\n",
              "    }\n",
              "  </style>\n",
              "\n",
              "    <script>\n",
              "      const buttonEl =\n",
              "        document.querySelector('#df-165b4011-8134-427d-a90f-5fa02bf8d74d button.colab-df-convert');\n",
              "      buttonEl.style.display =\n",
              "        google.colab.kernel.accessAllowed ? 'block' : 'none';\n",
              "\n",
              "      async function convertToInteractive(key) {\n",
              "        const element = document.querySelector('#df-165b4011-8134-427d-a90f-5fa02bf8d74d');\n",
              "        const dataTable =\n",
              "          await google.colab.kernel.invokeFunction('convertToInteractive',\n",
              "                                                    [key], {});\n",
              "        if (!dataTable) return;\n",
              "\n",
              "        const docLinkHtml = 'Like what you see? Visit the ' +\n",
              "          '<a target=\"_blank\" href=https://colab.research.google.com/notebooks/data_table.ipynb>data table notebook</a>'\n",
              "          + ' to learn more about interactive tables.';\n",
              "        element.innerHTML = '';\n",
              "        dataTable['output_type'] = 'display_data';\n",
              "        await google.colab.output.renderOutput(dataTable, element);\n",
              "        const docLink = document.createElement('div');\n",
              "        docLink.innerHTML = docLinkHtml;\n",
              "        element.appendChild(docLink);\n",
              "      }\n",
              "    </script>\n",
              "  </div>\n",
              "\n",
              "\n",
              "<div id=\"df-9a45fac4-2592-4817-9e11-ad54d9aab542\">\n",
              "  <button class=\"colab-df-quickchart\" onclick=\"quickchart('df-9a45fac4-2592-4817-9e11-ad54d9aab542')\"\n",
              "            title=\"Suggest charts\"\n",
              "            style=\"display:none;\">\n",
              "\n",
              "<svg xmlns=\"http://www.w3.org/2000/svg\" height=\"24px\"viewBox=\"0 0 24 24\"\n",
              "     width=\"24px\">\n",
              "    <g>\n",
              "        <path d=\"M19 3H5c-1.1 0-2 .9-2 2v14c0 1.1.9 2 2 2h14c1.1 0 2-.9 2-2V5c0-1.1-.9-2-2-2zM9 17H7v-7h2v7zm4 0h-2V7h2v10zm4 0h-2v-4h2v4z\"/>\n",
              "    </g>\n",
              "</svg>\n",
              "  </button>\n",
              "\n",
              "<style>\n",
              "  .colab-df-quickchart {\n",
              "      --bg-color: #E8F0FE;\n",
              "      --fill-color: #1967D2;\n",
              "      --hover-bg-color: #E2EBFA;\n",
              "      --hover-fill-color: #174EA6;\n",
              "      --disabled-fill-color: #AAA;\n",
              "      --disabled-bg-color: #DDD;\n",
              "  }\n",
              "\n",
              "  [theme=dark] .colab-df-quickchart {\n",
              "      --bg-color: #3B4455;\n",
              "      --fill-color: #D2E3FC;\n",
              "      --hover-bg-color: #434B5C;\n",
              "      --hover-fill-color: #FFFFFF;\n",
              "      --disabled-bg-color: #3B4455;\n",
              "      --disabled-fill-color: #666;\n",
              "  }\n",
              "\n",
              "  .colab-df-quickchart {\n",
              "    background-color: var(--bg-color);\n",
              "    border: none;\n",
              "    border-radius: 50%;\n",
              "    cursor: pointer;\n",
              "    display: none;\n",
              "    fill: var(--fill-color);\n",
              "    height: 32px;\n",
              "    padding: 0;\n",
              "    width: 32px;\n",
              "  }\n",
              "\n",
              "  .colab-df-quickchart:hover {\n",
              "    background-color: var(--hover-bg-color);\n",
              "    box-shadow: 0 1px 2px rgba(60, 64, 67, 0.3), 0 1px 3px 1px rgba(60, 64, 67, 0.15);\n",
              "    fill: var(--button-hover-fill-color);\n",
              "  }\n",
              "\n",
              "  .colab-df-quickchart-complete:disabled,\n",
              "  .colab-df-quickchart-complete:disabled:hover {\n",
              "    background-color: var(--disabled-bg-color);\n",
              "    fill: var(--disabled-fill-color);\n",
              "    box-shadow: none;\n",
              "  }\n",
              "\n",
              "  .colab-df-spinner {\n",
              "    border: 2px solid var(--fill-color);\n",
              "    border-color: transparent;\n",
              "    border-bottom-color: var(--fill-color);\n",
              "    animation:\n",
              "      spin 1s steps(1) infinite;\n",
              "  }\n",
              "\n",
              "  @keyframes spin {\n",
              "    0% {\n",
              "      border-color: transparent;\n",
              "      border-bottom-color: var(--fill-color);\n",
              "      border-left-color: var(--fill-color);\n",
              "    }\n",
              "    20% {\n",
              "      border-color: transparent;\n",
              "      border-left-color: var(--fill-color);\n",
              "      border-top-color: var(--fill-color);\n",
              "    }\n",
              "    30% {\n",
              "      border-color: transparent;\n",
              "      border-left-color: var(--fill-color);\n",
              "      border-top-color: var(--fill-color);\n",
              "      border-right-color: var(--fill-color);\n",
              "    }\n",
              "    40% {\n",
              "      border-color: transparent;\n",
              "      border-right-color: var(--fill-color);\n",
              "      border-top-color: var(--fill-color);\n",
              "    }\n",
              "    60% {\n",
              "      border-color: transparent;\n",
              "      border-right-color: var(--fill-color);\n",
              "    }\n",
              "    80% {\n",
              "      border-color: transparent;\n",
              "      border-right-color: var(--fill-color);\n",
              "      border-bottom-color: var(--fill-color);\n",
              "    }\n",
              "    90% {\n",
              "      border-color: transparent;\n",
              "      border-bottom-color: var(--fill-color);\n",
              "    }\n",
              "  }\n",
              "</style>\n",
              "\n",
              "  <script>\n",
              "    async function quickchart(key) {\n",
              "      const quickchartButtonEl =\n",
              "        document.querySelector('#' + key + ' button');\n",
              "      quickchartButtonEl.disabled = true;  // To prevent multiple clicks.\n",
              "      quickchartButtonEl.classList.add('colab-df-spinner');\n",
              "      try {\n",
              "        const charts = await google.colab.kernel.invokeFunction(\n",
              "            'suggestCharts', [key], {});\n",
              "      } catch (error) {\n",
              "        console.error('Error during call to suggestCharts:', error);\n",
              "      }\n",
              "      quickchartButtonEl.classList.remove('colab-df-spinner');\n",
              "      quickchartButtonEl.classList.add('colab-df-quickchart-complete');\n",
              "    }\n",
              "    (() => {\n",
              "      let quickchartButtonEl =\n",
              "        document.querySelector('#df-9a45fac4-2592-4817-9e11-ad54d9aab542 button');\n",
              "      quickchartButtonEl.style.display =\n",
              "        google.colab.kernel.accessAllowed ? 'block' : 'none';\n",
              "    })();\n",
              "  </script>\n",
              "</div>\n",
              "\n",
              "    </div>\n",
              "  </div>\n"
            ],
            "application/vnd.google.colaboratory.intrinsic+json": {
              "type": "dataframe"
            }
          },
          "metadata": {},
          "execution_count": 33
        }
      ]
    },
    {
      "cell_type": "code",
      "source": [
        "#number of rows and columns in the data frame\n",
        "movies_data . shape"
      ],
      "metadata": {
        "colab": {
          "base_uri": "https://localhost:8080/"
        },
        "id": "awsrBoiTiPyB",
        "outputId": "5bf29595-7c1c-4f2e-9641-a150404cb954"
      },
      "execution_count": null,
      "outputs": [
        {
          "output_type": "execute_result",
          "data": {
            "text/plain": [
              "(2158, 24)"
            ]
          },
          "metadata": {},
          "execution_count": 34
        }
      ]
    },
    {
      "cell_type": "code",
      "source": [
        "#selecting the releavent features for recommendation\n",
        "selected_features = ['genre','keywords','tagline','director']\n",
        "print(selected_features)"
      ],
      "metadata": {
        "colab": {
          "base_uri": "https://localhost:8080/"
        },
        "id": "qVOZXhpOic7t",
        "outputId": "ac5c9ae4-82d3-4267-8701-6f35a126a7f4"
      },
      "execution_count": null,
      "outputs": [
        {
          "output_type": "stream",
          "name": "stdout",
          "text": [
            "['genre', 'keywords', 'tagline', 'director']\n"
          ]
        }
      ]
    },
    {
      "cell_type": "code",
      "source": [
        "combined_features = movies_data['genres']+''+movies_data['keywords']+''+movies_data['tagline']+''+movies_data['cast']+''+movies_data['director']"
      ],
      "metadata": {
        "id": "9eI0X_lRjcMe"
      },
      "execution_count": null,
      "outputs": []
    },
    {
      "cell_type": "code",
      "source": [
        "print(combined_features)"
      ],
      "metadata": {
        "colab": {
          "base_uri": "https://localhost:8080/"
        },
        "id": "b5iS0V6TkgZi",
        "outputId": "756e17c0-cdbd-45bc-a291-063cf641f4f5"
      },
      "execution_count": null,
      "outputs": [
        {
          "output_type": "stream",
          "name": "stdout",
          "text": [
            "0       Action Adventure Fantasy Science Fictioncultur...\n",
            "1       Adventure Fantasy Actionocean drug abuse exoti...\n",
            "2       Action Adventure Crimespy based on novel secre...\n",
            "3       Action Crime Drama Thrillerdc comics crime fig...\n",
            "4       Action Adventure Science Fictionbased on novel...\n",
            "                              ...                        \n",
            "2153    Comedy Romancebrother sister relationship marr...\n",
            "2154    Action Crime Drama Thrillerpolice los angelesT...\n",
            "2155    Comedy Action Science Fictionend of the world ...\n",
            "2156    Action Adventure Crime Family Mysterycaliforni...\n",
            "2157                                                  NaN\n",
            "Length: 2158, dtype: object\n"
          ]
        }
      ]
    },
    {
      "cell_type": "code",
      "source": [
        "# Check for NaN values\n",
        "print(\"NaN values before handling:\")\n",
        "print(combined_features.isna().sum())\n",
        "\n",
        "# Handle NaN values by replacing with an empty string\n",
        "combined_features = combined_features.fillna('')\n",
        "\n",
        "# Check for NaN values after handling\n",
        "print(\"NaN values after handling:\")\n",
        "print(combined_features.isna().sum())\n",
        "\n",
        "# Initialize the vectorizer\n",
        "vectorizer = TfidfVectorizer()\n",
        "\n",
        "# Fit and transform the data\n",
        "feature_vectors = vectorizer.fit_transform(combined_features)\n",
        "\n",
        "# Print the feature vectors\n",
        "print(feature_vectors.toarray())"
      ],
      "metadata": {
        "colab": {
          "base_uri": "https://localhost:8080/"
        },
        "id": "jQhcQXDZk-E0",
        "outputId": "55538a47-7eb3-44be-9f08-05535900f305"
      },
      "execution_count": null,
      "outputs": [
        {
          "output_type": "stream",
          "name": "stdout",
          "text": [
            "NaN values before handling:\n",
            "185\n",
            "NaN values after handling:\n",
            "0\n",
            "[[0. 0. 0. ... 0. 0. 0.]\n",
            " [0. 0. 0. ... 0. 0. 0.]\n",
            " [0. 0. 0. ... 0. 0. 0.]\n",
            " ...\n",
            " [0. 0. 0. ... 0. 0. 0.]\n",
            " [0. 0. 0. ... 0. 0. 0.]\n",
            " [0. 0. 0. ... 0. 0. 0.]]\n"
          ]
        }
      ]
    },
    {
      "cell_type": "code",
      "source": [
        "print(feature_vectors)"
      ],
      "metadata": {
        "colab": {
          "base_uri": "https://localhost:8080/"
        },
        "id": "HS2S5a8bl2Fx",
        "outputId": "81bbc2e1-95b7-426d-8849-6fd6b9c82d8e"
      },
      "execution_count": null,
      "outputs": [
        {
          "output_type": "stream",
          "name": "stdout",
          "text": [
            "  (0, 1791)\t0.1725883371319682\n",
            "  (0, 10212)\t0.26440477592566114\n",
            "  (0, 8139)\t0.1605704385587145\n",
            "  (0, 7111)\t0.25097748251464375\n",
            "  (0, 11470)\t0.17701033338391925\n",
            "  (0, 13144)\t0.19767969031274837\n",
            "  (0, 11031)\t0.20506926311779727\n",
            "  (0, 10568)\t0.21459607940520314\n",
            "  (0, 13638)\t0.20795071275569002\n",
            "  (0, 13466)\t0.22291855278076572\n",
            "  (0, 10583)\t0.15651036700462492\n",
            "  (0, 9091)\t0.25097748251464375\n",
            "  (0, 8891)\t0.09090795772645784\n",
            "  (0, 13454)\t0.12301041353307703\n",
            "  (0, 11946)\t0.07669939080062678\n",
            "  (0, 11201)\t0.26440477592566114\n",
            "  (0, 2323)\t0.24145066622723793\n",
            "  (0, 13018)\t0.13518790653680876\n",
            "  (0, 11274)\t0.32560761838392954\n",
            "  (0, 5012)\t0.16962076057887035\n",
            "  (0, 2218)\t0.24145066622723793\n",
            "  (0, 4588)\t0.26440477592566114\n",
            "  (0, 10722)\t0.09696325104720852\n",
            "  (0, 4372)\t0.11108325699317821\n",
            "  (0, 227)\t0.08270281230437844\n",
            "  :\t:\n",
            "  (2156, 6873)\t0.26302208080396966\n",
            "  (2156, 8546)\t0.26302208080396966\n",
            "  (2156, 11978)\t0.24966500493358457\n",
            "  (2156, 4787)\t0.24966500493358457\n",
            "  (2156, 11843)\t0.24018800878410826\n",
            "  (2156, 7246)\t0.20686324209608134\n",
            "  (2156, 5228)\t0.20686324209608134\n",
            "  (2156, 2625)\t0.20399686089386176\n",
            "  (2156, 3273)\t0.19451986474438548\n",
            "  (2156, 10174)\t0.16690311948895029\n",
            "  (2156, 12352)\t0.18116278887400042\n",
            "  (2156, 9763)\t0.21347385704333807\n",
            "  (2156, 3689)\t0.18116278887400042\n",
            "  (2156, 1290)\t0.17608466430853256\n",
            "  (2156, 7881)\t0.18116278887400042\n",
            "  (2156, 6662)\t0.15325059228867122\n",
            "  (2156, 12265)\t0.1449716409837539\n",
            "  (2156, 4224)\t0.11164687429572698\n",
            "  (2156, 3976)\t0.16873373500465777\n",
            "  (2156, 2783)\t0.10862833299634987\n",
            "  (2156, 8824)\t0.13071197159870382\n",
            "  (2156, 8936)\t0.09988043992985013\n",
            "  (2156, 1056)\t0.12814371553040282\n",
            "  (2156, 227)\t0.16454064193419596\n",
            "  (2156, 128)\t0.07208485444846763\n"
          ]
        }
      ]
    },
    {
      "cell_type": "code",
      "source": [
        "#getting the similarity scores using cosine similarity\n",
        "similarity = cosine_similarity(feature_vectors)"
      ],
      "metadata": {
        "id": "FDJSVjm4mdlZ"
      },
      "execution_count": null,
      "outputs": []
    },
    {
      "cell_type": "code",
      "source": [
        "print(similarity)"
      ],
      "metadata": {
        "colab": {
          "base_uri": "https://localhost:8080/"
        },
        "id": "GsrF4oRzmtrs",
        "outputId": "4cb2d2bf-6208-422a-cbcc-d756fa8a6a18"
      },
      "execution_count": null,
      "outputs": [
        {
          "output_type": "stream",
          "name": "stdout",
          "text": [
            "[[1.         0.0659586  0.01270753 ... 0.04194214 0.01883152 0.        ]\n",
            " [0.0659586  1.         0.02586984 ... 0.04122059 0.02383096 0.        ]\n",
            " [0.01270753 0.02586984 1.         ... 0.00526895 0.06573303 0.        ]\n",
            " ...\n",
            " [0.04194214 0.04122059 0.00526895 ... 1.         0.00498701 0.        ]\n",
            " [0.01883152 0.02383096 0.06573303 ... 0.00498701 1.         0.        ]\n",
            " [0.         0.         0.         ... 0.         0.         0.        ]]\n"
          ]
        }
      ]
    },
    {
      "cell_type": "code",
      "source": [
        "print(similarity.shape)"
      ],
      "metadata": {
        "colab": {
          "base_uri": "https://localhost:8080/"
        },
        "id": "FIo3cgjCmwkm",
        "outputId": "6ee5725c-f70b-448a-9bfc-dec0d5a45acc"
      },
      "execution_count": null,
      "outputs": [
        {
          "output_type": "stream",
          "name": "stdout",
          "text": [
            "(2158, 2158)\n"
          ]
        }
      ]
    },
    {
      "cell_type": "code",
      "source": [
        "#getting the movie name from the user\n",
        "movie_name = input('Enter your favourite movie name:')"
      ],
      "metadata": {
        "colab": {
          "base_uri": "https://localhost:8080/"
        },
        "id": "6_M0ZSoBm3ui",
        "outputId": "1e0f0bcd-a6ad-456b-f4a3-00d9731a39e4"
      },
      "execution_count": null,
      "outputs": [
        {
          "name": "stdout",
          "output_type": "stream",
          "text": [
            "Enter your favourite movie name:ironman\n"
          ]
        }
      ]
    },
    {
      "cell_type": "code",
      "source": [
        "#creating a list with all the movie names given in the data set\n",
        "list_of_all_titles = movies_data['title'].tolist()\n",
        "print(list_of_all_titles)"
      ],
      "metadata": {
        "colab": {
          "base_uri": "https://localhost:8080/"
        },
        "id": "ix2rsP1CnIL9",
        "outputId": "fcd38c80-ca53-41d6-bb9c-207d5eca9490"
      },
      "execution_count": null,
      "outputs": [
        {
          "output_type": "stream",
          "name": "stdout",
          "text": [
            "['Avatar', \"Pirates of the Caribbean: At World's End\", 'Spectre', 'The Dark Knight Rises', 'John Carter', 'Spider-Man 3', 'Tangled', 'Avengers: Age of Ultron', 'Harry Potter and the Half-Blood Prince', 'Batman v Superman: Dawn of Justice', 'Superman Returns', 'Quantum of Solace', \"Pirates of the Caribbean: Dead Man's Chest\", 'The Lone Ranger', 'Man of Steel', 'The Chronicles of Narnia: Prince Caspian', 'The Avengers', 'Pirates of the Caribbean: On Stranger Tides', 'Men in Black 3', 'The Hobbit: The Battle of the Five Armies', 'The Amazing Spider-Man', 'Robin Hood', 'The Hobbit: The Desolation of Smaug', 'The Golden Compass', 'King Kong', 'Titanic', 'Captain America: Civil War', 'Battleship', 'Jurassic World', 'Skyfall', 'Spider-Man 2', 'Iron Man 3', 'Alice in Wonderland', 'X-Men: The Last Stand', 'Monsters University', 'Transformers: Revenge of the Fallen', 'Transformers: Age of Extinction', 'Oz: The Great and Powerful', 'The Amazing Spider-Man 2', 'TRON: Legacy', 'Cars 2', 'Green Lantern', 'Toy Story 3', 'Terminator Salvation', 'Furious 7', 'World War Z', 'X-Men: Days of Future Past', 'Star Trek Into Darkness', 'Jack the Giant Slayer', 'The Great Gatsby', 'Prince of Persia: The Sands of Time', 'Pacific Rim', 'Transformers: Dark of the Moon', 'Indiana Jones and the Kingdom of the Crystal Skull', 'The Good Dinosaur', 'Brave', 'Star Trek Beyond', 'WALL·E', 'Rush Hour 3', '2012', 'A Christmas Carol', 'Jupiter Ascending', 'The Legend of Tarzan', 'The Chronicles of Narnia: The Lion, the Witch and the Wardrobe', 'X-Men: Apocalypse', 'The Dark Knight', 'Up', 'Monsters vs Aliens', 'Iron Man', 'Hugo', 'Wild Wild West', 'The Mummy: Tomb of the Dragon Emperor', 'Suicide Squad', 'Evan Almighty', 'Edge of Tomorrow', 'Waterworld', 'G.I. Joe: The Rise of Cobra', 'Inside Out', 'The Jungle Book', 'Iron Man 2', 'Snow White and the Huntsman', 'Maleficent', 'Dawn of the Planet of the Apes', 'The Lovers', '47 Ronin', 'Captain America: The Winter Soldier', 'Shrek Forever After', 'Tomorrowland', 'Big Hero 6', 'Wreck-It Ralph', 'The Polar Express', 'Independence Day: Resurgence', 'How to Train Your Dragon', 'Terminator 3: Rise of the Machines', 'Guardians of the Galaxy', 'Interstellar', 'Inception', 'Shin Godzilla', 'The Hobbit: An Unexpected Journey', 'The Fast and the Furious', 'The Curious Case of Benjamin Button', 'X-Men: First Class', 'The Hunger Games: Mockingjay - Part 2', \"The Sorcerer's Apprentice\", 'Poseidon', 'Alice Through the Looking Glass', 'Shrek the Third', 'Warcraft', 'Terminator Genisys', 'The Chronicles of Narnia: The Voyage of the Dawn Treader', 'Pearl Harbor', 'Transformers', 'Alexander', 'Harry Potter and the Order of the Phoenix', 'Harry Potter and the Goblet of Fire', 'Hancock', 'I Am Legend', 'Charlie and the Chocolate Factory', 'Ratatouille', 'Batman Begins', 'Madagascar: Escape 2 Africa', 'Night at the Museum: Battle of the Smithsonian', 'X-Men Origins: Wolverine', 'The Matrix Revolutions', 'Frozen', 'The Matrix Reloaded', 'Thor: The Dark World', 'Mad Max: Fury Road', 'Angels & Demons', 'Thor', 'Bolt', 'G-Force', 'Wrath of the Titans', 'Dark Shadows', 'Mission: Impossible - Rogue Nation', 'The Wolfman', 'Bee Movie', 'Kung Fu Panda 2', 'The Last Airbender', 'Mission: Impossible III', 'White House Down', 'Mars Needs Moms', 'Flushed Away', 'Pan', 'Mr. Peabody & Sherman', 'Troy', \"Madagascar 3: Europe's Most Wanted\", 'Die Another Day', 'Ghostbusters', 'Armageddon', 'Men in Black II', 'Beowulf', 'Kung Fu Panda 3', 'Mission: Impossible - Ghost Protocol', 'Rise of the Guardians', 'Fun with Dick and Jane', 'The Last Samurai', 'Exodus: Gods and Kings', 'Star Trek', 'Spider-Man', 'How to Train Your Dragon 2', 'Gods of Egypt', 'Stealth', 'Watchmen', 'Lethal Weapon 4', 'Hulk', 'G.I. Joe: Retaliation', 'Sahara', 'Final Fantasy: The Spirits Within', 'Captain America: The First Avenger', 'The World Is Not Enough', 'Master and Commander: The Far Side of the World', 'The Twilight Saga: Breaking Dawn - Part 2', 'Happy Feet Two', 'The Incredible Hulk', 'The BFG', 'The Revenant', 'Turbo', 'Rango', 'Penguins of Madagascar', 'The Bourne Ultimatum', 'Kung Fu Panda', 'Ant-Man', 'The Hunger Games: Catching Fire', 'Home', 'War of the Worlds', 'Bad Boys II', 'Puss in Boots', 'Salt', 'Noah', 'The Adventures of Tintin', 'Harry Potter and the Prisoner of Azkaban', 'Australia', 'After Earth', 'Dinosaur', 'Night at the Museum: Secret of the Tomb', 'Megamind', \"Harry Potter and the Philosopher's Stone\", 'R.I.P.D.', 'Pirates of the Caribbean: The Curse of the Black Pearl', 'The Hunger Games: Mockingjay - Part 1', 'The Da Vinci Code', 'Rio 2', 'X2', 'Fast Five', 'Sherlock Holmes: A Game of Shadows', 'Clash of the Titans', 'Total Recall', 'The 13th Warrior', 'The Bourne Legacy', 'Batman & Robin', 'How the Grinch Stole Christmas', 'The Day After Tomorrow', 'Mission: Impossible II', 'The Perfect Storm', 'Fantastic 4: Rise of the Silver Surfer', 'Life of Pi', 'Ghost Rider', 'Jason Bourne', \"Charlie's Angels: Full Throttle\", 'Prometheus', 'Stuart Little 2', 'Elysium', 'The Chronicles of Riddick', 'RoboCop', 'Speed Racer', 'How Do You Know', 'Knight and Day', 'Oblivion', 'Star Wars: Episode III - Revenge of the Sith', 'Star Wars: Episode II - Attack of the Clones', 'Monsters, Inc.', 'The Wolverine', 'Star Wars: Episode I - The Phantom Menace', 'The Croods', 'Asterix at the Olympic Games', 'Windtalkers', \"The Huntsman: Winter's War\", 'Teenage Mutant Ninja Turtles', 'Gravity', \"Dante's Peak\", 'Teenage Mutant Ninja Turtles: Out of the Shadows', 'Fantastic Four', 'Night at the Museum', 'San Andreas', 'Tomorrow Never Dies', 'The Patriot', \"Ocean's Twelve\", 'Mr. & Mrs. Smith', 'Insurgent', 'The Aviator', \"Gulliver's Travels\", 'The Green Hornet', '300: Rise of an Empire', 'The Smurfs', 'Home on the Range', 'Allegiant', 'Real Steel', 'The Smurfs 2', 'Speed 2: Cruise Control', \"Ender's Game\", 'Live Free or Die Hard', 'The Lord of the Rings: The Fellowship of the Ring', 'Around the World in 80 Days', 'Ali', 'The Cat in the Hat', 'I, Robot', 'Kingdom of Heaven', 'Stuart Little', 'The Princess and the Frog', 'The Martian', 'The Island', 'Town & Country', 'Gone in Sixty Seconds', 'Gladiator', 'Minority Report', 'Harry Potter and the Chamber of Secrets', 'Casino Royale', 'Planet of the Apes', 'Terminator 2: Judgment Day', 'Public Enemies', 'American Gangster', 'True Lies', 'The Taking of Pelham 1 2 3', 'Little Fockers', 'The Other Guys', 'Eraser', 'Django Unchained', 'The Hunchback of Notre Dame', \"The Emperor's New Groove\", 'The Expendables 2', 'National Treasure', 'Eragon', 'Where the Wild Things Are', 'Epic', 'The Tourist', 'End of Days', 'Blood Diamond', 'The Wolf of Wall Street', 'Batman Forever', 'Starship Troopers', 'Cloud Atlas', \"Legend of the Guardians: The Owls of Ga'Hoole\", 'Catwoman', 'Hercules', 'Treasure Planet', 'Land of the Lost', 'The Expendables 3', 'Point Break', 'Son of the Mask', 'In the Heart of the Sea', 'The Adventures of Pluto Nash', 'Green Zone', 'The Peanuts Movie', 'The Spanish Prisoner', 'The Mummy Returns', 'Gangs of New York', 'The Flowers of War', \"Surf's Up\", 'The Stepford Wives', 'Black Hawk Down', 'The Campaign', 'The Fifth Element', 'Sex and the City 2', 'The Road to El Dorado', 'Ice Age: Continental Drift', 'Cinderella', 'The Lovely Bones', 'Finding Nemo', 'The Lord of the Rings: The Return of the King', 'The Lord of the Rings: The Two Towers', 'Seventh Son', 'Lara Croft: Tomb Raider', 'Transcendence', 'Jurassic Park III', 'Rise of the Planet of the Apes', 'The Spiderwick Chronicles', 'A Good Day to Die Hard', 'The Alamo', 'The Incredibles', 'Cutthroat Island', 'Percy Jackson & the Olympians: The Lightning Thief', 'Men in Black', 'Toy Story 2', 'Unstoppable', 'Rush Hour 2', 'What Lies Beneath', 'Cloudy with a Chance of Meatballs', 'Ice Age: Dawn of the Dinosaurs', 'The Secret Life of Walter Mitty', \"Charlie's Angels\", 'The Departed', 'Mulan', 'Tropic Thunder', 'The Girl with the Dragon Tattoo', 'Die Hard: With a Vengeance', 'Sherlock Holmes', 'Ben-Hur', 'Atlantis: The Lost Empire', 'Alvin and the Chipmunks: The Road Chip', 'Valkyrie', \"You Don't Mess with the Zohan\", 'Pixels', 'A.I. Artificial Intelligence', 'The Haunted Mansion', 'Contact', 'Hollow Man', 'The Interpreter', 'Percy Jackson: Sea of Monsters', 'Lara Croft Tomb Raider: The Cradle of Life', 'Now You See Me 2', 'The Saint', 'Spy Game', 'Mission to Mars', 'Rio', 'Bicentennial Man', 'Volcano', \"The Devil's Own\", 'K-19: The Widowmaker', 'Conan the Barbarian', 'Cinderella Man', 'The Nutcracker: The Untold Story', 'Seabiscuit', 'Twister', 'Cast Away', 'Happy Feet', 'The Bourne Supremacy', 'Air Force One', \"Ocean's Eleven\", 'The Three Musketeers', 'Hotel Transylvania', 'Enchanted', 'Safe House', '102 Dalmatians', 'Tower Heist', 'The Holiday', 'Enemy of the State', \"It's Complicated\", \"Ocean's Thirteen\", 'Open Season', 'Divergent', 'Enemy at the Gates', 'The Rundown', 'Last Action Hero', 'Memoirs of a Geisha', 'The Fast and the Furious: Tokyo Drift', 'Arthur Christmas', 'Meet Joe Black', 'Collateral Damage', 'All That Jazz', 'Mirror Mirror', 'Scott Pilgrim vs. the World', 'The Core', 'Nutty Professor II: The Klumps', 'Scooby-Doo', 'Dredd', 'Click', 'Creepshow', 'Cats & Dogs 2 : The Revenge of Kitty Galore', 'Jumper', 'Hellboy II: The Golden Army', 'Zodiac', 'The 6th Day', 'Bruce Almighty', 'The Expendables', 'Mission: Impossible', 'The Hunger Games', 'The Hangover Part II', 'Batman Returns', 'Over the Hedge', 'Lilo & Stitch', \"Charlotte's Web\", 'Deep Impact', 'RED 2', 'The Longest Yard', 'Alvin and the Chipmunks: Chipwrecked', 'Grown Ups 2', 'Get Smart', \"Something's Gotta Give\", 'Shutter Island', 'Four Christmases', 'Robots', 'Face/Off', 'Bedtime Stories', 'Road to Perdition', 'Just Go with It', 'Con Air', 'Eagle Eye', 'Cold Mountain', 'The Book of Eli', 'Flubber', 'The Haunting', 'Space Jam', 'The Pink Panther', 'The Day the Earth Stood Still', 'Conspiracy Theory', 'Fury', 'Six Days Seven Nights', 'Yogi Bear', 'Spirit: Stallion of the Cimarron', 'Zookeeper', 'Lost in Space', 'The Manchurian Candidate', 'Déjà Vu', 'Hotel Transylvania 2', 'Fantasia 2000', 'The Time Machine', 'Mighty Joe Young', 'Swordfish', 'The Legend of Zorro', 'What Dreams May Come', 'Little Nicky', 'The Brothers Grimm', 'Mars Attacks!', 'Evolution', 'The Edge', 'Surrogates', 'Thirteen Days', 'Daylight', 'Walking With Dinosaurs', 'Battlefield Earth', 'Looney Tunes: Back in Action', 'Nine', 'Timeline', 'The Postman', 'Babe: Pig in the City', 'The Last Witch Hunter', 'Red Planet', 'Arthur and the Invisibles', 'Oceans', 'A Sound of Thunder', 'Pompeii', 'Top Cat Begins', 'A Beautiful Mind', 'The Lion King', 'Journey 2: The Mysterious Island', 'Cloudy with a Chance of Meatballs 2', 'Red Dragon', 'Hidalgo', 'Jack and Jill', '2 Fast 2 Furious', 'The Little Prince', 'The Invasion', 'The Adventures of Rocky & Bullwinkle', 'The Secret Life of Pets', 'The League of Extraordinary Gentlemen', 'Despicable Me 2', 'Independence Day', 'The Lost World: Jurassic Park', 'Madagascar', 'Children of Men', 'X-Men', 'Wanted', 'The Rock', 'Ice Age: The Meltdown', '50 First Dates', 'Hairspray', 'Exorcist: The Beginning', 'Inspector Gadget', 'Now You See Me', 'Grown Ups', 'The Terminal', 'Hotel for Dogs', 'Vertical Limit', \"Charlie Wilson's War\", 'Shark Tale', 'Dreamgirls', 'Be Cool', 'Munich', 'Tears of the Sun', 'Killers', 'The Man from U.N.C.L.E.', 'Spanglish', 'Monster House', 'Bandits', 'First Knight', 'Anna and the King', 'Immortals', 'Hostage', 'Titan A.E.', 'Hollywood Homicide', 'Soldier', 'Carriers', 'Monkeybone', 'Flight of the Phoenix', 'Unbreakable', 'Minions', 'Sucker Punch', 'Snake Eyes', 'Sphere', 'The Angry Birds Movie', \"Fool's Gold\", 'Funny People', 'The Kingdom', 'Talladega Nights: The Ballad of Ricky Bobby', 'Dr. Dolittle 2', 'Braveheart', 'Jarhead', 'The Simpsons Movie', 'The Majestic', 'Driven', 'Two Brothers', 'The Village', 'Doctor Dolittle', 'Signs', 'Shrek 2', 'Cars', 'Runaway Bride', 'xXx', 'The SpongeBob Movie: Sponge Out of Water', 'Ransom', 'Inglourious Basterds', 'Hook', 'Die Hard 2', 'S.W.A.T.', 'Vanilla Sky', 'Lady in the Water', 'AVP: Alien vs. Predator', 'Alvin and the Chipmunks: The Squeakquel', 'We Were Soldiers', 'Olympus Has Fallen', 'Star Trek: Insurrection', 'Battle: Los Angeles', 'Big Fish', 'Wolf', 'War Horse', 'The Monuments Men', 'The Abyss', 'Wall Street: Money Never Sleeps', 'Dracula Untold', 'The Siege', 'Stardust', 'Seven Years in Tibet', 'The Dilemma', 'Bad Company', 'Doom', 'I Spy', 'Underworld: Awakening', 'Rock of Ages', \"Hart's War\", 'Killer Elite', 'Rollerball', 'Ballistic: Ecks vs. Sever', 'Hard Rain', 'Osmosis Jones', \"Legends of Oz: Dorothy's Return\", 'Blackhat', 'Sky Captain and the World of Tomorrow', 'Basic Instinct 2', 'Escape Plan', 'The Legend of Hercules', 'The Sum of All Fears', 'The Twilight Saga: Eclipse', 'The Score', 'Despicable Me', 'Money Train', 'Ted 2', 'Agora', 'Mystery Men', 'Hall Pass', 'The Insider', 'The Finest Hours', 'Body of Lies', 'Dinner for Schmucks', 'Abraham Lincoln: Vampire Hunter', 'Entrapment', 'The X Files', 'The Last Legion', 'Saving Private Ryan', 'Need for Speed', 'What Women Want', 'Ice Age', 'Dreamcatcher', 'Lincoln', 'The Matrix', 'Apollo 13', 'The Santa Clause 2', 'Les Misérables', \"You've Got Mail\", 'Step Brothers', 'The Mask of Zorro', 'Due Date', 'Unbroken', 'Space Cowboys', 'Cliffhanger', 'Broken Arrow', 'The Kid', 'World Trade Center', 'Mona Lisa Smile', 'The Dictator', 'Eyes Wide Shut', 'Annie', 'Focus', 'This Means War', 'Blade: Trinity', 'Red Dawn', 'Primary Colors', 'Resident Evil: Retribution', 'Death Race', 'The Long Kiss Goodnight', 'Proof of Life', 'Zathura: A Space Adventure', 'Fight Club', 'We Are Marshall', 'Hudson Hawk', 'Lucky Numbers', 'I, Frankenstein', 'Oliver Twist', 'Elektra', 'Sin City: A Dame to Kill For', 'Random Hearts', 'Everest', 'Perfume: The Story of a Murderer', 'Austin Powers in Goldmember', 'Astro Boy', 'Jurassic Park', 'Wyatt Earp', 'Clear and Present Danger', 'Dragon Blade', 'Little Man', 'U-571', 'The American President', 'The Love Guru', '3000 Miles to Graceland', 'The Hateful Eight', 'Blades of Glory', 'Hop', '300', 'Meet the Fockers', 'Marley & Me', 'The Green Mile', 'Wild Hogs', 'Chicken Little', 'Gone Girl', 'The Bourne Identity', 'GoldenEye', \"The General's Daughter\", 'The Truman Show', 'The Prince of Egypt', 'Daddy Day Care', '2 Guns', 'Cats & Dogs', 'The Italian Job', 'Two Weeks Notice', 'Antz', 'Couples Retreat', 'Days of Thunder', 'Cheaper by the Dozen 2', 'Maze Runner: The Scorch Trials', 'Eat Pray Love', 'The Family Man', 'RED', 'Any Given Sunday', 'The Horse Whisperer', 'Collateral', 'The Scorpion King', 'Ladder 49', 'Jack Reacher', 'Deep Blue Sea', 'This Is It', 'Contagion', 'Kangaroo Jack', 'Coraline', 'The Happening', 'Man on Fire', 'The Shaggy Dog', 'Starsky & Hutch', 'Jingle All the Way', 'Hellboy', 'A Civil Action', 'ParaNorman', 'The Jackal', 'Paycheck', 'Up Close & Personal', 'The Tale of Despereaux', 'The Tuxedo', 'Under Siege 2: Dark Territory', 'Jack Ryan: Shadow Recruit', 'Joy', 'London Has Fallen', 'Alien: Resurrection', 'Shooter', 'The Boxtrolls', 'Practical Magic', 'The Lego Movie', 'Miss Congeniality 2: Armed and Fabulous', 'Reign of Fire', 'Gangster Squad', 'Year One', 'Invictus', 'State of Play', 'Duplicity', 'My Favorite Martian', 'The Sentinel', 'Planet 51', 'Star Trek: Nemesis', 'Intolerable Cruelty', 'Trouble with the Curve', 'Edge of Darkness', 'The Relic', 'Analyze That', 'Righteous Kill', 'Mercury Rising', 'The Soloist', 'The Legend of Bagger Vance', 'Almost Famous', 'Garfield: A Tail of Two Kitties', 'xXx: State of the Union', 'Priest', 'Sinbad: Legend of the Seven Seas', 'Event Horizon', 'Dragonfly', 'The Black Dahlia', 'Flyboys', 'The Last Castle', 'Supernova', \"Winter's Tale\", 'The Mortal Instruments: City of Bones', 'Meet Dave', 'Dark Water', 'Edtv', 'Inkheart', 'The Spirit', 'Mortdecai', 'In the Name of the King: A Dungeon Siege Tale', 'Beyond Borders', 'The Monkey King 2', 'The Great Raid', 'Deadpool', 'Holy Man', 'American Sniper', 'Goosebumps', 'Just Like Heaven', 'The Flintstones in Viva Rock Vegas', 'Rambo III', 'Leatherheads', 'The Ridiculous 6', 'Did You Hear About the Morgans?', 'The Internship', 'Resident Evil: Afterlife', 'Red Tails', \"The Devil's Advocate\", \"That's My Boy\", 'DragonHeart', 'After the Sunset', 'Ghost Rider: Spirit of Vengeance', \"Captain Corelli's Mandolin\", 'The Pacifier', 'Walking Tall', 'Forrest Gump', 'Alvin and the Chipmunks', 'Meet the Parents', 'Pocahontas', 'Superman', 'The Nutty Professor', 'Hitch', 'George of the Jungle', 'American Wedding', 'Captain Phillips', 'Date Night', 'Casper', 'The Equalizer', 'Maid in Manhattan', 'Crimson Tide', 'The Pursuit of Happyness', 'Flightplan', 'Disclosure', 'City of Angels', 'Kill Bill: Vol. 1', 'Bowfinger', 'Kill Bill: Vol. 2', 'Tango & Cash', 'Death Becomes Her', 'Shanghai Noon', 'Executive Decision', \"Mr. Popper's Penguins\", 'The Forbidden Kingdom', 'Free Birds', 'Alien³', 'Evita', 'Ronin', 'The Ghost and the Darkness', 'Paddington', 'The Watch', 'The Hunted', 'Instinct', 'Stuck on You', 'Semi-Pro', 'The Pirates! In an Adventure with Scientists!', 'Changeling', 'Chain Reaction', 'The Fan', 'The Phantom of the Opera', 'Elizabeth: The Golden Age', 'Æon Flux', 'Gods and Generals', 'Turbulence', 'Imagine That', 'Muppets Most Wanted', 'Thunderbirds', 'Burlesque', 'A Very Long Engagement', 'Lolita', 'D-Tox', 'Blade II', 'Seven Pounds', 'Bullet to the Head', 'The Godfather: Part III', 'Elizabethtown', 'You, Me and Dupree', 'Superman II', 'Gigli', \"All the King's Men\", 'Shaft', 'Anastasia', 'Moulin Rouge!', 'Domestic Disturbance', 'Black Mass', 'Flags of Our Fathers', 'Law Abiding Citizen', 'Grindhouse', 'Beloved', 'Lucky You', 'Catch Me If You Can', 'Zero Dark Thirty', 'The Break-Up', 'Mamma Mia!', \"Valentine's Day\", 'The Dukes of Hazzard', 'The Thin Red Line', 'The Change-Up', 'Man on the Moon', 'Casino', 'From Paris with Love', 'Bulletproof Monk', 'Me, Myself & Irene', 'Barnyard', 'Deck the Halls', 'The Twilight Saga: New Moon', 'Shrek', 'The Adjustment Bureau', 'Robin Hood: Prince of Thieves', 'Jerry Maguire', 'Ted', 'As Good as It Gets', 'Patch Adams', 'Anchorman 2: The Legend Continues', 'Mr. Deeds', 'Super 8', 'Erin Brockovich', 'How to Lose a Guy in 10 Days', '22 Jump Street', 'Interview with the Vampire', 'Yes Man', 'Central Intelligence', 'Stepmom', \"Daddy's Home\", 'Into the Woods', 'Inside Man', 'Payback', 'Congo', 'We Bought a Zoo', 'Knowing', 'Failure to Launch', 'The Ring Two', 'Crazy, Stupid, Love.', 'Garfield', 'Christmas with the Kranks', 'Moneyball', 'Outbreak', 'Non-Stop', 'Race to Witch Mountain', 'V for Vendetta', 'Shanghai Knights', 'Curious George', 'Herbie Fully Loaded', \"Don't Say a Word\", 'Hansel & Gretel: Witch Hunters', 'Unfaithful', 'I Am Number Four', 'Syriana', '13 Hours: The Secret Soldiers of Benghazi', 'The Book of Life', 'Firewall', 'Absolute Power', 'G.I. Jane', 'The Game', 'Silent Hill', 'The Replacements', 'American Reunion', 'The Negotiator', 'Into the Storm', 'Beverly Hills Cop III', 'Gremlins 2: The New Batch', 'The Judge', 'The Peacemaker', 'Resident Evil: Apocalypse', 'Bridget Jones: The Edge of Reason', 'Out of Time', 'On Deadly Ground', 'The Adventures of Sharkboy and Lavagirl', 'The Beach', 'Raising Helen', 'Ninja Assassin', 'For Love of the Game', 'Striptease', 'Marmaduke', 'Hereafter', 'Murder by Numbers', 'Assassins', 'Hannibal Rising', 'The Story of Us', 'The Host', 'Basic', 'Blood Work', 'The International', 'Escape from L.A.', 'The Iron Giant', 'The Life Aquatic with Steve Zissou', 'Free State of Jones', 'The Life of David Gale', 'Man of the House', 'Run All Night', 'Eastern Promises', 'Into the Blue', 'The Messenger: The Story of Joan of Arc', 'Your Highness', 'Dream House', 'Mad City', \"Baby's Day Out\", 'The Scarlet Letter', 'Fair Game', 'Domino', 'Jade', 'Gamer', 'Beautiful Creatures', 'Death to Smoochy', 'Zoolander 2', 'The Big Bounce', 'What Planet Are You From?', 'Drive Angry', 'Street Fighter: The Legend of Chun-Li', 'The One', 'The Adventures of Ford Fairlane', 'The Boat That Rocked', 'Traffic', 'Indiana Jones and the Last Crusade', 'Anna Karenina', 'Chappie', 'The Bone Collector', 'Panic Room', 'The Tooth Fairy', 'Three Kings', 'Child 44', 'Rat Race', 'K-PAX', 'Kate & Leopold', 'Bedazzled', 'The Cotton Club', '3:10 to Yuma', 'Taken 3', 'Out of Sight', 'The Cable Guy', 'Earth', 'Dick Tracy', 'The Thomas Crown Affair', 'Riding in Cars with Boys', 'First Blood', 'Solaris', \"Happily N'Ever After\", 'Mary Reilly', \"My Best Friend's Wedding\", \"America's Sweethearts\", 'Insomnia', 'Star Trek: First Contact', 'Jonah Hex', 'Courage Under Fire', 'Liar Liar', 'The Infiltrator', 'Inchon', 'The Flintstones', 'Taken 2', 'Scary Movie 3', 'Miss Congeniality', 'Journey to the Center of the Earth', 'The Princess Diaries 2: Royal Engagement', 'The Pelican Brief', 'The Client', 'The Bucket List', 'Patriot Games', 'Monster-in-Law', 'Prisoners', 'Training Day', 'Galaxy Quest', 'Scary Movie 2', 'The Muppets', 'Blade', 'Coach Carter', 'Changing Lanes', 'Anaconda', 'Coyote Ugly', 'Love Actually', \"A Bug's Life\", 'From Hell', 'The Specialist', 'Tin Cup', 'Yours, Mine and Ours', 'Kicking & Screaming', \"The Hitchhiker's Guide to the Galaxy\", 'Fat Albert', 'Resident Evil: Extinction', 'Blended', 'Last Holiday', 'The River Wild', 'The Indian in the Cupboard', 'Savages', 'Cellular', 'Johnny English', 'The Ant Bully', 'Dune', 'Across the Universe', 'Revolutionary Road', '16 Blocks', 'Babylon A.D.', 'The Glimmer Man', 'Multiplicity', 'Aliens in the Attic', 'The Pledge', 'The Producers', 'The Phantom', 'All the Pretty Horses', 'Nixon', 'The Ghost Writer', 'Deep Rising', 'Miracle at St. Anna', 'Curse of the Golden Flower', 'Bangkok Dangerous', 'Big Trouble', 'Love in the Time of Cholera', 'Shadow Conspiracy', 'Johnny English Reborn', 'Foodfight!', 'Argo', 'The Fugitive', 'The Bounty Hunter', 'Sleepers', 'Rambo: First Blood Part II', 'The Juror', 'Pinocchio', \"Heaven's Gate\", 'Underworld: Evolution', 'Victor Frankenstein', 'Finding Forrester', '28 Days', 'Unleashed', 'The Sweetest Thing', 'The Firm', 'Charlie St. Cloud', 'The Mechanic', '21 Jump Street', 'Notting Hill', 'Chicken Run', 'Along Came Polly', 'Boomerang', 'The Heat', 'Cleopatra', 'Here Comes the Boom', 'High Crimes', 'The Mirror Has Two Faces', 'The Mothman Prophecies', 'Brüno', 'Licence to Kill', 'Red Riding Hood', '15 Minutes', 'Super Mario Bros.', 'Lord of War', 'Hero', 'One for the Money', 'The Interview', \"The Warrior's Way\", 'Micmacs', '8 Mile', 'Why I Did (Not) Eat My Father', \"A Knight's Tale\", 'The Medallion', 'The Sixth Sense', 'Man on a Ledge', 'The Big Year', 'The Karate Kid', 'American Hustle', 'The Proposal', 'Double Jeopardy', 'Back to the Future Part II', 'Lucy', 'Fifty Shades of Grey', 'Spy Kids 3-D: Game Over', 'A Time to Kill', 'Cheaper by the Dozen', 'Lone Survivor', 'A League of Their Own', 'The Conjuring 2', 'The Social Network', \"He's Just Not That Into You\", 'Scary Movie 4', 'Scream 3', 'Back to the Future Part III', 'Get Hard', 'Dracula', 'Julie & Julia', '42', 'The Talented Mr. Ripley', 'Dumb and Dumber To', 'Eight Below', 'The Intern', 'Ride Along 2', 'The Last of the Mohicans', 'Ray', 'Sin City', 'Vantage Point', 'I Love You, Man', 'Shallow Hal', 'JFK', \"Big Momma's House 2\", 'The Mexican', '17 Again', 'The Other Woman', 'The Final Destination', 'Bridge of Spies', 'Behind Enemy Lines', 'Get Him to the Greek', 'Shall We Dance?', 'Small Soldiers', 'Spawn', 'The Count of Monte Cristo', 'The Lincoln Lawyer', 'Unknown', 'The Prestige', 'Horrible Bosses 2', 'Escape from Planet Earth', 'Apocalypto', 'The Living Daylights', 'Predators', 'Legal Eagles', 'Secret Window', 'The Lake House', 'The Skeleton Key', 'The Odd Life of Timothy Green', 'Made of Honor', 'Jersey Boys', 'The Rainmaker', 'Gothika', 'Amistad', 'Medicine Man', 'Aliens vs Predator: Requiem', 'Ri¢hie Ri¢h', 'Autumn in New York', 'Music and Lyrics', 'Paul', 'The Guilt Trip', 'Scream 4', '8MM', 'The Doors', 'Sex Tape', 'Hanging Up', 'Final Destination 5', 'Mickey Blue Eyes', 'Pay It Forward', 'Fever Pitch', 'Drillbit Taylor', 'A Million Ways to Die in the West', 'The Shadow', 'Extremely Loud & Incredibly Close', 'Morning Glory', \"Get Rich or Die Tryin'\", 'The Art of War', 'Rent', 'Bless the Child', 'The Out-of-Towners', 'The Island of Dr. Moreau', 'The Musketeer', 'The Other Boleyn Girl', 'Sweet November', 'The Reaping', 'Mean Streets', 'Renaissance Man', 'Colombiana', 'Quest for Camelot', 'City By The Sea', 'At First Sight', 'Torque', 'City Hall', 'Showgirls', 'Marie Antoinette', 'Kiss of Death', 'Get Carter', 'The Impossible', 'Ishtar', 'Fantastic Mr. Fox', 'Life or Something Like It', 'Memoirs of an Invisible Man', 'Amélie', 'New York Minute', 'Alfie', 'Big Miracle', 'The Deep End of the Ocean', 'FearDotCom', \"Cirque du Freak: The Vampire's Assistant\", 'Duplex', 'Soul Men', 'Raise the Titanic', 'Universal Soldier: The Return', 'Pandorum', 'Impostor', 'Extreme Ops', 'Just Visiting', 'Sunshine', 'A Thousand Words', 'Delgo', 'The Gunman', 'Stormbreaker', 'Disturbia', 'Hackers', 'The Hunting Party', 'The Hudsucker Proxy', 'The Warlords', 'Nomad: The Warrior', 'Snowpiercer', 'A Monster in Paris', 'The Last Shot', 'The Crow', 'Baahubali: The Beginning', \"The Time Traveler's Wife\", 'Because I Said So', 'Frankenweenie', 'Serenity', 'Against the Ropes', 'Superman III', 'Grudge Match', 'Red Cliff', 'Sweet Home Alabama', 'The Ugly Truth', 'Sgt. Bilko', 'Spy Kids 2: The Island of Lost Dreams', 'Star Trek: Generations', 'The Grandmaster', 'Water for Elephants', \"Dragon Nest: Warriors' Dawn\", 'The Hurricane', 'Enough', 'Heartbreakers', 'Paul Blart: Mall Cop 2', 'Angel Eyes', 'Joe Somebody', 'The Ninth Gate', 'Extreme Measures', 'Rock Star', 'Precious', 'White Squall', 'The Thing', 'Riddick', 'Switchback', 'Texas Rangers', 'City of Ember', 'The Master', 'Virgin Territory', 'The Express', 'The 5th Wave', 'Creed', 'The Town', \"What to Expect When You're Expecting\", 'Burn After Reading', \"Nim's Island\", 'Rush', 'Magnolia', 'Cop Out', 'How to Be Single', 'Dolphin Tale', 'Twilight', 'John Q', 'Blue Streak', \"We're the Millers\", 'The Inhabited Island', 'Breakdown', 'Never Say Never Again', 'Hot Tub Time Machine', 'Dolphin Tale 2', 'Reindeer Games', 'A Man Apart', 'Aloha', 'Ghosts of Mississippi', 'Snow Falling on Cedars', 'The Rite', 'Gattaca', \"Isn't She Great\", 'Space Chimps', 'Head of State', 'The Hangover', 'Ip Man 3', 'Austin Powers: The Spy Who Shagged Me', 'Batman', 'There Be Dragons', 'Lethal Weapon 3', 'The Blind Side', 'Spy Kids', 'Horrible Bosses', 'True Grit', 'The Devil Wears Prada', 'Star Trek: The Motion Picture', 'Identity Thief', 'Cape Fear', '21', 'Trainwreck', 'Guess Who', 'The English Patient', 'L.A. Confidential', 'Sky High', 'In & Out', 'Species', 'A Nightmare on Elm Street', 'The Cell', 'The Man in the Iron Mask', 'Secretariat', 'TMNT', 'Radio', 'Friends with Benefits', 'Neighbors 2: Sorority Rising', 'Saving Mr. Banks', 'Malcolm X', 'This Is 40', 'Old Dogs', 'Underworld: Rise of the Lycans', 'License to Wed', 'The Benchwarmers', 'Must Love Dogs', 'Donnie Brasco', 'Resident Evil', 'Poltergeist', 'The Ladykillers', 'Max Payne', 'In Time', 'The Back-Up Plan', 'Something Borrowed', 'Black Knight', 'The Bad News Bears', 'Street Fighter', 'The Pianist', 'The Nativity Story', 'House of Wax', 'Closer', 'J. Edgar', 'Mirrors', 'Queen of the Damned', 'Predator 2', 'Untraceable', 'Blast from the Past', 'Flash Gordon', 'Jersey Girl', 'Alex Cross', 'Midnight in the Garden of Good and Evil', 'Heist', 'Nanny McPhee and the Big Bang', 'Hoffa', 'The X Files: I Want to Believe', 'Ella Enchanted', 'Concussion', 'Abduction', 'Valiant', 'Wonder Boys', 'Superhero Movie', 'Broken City', 'Cursed', 'Premium Rush', 'Hot Pursuit', 'The Four Feathers', 'Parker', 'Wimbledon', 'Furry Vengeance', 'Bait', 'Krull', 'Lions for Lambs', 'Flight of the Intruder', 'Walk Hard: The Dewey Cox Story', 'The Shipping News', 'American Outlaws', 'The Young Victoria', 'Whiteout', 'The Tree of Life', 'Knock Off', 'Sabotage', 'The Order', 'Punisher: War Zone', 'Zoom', 'The Walk', 'Warriors of Virtue', 'A Good Year', 'Radio Flyer', 'Bound by Honor', \"Smilla's Sense of Snow\", 'Femme Fatale', 'Lion of the Desert', 'The Horseman on the Roof', 'Ride with the Devil', 'Biutiful', 'Bandidas', 'Black Water Transit', 'The Maze Runner', 'Unfinished Business', 'The Age of Innocence', 'The Fountain', 'Chill Factor', 'Stolen', 'Ponyo', 'The Longest Ride', \"The Astronaut's Wife\", 'I Dreamed of Africa', 'Playing for Keeps', 'Mandela: Long Walk to Freedom', 'Reds', 'A Few Good Men', 'Exit Wounds', \"Big Momma's House\", 'Thunder and the House of Magic', 'The Darkest Hour', 'Step Up Revolution', 'Snakes on a Plane', 'The Watcher', 'The Punisher', 'Goal!: The Dream Begins', 'Safe', 'Pushing Tin', 'Return of the Jedi', 'Doomsday', 'The Reader', 'Wanderlust', 'Elf', 'Phenomenon', 'Snow Dogs', 'Scrooged', 'Nacho Libre', 'Bridesmaids', 'This Is the End', 'Stigmata', 'Men of Honor', 'Takers', 'The Big Wedding', 'Big Mommas: Like Father, Like Son', 'Source Code', 'Alive', 'The Number 23', 'The Young and Prodigious T.S. Spivet', '1941', 'Dreamer: Inspired By a True Story', 'A History of Violence', 'Transporter 2', 'The Quick and the Dead', 'Laws of Attraction', 'Bringing Out the Dead', 'Repo Men', 'Dragon Wars: D-War', 'Bogus', 'The Incredible Burt Wonderstone', \"Cats Don't Dance\", 'Cradle Will Rock', 'The Good German', 'George and the Dragon', 'Apocalypse Now', 'Going the Distance', \"Mr. Holland's Opus\", 'Criminal', 'Out of Africa', 'Flight', 'Moonraker', 'The Grand Budapest Hotel', 'Hearts in Atlantis', 'Arachnophobia', 'Frequency', 'Vacation', 'Get Shorty', 'Chicago', 'Big Daddy', 'American Pie 2', 'Toy Story', 'Speed', 'The Vow', 'Extraordinary Measures', 'Remember the Titans', 'The Hunt for Red October', 'The Butler', 'DodgeBall: A True Underdog Story', 'The Addams Family', 'Ace Ventura: When Nature Calls', 'The Princess Diaries', 'The First Wives Club', 'Se7en', 'District 9', 'The SpongeBob SquarePants Movie', 'Mystic River', 'Million Dollar Baby', 'Analyze This', 'The Notebook', '27 Dresses', 'Hannah Montana: The Movie', 'Rugrats in Paris: The Movie', 'The Prince of Tides', 'Legends of the Fall', 'Up in the Air', 'About Schmidt', 'Warm Bodies', 'Looper', 'Down to Earth', 'Babe', 'Hope Springs', 'Forgetting Sarah Marshall', 'Four Brothers', 'Baby Mama', 'Hope Floats', 'Bride Wars', 'Without a Paddle', '13 Going on 30', 'Midnight in Paris', 'The Nut Job', 'Blow', 'Message in a Bottle', 'Star Trek V: The Final Frontier', 'Like Mike', 'The Naked Gun 33⅓: The Final Insult', 'A View to a Kill', 'The Curse of the Were-Rabbit', 'P.S. I Love You', 'Racing Stripes', 'Atonement', 'Letters to Juliet', 'Black Rain', 'The Three Stooges', 'Corpse Bride', 'Glory Road', 'Sicario', 'Southpaw', 'Drag Me to Hell', 'The Age of Adaline', 'Secondhand Lions', 'Step Up 3D', 'Blue Crush', 'Stranger Than Fiction', '30 Days of Night', 'The Cabin in the Woods', 'Meet the Spartans', 'Midnight Run', 'The Running Man', 'Little Shop of Horrors', 'Hanna', 'Mortal Kombat: Annihilation', 'Larry Crowne', 'Carrie', 'Take the Lead', 'Gridiron Gang', \"What's the Worst That Could Happen?\", '9', 'Side Effects', 'The Prince & Me', 'Winnie the Pooh', 'Dumb and Dumberer: When Harry Met Lloyd', 'Bulworth', 'Get on Up', 'One True Thing', 'Virtuosity', 'My Super Ex-Girlfriend', 'Deliver Us from Evil', 'Sanctum', 'Little Black Book', 'The Five-Year Engagement', 'Mr. 3000', 'The Next Three Days', 'Ultraviolet', 'Assault on Precinct 13', 'The Replacement Killers', 'Fled', 'Eight Legged Freaks', 'Love & Other Drugs', '88 Minutes', 'North Country', 'The Whole Ten Yards', 'Splice', 'Howard the Duck', 'Pride and Glory', 'The Cave', 'Alex & Emma', 'Wicker Park', 'Fright Night', 'The New World', 'Wing Commander', 'In Dreams', 'Dragonball Evolution', 'The Last Stand', 'Godsend', 'Chasing Liberty', 'Hoodwinked Too! Hood VS. Evil', 'An Unfinished Life', 'The Imaginarium of Doctor Parnassus', \"Barney's Version\", 'Runner Runner', 'Antitrust', 'Glory', 'Once Upon a Time in America', 'Dead Man Down', 'The Merchant of Venice', 'The Good Thief', 'Supercross', 'Miss Potter', 'The Promise', 'DOA: Dead or Alive', 'The Assassination of Jesse James by the Coward Robert Ford', '1911', 'Little Nicholas', 'Wild Card', 'Machine Gun Preacher', 'Animals United', 'Goodbye Bafana', 'United Passions', 'Grace of Monaco', 'Savva. Heart of the Warrior', \"Ripley's Game\", 'Sausage Party', 'Pitch Perfect 2', 'Walk the Line', 'Keeping the Faith', 'The Borrowers', 'Frost/Nixon', 'Confessions of a Dangerous Mind', 'Serving Sara', 'The Boss', 'Cry Freedom', 'Mumford', 'Seed of Chucky', 'The Jacket', 'Aladdin', 'Straight Outta Compton', 'Indiana Jones and the Temple of Doom', 'The Rugrats Movie', 'Along Came a Spider', 'Florence Foster Jenkins', 'Once Upon a Time in Mexico', 'Die Hard', 'Role Models', 'The Big Short', 'Taking Woodstock', 'Miracle', 'Dawn of the Dead', 'The Wedding Planner', 'Space Pirate Captain Harlock', 'The Royal Tenenbaums', 'Identity', 'Last Vegas', 'For Your Eyes Only', 'Serendipity', 'Timecop', 'Zoolander', 'Safe Haven', 'Hocus Pocus', 'No Reservations', 'Kick-Ass', '30 Minutes or Less', 'Dracula 2000', 'Alexander and the Terrible, Horrible, No Good, Very Bad Day', 'Pride & Prejudice', 'Blade Runner', 'Rob Roy', '3 Days to Kill', 'We Own the Night', 'Lost Souls', 'Winged Migration', 'Just My Luck', 'Mystery, Alaska', 'The Spy Next Door', 'A Simple Wish', 'Ghosts of Mars', 'Our Brand Is Crisis', 'Pride and Prejudice and Zombies', 'Kundun', 'How to Lose Friends & Alienate People', 'Kick-Ass 2', 'Alatriste', 'Brick Mansions', 'Octopussy', 'Knocked Up', \"My Sister's Keeper\", 'Welcome Home Roscoe Jenkins', 'A Passage to India', 'Notes on a Scandal', 'Rendition', 'Star Trek VI: The Undiscovered Country', 'Divine Secrets of the Ya-Ya Sisterhood', 'Kiss the Girls', 'The Blues Brothers', 'The Sisterhood of the Traveling Pants 2', 'Joyful Noise', 'About a Boy', 'Lake Placid', 'Lucky Number Slevin', 'The Right Stuff', 'Anonymous', 'The NeverEnding Story', 'Dark City', 'The Duchess', 'Return to Oz', 'The Newton Boys', 'Case 39', 'Suspect Zero', 'Martian Child', 'Spy Kids: All the Time in the World', 'Money Monster', 'The 51st State', 'Flawless', 'Mindhunters', 'What Just Happened', 'The Statement', 'The Magic Flute', 'Paul Blart: Mall Cop', 'Freaky Friday', 'The 40 Year Old Virgin', 'Shakespeare in Love', 'A Walk Among the Tombstones', 'Kindergarten Cop', 'Pineapple Express', 'Ever After: A Cinderella Story', 'Open Range', 'Flatliners', 'A Bridge Too Far', 'Red Eye', 'Final Destination 2', 'O Brother, Where Art Thou?', 'Legion', 'Pain & Gain', 'In Good Company', 'Clockstoppers', 'Silverado', 'Brothers', 'Agent Cody Banks 2: Destination London', \"New Year's Eve\", 'Original Sin', 'The Raven', 'Welcome to Mooseport', 'Highlander: The Final Dimension', 'Blood and Wine', 'Snow White: A Tale of Terror', 'The Curse of the Jade Scorpion', 'Accidental Love', 'Flipper', 'Self/less', 'The Constant Gardener', 'The Passion of the Christ', 'Mrs. Doubtfire', 'Rain Man', 'Gran Torino', 'W.', 'Taken', 'The Best of Me', 'The Bodyguard', \"Schindler's List\", 'The Help', 'The Fifth Estate', 'Scooby-Doo 2: Monsters Unleashed', 'Forbidden Kingdom', 'Freddy vs. Jason', 'The Face of an Angel', 'Jimmy Neutron: Boy Genius', 'Cloverfield', 'Teenage Mutant Ninja Turtles II: The Secret of the Ooze', 'The Untouchables', 'No Country for Old Men', 'Ride Along', \"Bridget Jones's Diary\", 'Chocolat', 'Legally Blonde 2: Red, White & Blonde', 'Parental Guidance', 'No Strings Attached', 'Tombstone', 'Romeo Must Die', 'The Omen', 'Final Destination 3', 'The Lucky One', 'Bridge to Terabithia', 'Finding Neverland', 'A Madea Christmas', 'The Grey', 'Hide and Seek', 'Anchorman: The Legend of Ron Burgundy', 'GoodFellas', 'Agent Cody Banks', 'Nanny McPhee', 'Scarface', 'Nothing to Lose', 'The Last Emperor', 'Contraband', 'Money Talks', 'There Will Be Blood', 'The Wild Thornberrys Movie', 'Rugrats Go Wild', 'Undercover Brother', 'The Sisterhood of the Traveling Pants', 'Kiss of the Dragon', 'The House Bunny', 'Beauty Shop', 'Million Dollar Arm', 'The Giver', 'What a Girl Wants', 'Jeepers Creepers 2', 'Good Luck Chuck', 'Cradle 2 the Grave', 'The Hours', \"She's the Man\", \"Mr. Bean's Holiday\", 'Anacondas: The Hunt for the Blood Orchid', 'Blood Ties', 'August Rush', 'Elizabeth', 'Bride of Chucky', 'Tora! Tora! Tora!', 'Spice World', 'The Sitter', 'Dance Flick', 'The Shawshank Redemption', 'Crocodile Dundee in Los Angeles', 'Kingpin', 'The Gambler', 'August: Osage County', 'Ice Princess', 'A Lot Like Love', 'Eddie the Eagle', 'He Got Game', 'Don Juan DeMarco', 'Dear John', 'The Losers', \"Don't Be Afraid of the Dark\", 'War', 'Punch-Drunk Love', 'EuroTrip', 'Half Past Dead', 'Unaccompanied Minors', 'Bright Lights, Big City', 'The Adventures of Pinocchio', 'The Greatest Game Ever Played', 'The Box', 'The Ruins', 'The Next Best Thing', 'My Soul to Take', 'The Girl Next Door', 'Maximum Risk', 'Stealing Harvard', 'Legend', 'Hot Rod', 'Shark Night', \"Angela's Ashes\", 'Draft Day', 'Lifeforce', 'The Conspirator', 'Lords of Dogtown', 'The 33', 'Big Trouble in Little China', 'Fly Me to the Moon', 'Warrior', 'Michael Collins', 'Gettysburg', 'Stop-Loss', 'Abandon', 'Brokedown Palace', 'The Possession', 'Mrs. Winterbourne', 'Straw Dogs', 'The Hoax', 'Stone Cold', 'The Road', 'Sheena', 'Underclassman', \"Say It Isn't So\", \"The World's Fastest Indian\", 'Tank Girl', \"King's Ransom\", 'Blindness', 'BloodRayne', 'Carnage', 'Where the Truth Lies', 'Cirque du Soleil: Worlds Away', 'Without Limits', 'Me and Orson Welles', 'The Best Offer', 'The Bad Lieutenant: Port of Call - New Orleans', \"A Turtle's Tale: Sammy's Adventures\", 'Little White Lies', 'Love Ranch', \"The True Story of Puss 'n Boots\", 'Space Dogs', 'The Counselor', 'Ironclad', 'Waterloo', 'Kung Fu Jungle', 'Red Sky', 'Dangerous Liaisons', 'On the Road', 'Star Trek IV: The Voyage Home', 'Rocky Balboa', 'Scream 2', 'Jane Got a Gun', 'Think Like a Man Too', 'The Whole Nine Yards', 'Footloose', 'Old School', 'The Fisher King', 'I Still Know What You Did Last Summer', 'Return to Me', 'Zack and Miri Make a Porno', 'Nurse Betty', 'The Men Who Stare at Goats', 'Double Take', 'Girl, Interrupted', 'Win a Date with Tad Hamilton!', 'Muppets from Space', 'The Wiz', 'Ready to Rumble', 'Play It to the Bone', \"I Don't Know How She Does It\", 'Piranha 3D', 'Beyond the Sea', 'Meet the Deedles', 'The Thief and the Cobbler', 'The Bridge of San Luis Rey', 'Faster', \"Howl's Moving Castle\", 'Zombieland', 'The Waterboy', 'The Empire Strikes Back', 'Bad Boys', 'The Naked Gun 2½: The Smell of Fear', 'Final Destination', 'The Ides of March', 'Pitch Black', 'Someone Like You...', 'Her', 'Joy Ride', 'The Adventurer: The Curse of the Midas Box', 'Anywhere But Here', 'The Crew', 'Haywire', 'Jaws: The Revenge', \"Marvin's Room\", 'The Longshots', 'The End of the Affair', 'Harley Davidson and the Marlboro Man', 'In the Valley of Elah', 'Coco Before Chanel', 'Forsaken', 'Cheri', 'Vanity Fair', 'Bodyguards and Assassins', '1408', 'Spaceballs', 'The Water Diviner', 'Ghost', \"There's Something About Mary\", 'The Santa Clause', 'The Rookie', 'The Game Plan', 'The Bridges of Madison County', 'The Animal', 'Gandhi', 'The Hundred-Foot Journey', 'The Net', 'I Am Sam', 'Son of God', 'Underworld', 'Derailed', 'The Informant!', 'Shadowlands', 'Deuce Bigalow: European Gigolo', 'Delivery Man', 'Our Kind of Traitor', 'Saving Silverman', 'Diary of a Wimpy Kid: Dog Days', 'Summer of Sam', 'Jay and Silent Bob Strike Back', 'The Glass House', 'Hail, Caesar!', 'Josie and the Pussycats', 'Homefront', 'The Little Vampire', 'I Heart Huckabees', 'RoboCop 3', 'Megiddo: The Omega Code 2', 'Darling Lili', 'Dudley Do-Right', 'The Transporter Refueled', 'The Libertine', 'Black Book', 'Joyeux Noël', 'Hit & Run', 'Mad Money', 'Before I Go to Sleep', 'Sorcerer', 'Stone', 'Moliere', 'Out of the Furnace', 'Michael Clayton', 'My Fellow Americans', 'Arlington Road', 'Underdogs', 'To Rome with Love', 'Firefox', 'South Park: Bigger, Longer & Uncut', 'Death at a Funeral', 'Teenage Mutant Ninja Turtles III', 'Hardball', 'Silver Linings Playbook', 'Freedom Writers', 'For Colored Girls', 'The Transporter', 'Never Back Down', 'The Rage: Carrie 2', 'Away We Go', 'Swing Vote', 'Moonlight Mile', 'Tinker Tailor Soldier Spy', 'Molly', 'The Beaver', 'The Best Little Whorehouse in Texas', 'eXistenZ', 'Raiders of the Lost Ark', 'Home Alone 2: Lost in New York', 'Close Encounters of the Third Kind', 'Pulse', 'Beverly Hills Cop II', 'Bringing Down the House', 'The Silence of the Lambs', \"Wayne's World\", 'Jackass 3D', 'Jaws 2', 'Beverly Hills Chihuahua', 'The Conjuring', 'Are We There Yet?', 'Tammy', 'School of Rock', 'Mortal Kombat', 'White Chicks', 'The Descendants', 'Holes', 'The Last Song', '12 Years a Slave', 'Drumline', 'Why Did I Get Married Too?', 'Edward Scissorhands', 'Me Before You', \"Madea's Witness Protection\", 'The French Connection', 'Bad Moms', 'Date Movie', 'Return to Never Land', 'Selma', 'The Jungle Book 2', 'Boogeyman', 'Premonition', 'The Tigger Movie', 'Orphan', 'Max', 'Epic Movie', 'Spotlight', 'Lakeview Terrace', 'The Grudge 2', 'How Stella Got Her Groove Back', \"Bill & Ted's Bogus Journey\", 'Man of the Year', 'The Black Hole', 'The American', 'Selena', 'Vampires Suck', 'Babel', 'This Is Where I Leave You', 'Doubt', 'Team America: World Police', 'Texas Chainsaw 3D', 'Copycat', 'Scary Movie 5', 'Paint Your Wagon', 'Milk', 'Risen', 'Ghost Ship', 'A Very Harold & Kumar Christmas', 'Wild Things', 'The Stepfather', 'The Debt', 'High Fidelity', 'One Missed Call', 'Eye for an Eye', 'The Bank Job', 'Eternal Sunshine of the Spotless Mind', 'You Again', 'Street Kings', \"The World's End\", 'Nancy Drew', 'Daybreakers']\n"
          ]
        }
      ]
    },
    {
      "cell_type": "code",
      "source": [
        "#finding the close match for the movie name given by the user\n",
        "find_close_match = difflib.get_close_matches(movie_name,list_of_all_titles)\n",
        "print(find_close_match)"
      ],
      "metadata": {
        "colab": {
          "base_uri": "https://localhost:8080/"
        },
        "id": "BtPHWnRGnj0G",
        "outputId": "b8aa39f1-9280-49bb-f9df-3e4198377080"
      },
      "execution_count": null,
      "outputs": [
        {
          "output_type": "stream",
          "name": "stdout",
          "text": [
            "['Iron Man', 'Gridiron Gang']\n"
          ]
        }
      ]
    },
    {
      "cell_type": "code",
      "source": [
        "close_match = find_close_match[0]\n",
        "print(close_match)"
      ],
      "metadata": {
        "colab": {
          "base_uri": "https://localhost:8080/"
        },
        "id": "0avc3Gx4qjYu",
        "outputId": "8339b508-f405-482b-8728-0a0ca5ef0e8a"
      },
      "execution_count": null,
      "outputs": [
        {
          "output_type": "stream",
          "name": "stdout",
          "text": [
            "Iron Man\n"
          ]
        }
      ]
    },
    {
      "cell_type": "code",
      "source": [
        "#find the index of the movie\n",
        "index_of_the_movie = movies_data[movies_data.title == close_match]['index'].values[0]\n",
        "print(index_of_the_movie)\n"
      ],
      "metadata": {
        "colab": {
          "base_uri": "https://localhost:8080/"
        },
        "id": "dz7gTN4EqxTL",
        "outputId": "8ded06ca-0fb0-45a9-a0ec-92c9831a2740"
      },
      "execution_count": null,
      "outputs": [
        {
          "output_type": "stream",
          "name": "stdout",
          "text": [
            "68\n"
          ]
        }
      ]
    },
    {
      "cell_type": "code",
      "source": [
        "#getting list of similar movies\n",
        "similarity_score = list(enumerate(similarity[index_of_the_movie]))\n",
        "print(similarity_score)"
      ],
      "metadata": {
        "colab": {
          "base_uri": "https://localhost:8080/"
        },
        "id": "8casoMaosVtE",
        "outputId": "60b71a4b-5fb3-4f05-cad2-89ed717e1368"
      },
      "execution_count": null,
      "outputs": [
        {
          "output_type": "stream",
          "name": "stdout",
          "text": [
            "[(0, 0.013661486482143808), (1, 0.03530319724406544), (2, 0.005145467408529855), (3, 0.005431092765892404), (4, 0.01306929881487099), (5, 0.005035024820347633), (6, 0.05780341661916248), (7, 0.14104865755217136), (8, 0.0), (9, 0.031031958774738178), (10, 0.0), (11, 0.004497770429534954), (12, 0.0), (13, 0.004720937893807882), (14, 0.03984356850330205), (15, 0.0), (16, 0.17949520859346263), (17, 0.004808167653111434), (18, 0.013226588103473439), (19, 0.004337323786820451), (20, 0.05904378817169118), (21, 0.004375700786293635), (22, 0.0), (23, 0.0), (24, 0.0), (25, 0.0), (26, 0.15423293299920454), (27, 0.012462096307755126), (28, 0.05643782821284146), (29, 0.005187393054322929), (30, 0.060392806085069924), (31, 0.21454087923363185), (32, 0.023074301409517883), (33, 0.11399018792247922), (34, 0.0), (35, 0.029750083858277456), (36, 0.02747438032350352), (37, 0.0), (38, 0.08781011455467204), (39, 0.07666731464451912), (40, 0.0), (41, 0.01298223611890692), (42, 0.0), (43, 0.027698331602412172), (44, 0.0), (45, 0.025707016080403284), (46, 0.11088450565868463), (47, 0.014802378953503031), (48, 0.005306723166204917), (49, 0.0), (50, 0.005034469224417778), (51, 0.02409278340728338), (52, 0.02453520440387389), (53, 0.0), (54, 0.04368206600428973), (55, 0.0), (56, 0.0), (57, 0.029581262695940108), (58, 0.005792353956979278), (59, 0.013207358721354444), (60, 0.0), (61, 0.02809010069219247), (62, 0.004965493838562066), (63, 0.0), (64, 0.0909263792389573), (65, 0.0050502065012312325), (66, 0.0), (67, 0.009121851682628163), (68, 1.0000000000000002), (69, 0.0), (70, 0.02773967741336706), (71, 0.0), (72, 0.013460123170349484), (73, 0.0), (74, 0.014151999497268697), (75, 0.0), (76, 0.03505200297481542), (77, 0.0), (78, 0.0), (79, 0.23211575599935208), (80, 0.0), (81, 0.0042413319379665), (82, 0.02879640748152916), (83, 0.0), (84, 0.004191746114515755), (85, 0.09324450371139793), (86, 0.0), (87, 0.008737361023770951), (88, 0.004805586435412488), (89, 0.0), (90, 0.0), (91, 0.05981821919625932), (92, 0.0), (93, 0.013272042134771504), (94, 0.05067735013538071), (95, 0.046120184407054475), (96, 0.02673567509228488), (97, 0.011638525944372764), (98, 0.0), (99, 0.004716219845077624), (100, 0.0), (101, 0.08872697085502994), (102, 0.014448379715793318), (103, 0.004923166096578202), (104, 0.00519623314644871), (105, 0.0), (106, 0.0), (107, 0.021921610602291343), (108, 0.02820271820695476), (109, 0.0), (110, 0.020847713394110998), (111, 0.024393137306835684), (112, 0.004866631841718866), (113, 0.0), (114, 0.0), (115, 0.0), (116, 0.012345289955634286), (117, 0.0), (118, 0.0), (119, 0.005043255250479041), (120, 0.0), (121, 0.004680859988104238), (122, 0.047442387037154345), (123, 0.013032024430087592), (124, 0.0), (125, 0.01322941156474667), (126, 0.054533822958995046), (127, 0.02909354071034969), (128, 0.0), (129, 0.05751148931981411), (130, 0.0), (131, 0.05812698414028767), (132, 0.0), (133, 0.0), (134, 0.0049076949103584915), (135, 0.0), (136, 0.0), (137, 0.0), (138, 0.05725262350910049), (139, 0.004384270016616027), (140, 0.00497128195242152), (141, 0.0), (142, 0.0), (143, 0.0), (144, 0.0), (145, 0.0), (146, 0.03794545713430292), (147, 0.004453943981357206), (148, 0.0050173973297654014), (149, 0.026109870968767778), (150, 0.013423324935048341), (151, 0.004773649125560778), (152, 0.004766883552933048), (153, 0.004741378507779025), (154, 0.0), (155, 0.0), (156, 0.004030684230717493), (157, 0.0), (158, 0.028367204761551947), (159, 0.0), (160, 0.004803740313179709), (161, 0.0), (162, 0.0), (163, 0.035191943950107), (164, 0.010126610517508067), (165, 0.015310501733116797), (166, 0.0), (167, 0.005183484954496279), (168, 0.013687287100888257), (169, 0.04284546886879373), (170, 0.0172879646327268), (171, 0.0), (172, 0.015404285311976403), (173, 0.0), (174, 0.09553847722831227), (175, 0.0), (176, 0.0), (177, 0.0), (178, 0.0), (179, 0.0), (180, 0.005161869175509635), (181, 0.0), (182, 0.0755055091834003), (183, 0.014434050853531975), (184, 0.024973701842163964), (185, 0.03294378803906248), (186, 0.004350399545177689), (187, 0.00464160148069008), (188, 0.005126708200105378), (189, 0.0), (190, 0.0), (191, 0.0), (192, 0.0), (193, 0.029750248897683497), (194, 0.0), (195, 0.0), (196, 0.014173121275863454), (197, 0.0), (198, 0.039939284138118085), (199, 0.03703046193301263), (200, 0.023354754089949258), (201, 0.03341652314804832), (202, 0.0), (203, 0.10015128859673361), (204, 0.004911044453205043), (205, 0.08161313996226646), (206, 0.0), (207, 0.012573256951224587), (208, 0.0), (209, 0.004989672135074327), (210, 0.004763539745018826), (211, 0.03138234787472177), (212, 0.026619559214382662), (213, 0.005335789178833446), (214, 0.0), (215, 0.005225735551487627), (216, 0.0), (217, 0.004553022658163193), (218, 0.005610005889655819), (219, 0.022479518447608583), (220, 0.02054808010075968), (221, 0.0), (222, 0.028855975656683415), (223, 0.01239058302333371), (224, 0.013148735751123557), (225, 0.01497380135698376), (226, 0.0), (227, 0.004776368006048371), (228, 0.0260493636292813), (229, 0.022609773156161778), (230, 0.011578869416075162), (231, 0.0), (232, 0.05364760554678616), (233, 0.01164239353230626), (234, 0.0), (235, 0.0), (236, 0.004860554617224023), (237, 0.004753699962501667), (238, 0.025356961826859307), (239, 0.02213573380912399), (240, 0.004881174469773588), (241, 0.031112547637978445), (242, 0.046720235317410465), (243, 0.004769218601135952), (244, 0.00412959373573617), (245, 0.004262717212580478), (246, 0.0), (247, 0.0), (248, 0.005265768201110411), (249, 0.02239487143108248), (250, 0.0), (251, 0.0), (252, 0.0050784428280027825), (253, 0.0042703794958285956), (254, 0.024592840714129618), (255, 0.0), (256, 0.008629589347491346), (257, 0.027882120610631306), (258, 0.0), (259, 0.004484268227180951), (260, 0.027449334040240775), (261, 0.005331949899674197), (262, 0.0), (263, 0.019712326855527307), (264, 0.0), (265, 0.0), (266, 0.013820792430877636), (267, 0.004166779675931503), (268, 0.0), (269, 0.0), (270, 0.03856050746725992), (271, 0.029879514786914765), (272, 0.0), (273, 0.004745651251354016), (274, 0.005121357463360881), (275, 0.0254984793547917), (276, 0.0), (277, 0.004831941426938598), (278, 0.06252284935290951), (279, 0.031180234191711752), (280, 0.0), (281, 0.0), (282, 0.004235475434972837), (283, 0.0), (284, 0.016035518178591182), (285, 0.004497717323306035), (286, 0.02078262244563071), (287, 0.0), (288, 0.0), (289, 0.0), (290, 0.005244270278261026), (291, 0.00455431571512794), (292, 0.016965393499385206), (293, 0.0), (294, 0.0), (295, 0.004619393263922221), (296, 0.005067310020235041), (297, 0.0), (298, 0.0), (299, 0.005097584895662213), (300, 0.011328880620367281), (301, 0.009364201564792006), (302, 0.0), (303, 0.005301412635464727), (304, 0.0047544051583468415), (305, 0.008779673671482417), (306, 0.009000533691412311), (307, 0.08953392269556068), (308, 0.00444519120157073), (309, 0.03456488797117487), (310, 0.0351811263561604), (311, 0.014203894729629081), (312, 0.0044280768204115455), (313, 0.022654807183008597), (314, 0.0), (315, 0.00429681696928238), (316, 0.04229487530772662), (317, 0.0), (318, 0.05715840351841283), (319, 0.014540665037388356), (320, 0.005261566360707522), (321, 0.0), (322, 0.014676985783875607), (323, 0.0), (324, 0.01972081722071683), (325, 0.0), (326, 0.0), (327, 0.0), (328, 0.037671765861171186), (329, 0.0), (330, 0.0), (331, 0.04702802998271155), (332, 0.004080518649152414), (333, 0.021232306482542353), (334, 0.012937971352071875), (335, 0.013786485467502088), (336, 0.0), (337, 0.0034181350635751778), (338, 0.0), (339, 0.005424655888775259), (340, 0.0039012648746142822), (341, 0.0), (342, 0.0126760928894605), (343, 0.0), (344, 0.0040695992825521225), (345, 0.031164851042931953), (346, 0.0), (347, 0.0), (348, 0.0), (349, 0.0), (350, 0.005630329609842056), (351, 0.0), (352, 0.0), (353, 0.11614054978431115), (354, 0.0), (355, 0.004940384479805322), (356, 0.08246429443348761), (357, 0.0), (358, 0.009284533111300543), (359, 0.0), (360, 0.020085034317937584), (361, 0.039895195853646426), (362, 0.015091784431438313), (363, 0.01538385983925631), (364, 0.0), (365, 0.020150131538179492), (366, 0.03164103818373057), (367, 0.0), (368, 0.0), (369, 0.004240720016025917), (370, 0.004965583308419866), (371, 0.022320088652533963), (372, 0.01877101767432958), (373, 0.0093496840353533), (374, 0.0), (375, 0.008104062450983551), (376, 0.026665439941457633), (377, 0.0152196463532041), (378, 0.0), (379, 0.0), (380, 0.027392251799531087), (381, 0.0), (382, 0.06010182526842986), (383, 0.004544975942871485), (384, 0.0), (385, 0.0), (386, 0.0049630265474997545), (387, 0.004836704126583437), (388, 0.0), (389, 0.018353118464465107), (390, 0.0), (391, 0.0), (392, 0.004831566247537982), (393, 0.0), (394, 0.00498679029211042), (395, 0.0), (396, 0.051932736713118786), (397, 0.0), (398, 0.0), (399, 0.0), (400, 0.012050477880745179), (401, 0.04383137459287973), (402, 0.02846183091867676), (403, 0.004419803709326258), (404, 0.0), (405, 0.0040151416215438215), (406, 0.0), (407, 0.0), (408, 0.004793877327151923), (409, 0.0), (410, 0.008417985701477322), (411, 0.00375804943914654), (412, 0.013299764291150788), (413, 0.008981102336164348), (414, 0.024595069517737343), (415, 0.014947498054462514), (416, 0.0), (417, 0.0), (418, 0.0), (419, 0.009690383371644769), (420, 0.008499514610114509), (421, 0.07184475453062496), (422, 0.008607850793431484), (423, 0.0), (424, 0.0), (425, 0.005321059547283196), (426, 0.02169705549517334), (427, 0.0), (428, 0.005119152183474411), (429, 0.0), (430, 0.0), (431, 0.0), (432, 0.020362736917842746), (433, 0.005323626656076792), (434, 0.0), (435, 0.0), (436, 0.0), (437, 0.005306105513048888), (438, 0.0), (439, 0.0), (440, 0.014370387731187446), (441, 0.034007418307759385), (442, 0.02371291585975527), (443, 0.019413650635471853), (444, 0.0), (445, 0.0), (446, 0.025244829203514032), (447, 0.0), (448, 0.0), (449, 0.012490061571691006), (450, 0.008381516175467679), (451, 0.041141321940960526), (452, 0.0), (453, 0.005233773961515289), (454, 0.020951417879526563), (455, 0.004707757834062083), (456, 0.0), (457, 0.050189199676952664), (458, 0.0), (459, 0.026773805384253512), (460, 0.0), (461, 0.009367458829144117), (462, 0.0), (463, 0.0), (464, 0.0256247449217981), (465, 0.0), (466, 0.023823437044345863), (467, 0.005457354248125059), (468, 0.004752458373564291), (469, 0.004349128785399081), (470, 0.022095622495376638), (471, 0.020208739375319015), (472, 0.0048353075101248396), (473, 0.008562014032127183), (474, 0.0), (475, 0.004043031106244517), (476, 0.027853219975596345), (477, 0.0), (478, 0.004858487304522683), (479, 0.0), (480, 0.027853649793100184), (481, 0.0), (482, 0.0), (483, 0.012089283430147531), (484, 0.0), (485, 0.0), (486, 0.004685557634633911), (487, 0.020562270165213795), (488, 0.0), (489, 0.0), (490, 0.021752684916812214), (491, 0.004534904588661285), (492, 0.0), (493, 0.030736029245499737), (494, 0.0), (495, 0.013108881451136867), (496, 0.0), (497, 0.0), (498, 0.0), (499, 0.0), (500, 0.004856009079095156), (501, 0.06459679803530473), (502, 0.017806819285784075), (503, 0.01835053990038666), (504, 0.020674589547110236), (505, 0.01316085759806097), (506, 0.0), (507, 0.03938135581911369), (508, 0.04174204103022499), (509, 0.0), (510, 0.013405944826841916), (511, 0.10273872096697592), (512, 0.005268841522736362), (513, 0.004183461163703676), (514, 0.0), (515, 0.0), (516, 0.0), (517, 0.0), (518, 0.005604817934790294), (519, 0.0), (520, 0.0), (521, 0.0), (522, 0.0), (523, 0.005058726622955198), (524, 0.0), (525, 0.018400191754104196), (526, 0.0), (527, 0.0), (528, 0.003638271076859368), (529, 0.004418957918395757), (530, 0.005675264503691973), (531, 0.004491543234489622), (532, 0.0), (533, 0.0), (534, 0.005510840364137815), (535, 0.004628172732943062), (536, 0.0), (537, 0.004806152581895858), (538, 0.0), (539, 0.029867817794431973), (540, 0.0), (541, 0.011096925603761777), (542, 0.024517661413262275), (543, 0.004173849695752263), (544, 0.004769220292615656), (545, 0.0422626175585627), (546, 0.02010769923933516), (547, 0.005052226943578536), (548, 0.0), (549, 0.007785701892711281), (550, 0.0), (551, 0.0), (552, 0.0), (553, 0.004861766221734711), (554, 0.0), (555, 0.0), (556, 0.004403552265938479), (557, 0.0), (558, 0.0), (559, 0.0), (560, 0.01508259268008238), (561, 0.0), (562, 0.030704724879597304), (563, 0.0), (564, 0.04096762055644239), (565, 0.0), (566, 0.0), (567, 0.0), (568, 0.004702784146097583), (569, 0.0), (570, 0.03634199068795888), (571, 0.004568113016060902), (572, 0.0), (573, 0.005373599392976402), (574, 0.052612734434164685), (575, 0.02284675468811579), (576, 0.0), (577, 0.021824363961291282), (578, 0.019998576378223953), (579, 0.0039015142551060635), (580, 0.00465337333950733), (581, 0.025126520390552354), (582, 0.013084594955327558), (583, 0.0), (584, 0.0), (585, 0.0), (586, 0.0), (587, 0.011540876147423669), (588, 0.0), (589, 0.004832765043459931), (590, 0.004716084724258717), (591, 0.01626168144331706), (592, 0.0), (593, 0.03071735766402457), (594, 0.004872965197667808), (595, 0.004586388071992628), (596, 0.00519302186402849), (597, 0.005143604990441486), (598, 0.0), (599, 0.06956267036157343), (600, 0.025481038966320275), (601, 0.029308486032490314), (602, 0.0), (603, 0.0), (604, 0.004722913527981898), (605, 0.0), (606, 0.0), (607, 0.06638690534457757), (608, 0.0), (609, 0.014248621474271615), (610, 0.004683599188338239), (611, 0.004473778316502403), (612, 0.016562518653164483), (613, 0.004684698049845156), (614, 0.0), (615, 0.018654579076081448), (616, 0.0), (617, 0.0), (618, 0.056716395725181556), (619, 0.0), (620, 0.0), (621, 0.004574667731268757), (622, 0.005062305479206254), (623, 0.0), (624, 0.004395169218739574), (625, 0.0), (626, 0.024453372119303405), (627, 0.0036863887606159488), (628, 0.0), (629, 0.004032067099439996), (630, 0.0), (631, 0.03803409477249065), (632, 0.02286842479645273), (633, 0.0), (634, 0.013383198577778602), (635, 0.03381951626432158), (636, 0.0), (637, 0.0), (638, 0.0), (639, 0.0), (640, 0.004597379101259844), (641, 0.058541862224537104), (642, 0.0), (643, 0.005119577317122095), (644, 0.00501467379629547), (645, 0.004996214899936984), (646, 0.017485515890951306), (647, 0.0), (648, 0.0), (649, 0.0), (650, 0.0), (651, 0.0), (652, 0.014672749409101753), (653, 0.004907856878296752), (654, 0.027151223015410387), (655, 0.0), (656, 0.0), (657, 0.014073504856396482), (658, 0.013038518184168721), (659, 0.00491777915032334), (660, 0.0), (661, 0.07436328093688183), (662, 0.0), (663, 0.0), (664, 0.004846118813389231), (665, 0.023269721541309178), (666, 0.0), (667, 0.0), (668, 0.029899356848856903), (669, 0.0), (670, 0.020142577397455206), (671, 0.0), (672, 0.0), (673, 0.006596801868798221), (674, 0.01716488166539324), (675, 0.03432121209799576), (676, 0.00455078314297716), (677, 0.004619293058822126), (678, 0.0), (679, 0.0), (680, 0.0042628030427058145), (681, 0.0), (682, 0.0), (683, 0.004419391874472002), (684, 0.0), (685, 0.004966755315497718), (686, 0.0), (687, 0.00492580118728668), (688, 0.01588683347293619), (689, 0.0), (690, 0.0), (691, 0.004297631001675264), (692, 0.0), (693, 0.0), (694, 0.004603520058196424), (695, 0.00444032840666015), (696, 0.0), (697, 0.0), (698, 0.0), (699, 0.029237402937087004), (700, 0.03168718342034538), (701, 0.025865744930963157), (702, 0.005050185108071844), (703, 0.014559414904072773), (704, 0.0), (705, 0.0), (706, 0.016768213856415352), (707, 0.0), (708, 0.0), (709, 0.0), (710, 0.0), (711, 0.00444194776679787), (712, 0.0), (713, 0.0), (714, 0.0), (715, 0.005750235386707098), (716, 0.02116631638519724), (717, 0.0), (718, 0.0234595596767538), (719, 0.0), (720, 0.04931518925562325), (721, 0.0), (722, 0.0), (723, 0.007362048966236097), (724, 0.004770081464287891), (725, 0.07055593246781455), (726, 0.026116127539033314), (727, 0.0), (728, 0.012283233962389013), (729, 0.01661374073094083), (730, 0.0), (731, 0.0050576145213120805), (732, 0.03088080189858334), (733, 0.01489866825317195), (734, 0.0), (735, 0.01908322524332079), (736, 0.004238290297534007), (737, 0.005187286370564799), (738, 0.0), (739, 0.0045566859590878885), (740, 0.02297089463283189), (741, 0.004666844924581924), (742, 0.0), (743, 0.0), (744, 0.0047016519047591455), (745, 0.0045045415466443), (746, 0.004579324885937191), (747, 0.005150149023025347), (748, 0.0), (749, 0.0), (750, 0.0), (751, 0.0), (752, 0.031192719039646398), (753, 0.004773281475380977), (754, 0.01972194826566372), (755, 0.027643781765044215), (756, 0.0), (757, 0.0), (758, 0.0), (759, 0.0), (760, 0.0), (761, 0.018707918588754573), (762, 0.005126889437354833), (763, 0.05904902486585356), (764, 0.0), (765, 0.0), (766, 0.0), (767, 0.0050464285208222485), (768, 0.029454329135398485), (769, 0.0), (770, 0.02311831208186208), (771, 0.019379422409440482), (772, 0.0), (773, 0.00548298971887666), (774, 0.0057036349487872414), (775, 0.034555986384549146), (776, 0.0), (777, 0.02091769834286053), (778, 0.02234418663246726), (779, 0.0), (780, 0.02624520320300882), (781, 0.0), (782, 0.03676626110225119), (783, 0.0816232658317333), (784, 0.005118909190283153), (785, 0.0), (786, 0.0), (787, 0.0041730807732846065), (788, 0.08214268971264951), (789, 0.04033294245220179), (790, 0.0), (791, 0.0), (792, 0.0), (793, 0.02287798342968396), (794, 0.003943562871163343), (795, 0.0), (796, 0.0), (797, 0.027234974802886728), (798, 0.0), (799, 0.012461505301031767), (800, 0.06640683294941528), (801, 0.0), (802, 0.0), (803, 0.0), (804, 0.005067117443725767), (805, 0.03295781763055311), (806, 0.0), (807, 0.0050843655633002844), (808, 0.004796219160893317), (809, 0.0), (810, 0.0), (811, 0.015397211015073364), (812, 0.0), (813, 0.013180920060011921), (814, 0.008369166725681935), (815, 0.0), (816, 0.0), (817, 0.0), (818, 0.005007882545664307), (819, 0.0), (820, 0.0), (821, 0.004619736809000698), (822, 0.0), (823, 0.005136071848989232), (824, 0.0), (825, 0.0), (826, 0.0), (827, 0.0), (828, 0.005057472917741065), (829, 0.0), (830, 0.004293087137056235), (831, 0.004116602882111789), (832, 0.0), (833, 0.04254103111502355), (834, 0.005327023068300711), (835, 0.0), (836, 0.004635751852739216), (837, 0.0), (838, 0.02741998363225154), (839, 0.0), (840, 0.0625274750086864), (841, 0.0), (842, 0.0), (843, 0.0), (844, 0.004751958341457969), (845, 0.0), (846, 0.0), (847, 0.0), (848, 0.0), (849, 0.0), (850, 0.028177308693207184), (851, 0.012762648542591725), (852, 0.0), (853, 0.0), (854, 0.012581258036895263), (855, 0.03815800376381866), (856, 0.004508647413063477), (857, 0.0), (858, 0.0), (859, 0.0), (860, 0.0), (861, 0.0), (862, 0.018650025325453037), (863, 0.004986684904889479), (864, 0.004648273361226698), (865, 0.0), (866, 0.0), (867, 0.0), (868, 0.0), (869, 0.0), (870, 0.03786918588162719), (871, 0.0), (872, 0.0), (873, 0.004861034679831794), (874, 0.0), (875, 0.0), (876, 0.0), (877, 0.0), (878, 0.01751332716718101), (879, 0.0), (880, 0.004474124443267304), (881, 0.0), (882, 0.09433729584521312), (883, 0.0), (884, 0.0), (885, 0.0), (886, 0.0), (887, 0.0), (888, 0.004853168557765371), (889, 0.0), (890, 0.0), (891, 0.0), (892, 0.01565939934780049), (893, 0.0047867800736356644), (894, 0.004177648176389361), (895, 0.01759746413930961), (896, 0.0), (897, 0.0), (898, 0.016100292866309263), (899, 0.0), (900, 0.024041258727535965), (901, 0.0), (902, 0.02428267867961064), (903, 0.0), (904, 0.022440775399694142), (905, 0.0), (906, 0.0), (907, 0.0), (908, 0.02361754527376138), (909, 0.0), (910, 0.0), (911, 0.025637429419330223), (912, 0.0), (913, 0.0), (914, 0.004467116744897544), (915, 0.0), (916, 0.0), (917, 0.0), (918, 0.0), (919, 0.004965314055093155), (920, 0.01343913587906102), (921, 0.0), (922, 0.013930350040897578), (923, 0.0), (924, 0.0), (925, 0.0), (926, 0.0), (927, 0.0), (928, 0.0), (929, 0.045181869708794446), (930, 0.004583941046019411), (931, 0.023126806695736662), (932, 0.003613215775091065), (933, 0.004656989966811413), (934, 0.0), (935, 0.0), (936, 0.0), (937, 0.0), (938, 0.0), (939, 0.021771633552288516), (940, 0.04413868411597128), (941, 0.004137725945426753), (942, 0.0), (943, 0.0), (944, 0.0), (945, 0.046445027017333176), (946, 0.0), (947, 0.0), (948, 0.0), (949, 0.0), (950, 0.004224282271443931), (951, 0.004668869407240842), (952, 0.0), (953, 0.05205565174181509), (954, 0.10106576643085935), (955, 0.004507642083119932), (956, 0.039132528589153184), (957, 0.0), (958, 0.0), (959, 0.004283236376651935), (960, 0.009081742849795432), (961, 0.0), (962, 0.0), (963, 0.0044758060110736434), (964, 0.0), (965, 0.03302780048438992), (966, 0.0), (967, 0.0), (968, 0.0), (969, 0.004485730505419527), (970, 0.0), (971, 0.0), (972, 0.028076474773068155), (973, 0.004499861199421563), (974, 0.02472578238701469), (975, 0.0), (976, 0.028327251975613026), (977, 0.029886951463100046), (978, 0.0), (979, 0.004940271227978419), (980, 0.0), (981, 0.0), (982, 0.005019198908755159), (983, 0.0), (984, 0.005155644559812741), (985, 0.0), (986, 0.0), (987, 0.0), (988, 0.01920183736711847), (989, 0.0043976112603593), (990, 0.02598825254525043), (991, 0.0), (992, 0.004823018690039759), (993, 0.0049524686450326035), (994, 0.010992451448366223), (995, 0.0), (996, 0.0), (997, 0.0), (998, 0.0), (999, 0.0069071673106496844), (1000, 0.0046677260470698), (1001, 0.024840600701432874), (1002, 0.030030003173923958), (1003, 0.004217527157703869), (1004, 0.0), (1005, 0.03342673222849707), (1006, 0.0), (1007, 0.0), (1008, 0.009845857300477764), (1009, 0.0), (1010, 0.0), (1011, 0.0), (1012, 0.005047754508444649), (1013, 0.0), (1014, 0.022545159443618484), (1015, 0.07249750086533549), (1016, 0.04414588555080542), (1017, 0.0), (1018, 0.0035779481844022336), (1019, 0.0), (1020, 0.0), (1021, 0.0), (1022, 0.0), (1023, 0.0), (1024, 0.04252478789284259), (1025, 0.0), (1026, 0.0), (1027, 0.004730329677663444), (1028, 0.0), (1029, 0.0711689891950561), (1030, 0.0), (1031, 0.0), (1032, 0.0), (1033, 0.0), (1034, 0.027585729909760753), (1035, 0.005040765049426672), (1036, 0.0), (1037, 0.0), (1038, 0.0), (1039, 0.0), (1040, 0.0), (1041, 0.06240165374072013), (1042, 0.0), (1043, 0.0), (1044, 0.024320316714179877), (1045, 0.0), (1046, 0.0), (1047, 0.0), (1048, 0.0), (1049, 0.004465219789186408), (1050, 0.0), (1051, 0.0), (1052, 0.03655245796407075), (1053, 0.008753244870535807), (1054, 0.0), (1055, 0.02434465703550204), (1056, 0.0), (1057, 0.01490948077211486), (1058, 0.02266985589860533), (1059, 0.0), (1060, 0.0), (1061, 0.0), (1062, 0.0), (1063, 0.0), (1064, 0.0038357157635420186), (1065, 0.0), (1066, 0.0), (1067, 0.012768041107646634), (1068, 0.008908081729691326), (1069, 0.0), (1070, 0.013720059438151673), (1071, 0.0), (1072, 0.0), (1073, 0.0049571874555599405), (1074, 0.0), (1075, 0.0), (1076, 0.004801894157916891), (1077, 0.003892460630482317), (1078, 0.0), (1079, 0.024015606303961396), (1080, 0.0), (1081, 0.0), (1082, 0.0039521100837175), (1083, 0.028795066213940866), (1084, 0.004454370424419679), (1085, 0.00741935245397318), (1086, 0.029311274558837645), (1087, 0.0), (1088, 0.0), (1089, 0.0), (1090, 0.01541028186790516), (1091, 0.0), (1092, 0.0), (1093, 0.013143075334949069), (1094, 0.0), (1095, 0.004300277743574155), (1096, 0.004651401651773298), (1097, 0.02427475643717687), (1098, 0.0), (1099, 0.0), (1100, 0.0046264497818279925), (1101, 0.004647928937231884), (1102, 0.0), (1103, 0.004466283128350653), (1104, 0.0), (1105, 0.014926284812718195), (1106, 0.004365809853246778), (1107, 0.0), (1108, 0.0), (1109, 0.004004109036815323), (1110, 0.02710659608530717), (1111, 0.019085017630260014), (1112, 0.0), (1113, 0.0), (1114, 0.005528249224622962), (1115, 0.0), (1116, 0.0), (1117, 0.0), (1118, 0.005028014798195317), (1119, 0.020316448102561138), (1120, 0.0), (1121, 0.0), (1122, 0.0), (1123, 0.0), (1124, 0.004963679177755063), (1125, 0.0), (1126, 0.0), (1127, 0.0), (1128, 0.06794152508870989), (1129, 0.0), (1130, 0.0), (1131, 0.019664600280050633), (1132, 0.0), (1133, 0.004957853179189814), (1134, 0.0), (1135, 0.04646885419704523), (1136, 0.0043859823325578745), (1137, 0.004690233381069085), (1138, 0.00419438237079427), (1139, 0.005052519984300865), (1140, 0.004479520363459071), (1141, 0.0), (1142, 0.0), (1143, 0.0), (1144, 0.0), (1145, 0.0), (1146, 0.004440101010239059), (1147, 0.0), (1148, 0.0), (1149, 0.0), (1150, 0.0), (1151, 0.0), (1152, 0.03050115019524474), (1153, 0.010163096021249509), (1154, 0.0), (1155, 0.013535168308735007), (1156, 0.0), (1157, 0.019570908412847417), (1158, 0.00480454608492844), (1159, 0.0), (1160, 0.0), (1161, 0.0), (1162, 0.0), (1163, 0.0), (1164, 0.0), (1165, 0.024611713332190567), (1166, 0.0), (1167, 0.0), (1168, 0.0), (1169, 0.0), (1170, 0.03800668035079527), (1171, 0.026595739255607254), (1172, 0.0), (1173, 0.0), (1174, 0.0041938761954049735), (1175, 0.004303500931702713), (1176, 0.0), (1177, 0.024179337964025358), (1178, 0.004929722797519806), (1179, 0.0), (1180, 0.03792940868058749), (1181, 0.0), (1182, 0.0), (1183, 0.005878368621909085), (1184, 0.021617381805626532), (1185, 0.0), (1186, 0.0), (1187, 0.0), (1188, 0.00460544196760616), (1189, 0.0), (1190, 0.0), (1191, 0.019636958437546082), (1192, 0.035493077071259385), (1193, 0.004188510479304363), (1194, 0.0), (1195, 0.00490596915027999), (1196, 0.0), (1197, 0.0), (1198, 0.008355894010007874), (1199, 0.004303028244548716), (1200, 0.048736782335574096), (1201, 0.025990358636906467), (1202, 0.010351746841777879), (1203, 0.0), (1204, 0.0), (1205, 0.0), (1206, 0.0), (1207, 0.0), (1208, 0.0), (1209, 0.0), (1210, 0.10581481744085684), (1211, 0.0), (1212, 0.0), (1213, 0.02423871150033053), (1214, 0.0), (1215, 0.0), (1216, 0.0), (1217, 0.0076470524686662955), (1218, 0.0), (1219, 0.0), (1220, 0.0), (1221, 0.0), (1222, 0.019098012359985043), (1223, 0.0), (1224, 0.0), (1225, 0.0), (1226, 0.0), (1227, 0.0), (1228, 0.0), (1229, 0.0), (1230, 0.013535181409524987), (1231, 0.0), (1232, 0.02486126182758072), (1233, 0.03333526494755736), (1234, 0.00477211064951511), (1235, 0.0), (1236, 0.0), (1237, 0.01730735054462329), (1238, 0.00862290131549896), (1239, 0.0046621355408111445), (1240, 0.0), (1241, 0.0), (1242, 0.0), (1243, 0.014181348620529017), (1244, 0.02112852522116858), (1245, 0.004863741151937547), (1246, 0.0), (1247, 0.038240243689160625), (1248, 0.0), (1249, 0.04178395902739517), (1250, 0.0), (1251, 0.013013155328783391), (1252, 0.0), (1253, 0.0), (1254, 0.005057350103839382), (1255, 0.0), (1256, 0.0), (1257, 0.0), (1258, 0.0), (1259, 0.009727334427601627), (1260, 0.0), (1261, 0.0), (1262, 0.0), (1263, 0.0), (1264, 0.0), (1265, 0.0), (1266, 0.004628785021013656), (1267, 0.0), (1268, 0.0), (1269, 0.0), (1270, 0.012905744797866478), (1271, 0.02504226421433974), (1272, 0.04937541591048155), (1273, 0.005718565360574305), (1274, 0.06320120385425984), (1275, 0.021559792365137193), (1276, 0.0), (1277, 0.0), (1278, 0.005715917076882041), (1279, 0.004706615606119202), (1280, 0.0), (1281, 0.004354637325939575), (1282, 0.08664455316588396), (1283, 0.0), (1284, 0.0), (1285, 0.0), (1286, 0.022484976312855016), (1287, 0.0), (1288, 0.0), (1289, 0.0054495133681499806), (1290, 0.0), (1291, 0.0), (1292, 0.0), (1293, 0.0), (1294, 0.027215787061373155), (1295, 0.0), (1296, 0.010930387615135526), (1297, 0.0), (1298, 0.0), (1299, 0.022497577500581498), (1300, 0.0), (1301, 0.0), (1302, 0.005040329372864306), (1303, 0.026812272460217917), (1304, 0.003425365257930843), (1305, 0.016109770658755875), (1306, 0.0), (1307, 0.0), (1308, 0.0), (1309, 0.0), (1310, 0.0045152412017693665), (1311, 0.07252585525470573), (1312, 0.0), (1313, 0.0), (1314, 0.0), (1315, 0.0), (1316, 0.0), (1317, 0.0), (1318, 0.008368502211693793), (1319, 0.027420427404119187), (1320, 0.005072863871514673), (1321, 0.0), (1322, 0.0), (1323, 0.0), (1324, 0.0), (1325, 0.0), (1326, 0.008229633650705856), (1327, 0.0), (1328, 0.0), (1329, 0.0), (1330, 0.0), (1331, 0.0), (1332, 0.02915438525101448), (1333, 0.0), (1334, 0.004544125417937653), (1335, 0.02561779844930882), (1336, 0.023960736860132954), (1337, 0.015330525952192444), (1338, 0.014009746134943244), (1339, 0.004703606491191124), (1340, 0.0), (1341, 0.0), (1342, 0.005221540286089475), (1343, 0.004553072211304437), (1344, 0.02124952284841672), (1345, 0.024127313030876136), (1346, 0.0), (1347, 0.004484189596531193), (1348, 0.0), (1349, 0.0), (1350, 0.0), (1351, 0.0), (1352, 0.021767871561794376), (1353, 0.0), (1354, 0.02756078871110885), (1355, 0.0), (1356, 0.0), (1357, 0.0), (1358, 0.026744519401244636), (1359, 0.0), (1360, 0.0), (1361, 0.004414921113658065), (1362, 0.0), (1363, 0.004602294362700931), (1364, 0.0), (1365, 0.05897129880792332), (1366, 0.0), (1367, 0.021569448724802417), (1368, 0.0), (1369, 0.014442225008145768), (1370, 0.0), (1371, 0.0), (1372, 0.0), (1373, 0.0), (1374, 0.0), (1375, 0.0), (1376, 0.0), (1377, 0.023942454030978937), (1378, 0.0), (1379, 0.022093624620067292), (1380, 0.004901175822086104), (1381, 0.0), (1382, 0.0), (1383, 0.024852952353904077), (1384, 0.0), (1385, 0.0), (1386, 0.0), (1387, 0.0), (1388, 0.0), (1389, 0.0), (1390, 0.02898982599168117), (1391, 0.0), (1392, 0.0), (1393, 0.0), (1394, 0.0), (1395, 0.013298643839427617), (1396, 0.024472160875580105), (1397, 0.0), (1398, 0.03668409657538716), (1399, 0.014778007310886894), (1400, 0.0), (1401, 0.0), (1402, 0.0), (1403, 0.0), (1404, 0.00378902297226984), (1405, 0.0), (1406, 0.09753376318593693), (1407, 0.0), (1408, 0.0), (1409, 0.0), (1410, 0.0), (1411, 0.0), (1412, 0.02256535708543376), (1413, 0.0), (1414, 0.0), (1415, 0.008099900894242321), (1416, 0.0), (1417, 0.005526146354062149), (1418, 0.0), (1419, 0.02020182655670207), (1420, 0.0), (1421, 0.0), (1422, 0.022820399880303682), (1423, 0.0), (1424, 0.0), (1425, 0.004978214863741686), (1426, 0.0), (1427, 0.0), (1428, 0.011841125056022181), (1429, 0.0), (1430, 0.0), (1431, 0.0044678753412515015), (1432, 0.004793841393967713), (1433, 0.0), (1434, 0.0049066171344613165), (1435, 0.0), (1436, 0.020074883925925255), (1437, 0.004566868362665834), (1438, 0.004361434781270673), (1439, 0.02204746883090849), (1440, 0.024912927976895392), (1441, 0.0), (1442, 0.0), (1443, 0.004624128394086804), (1444, 0.0), (1445, 0.03166144471558626), (1446, 0.0), (1447, 0.004869316775975126), (1448, 0.0052230165331327355), (1449, 0.0), (1450, 0.004613166670542389), (1451, 0.06455674091274809), (1452, 0.0), (1453, 0.0), (1454, 0.0), (1455, 0.0), (1456, 0.03456306938603814), (1457, 0.004841020482459339), (1458, 0.0), (1459, 0.04052529242614495), (1460, 0.0), (1461, 0.0), (1462, 0.0), (1463, 0.0043249174863817415), (1464, 0.0), (1465, 0.026347665450057806), (1466, 0.0), (1467, 0.01841813529472119), (1468, 0.02304042815972073), (1469, 0.0), (1470, 0.004763581969017521), (1471, 0.0), (1472, 0.020922478367876775), (1473, 0.021861878429090254), (1474, 0.0), (1475, 0.0), (1476, 0.0), (1477, 0.0), (1478, 0.0), (1479, 0.005558709884562875), (1480, 0.028157107068553625), (1481, 0.0), (1482, 0.012976193882630398), (1483, 0.0), (1484, 0.05111606384932194), (1485, 0.0), (1486, 0.00484027674897402), (1487, 0.0), (1488, 0.023971004546969054), (1489, 0.0), (1490, 0.013561589459557492), (1491, 0.012910501087236275), (1492, 0.0), (1493, 0.0), (1494, 0.04598964002821522), (1495, 0.023004973013155718), (1496, 0.022533557130197977), (1497, 0.0), (1498, 0.0), (1499, 0.0), (1500, 0.004874853355572144), (1501, 0.0), (1502, 0.06385934811967739), (1503, 0.006015506168210005), (1504, 0.0), (1505, 0.0), (1506, 0.0249764049116969), (1507, 0.004493167302991588), (1508, 0.0), (1509, 0.0), (1510, 0.004858523811598701), (1511, 0.0), (1512, 0.0), (1513, 0.004390170832171702), (1514, 0.00507524529740517), (1515, 0.004753937040820303), (1516, 0.0), (1517, 0.0221279239265642), (1518, 0.018008609566098354), (1519, 0.0), (1520, 0.0), (1521, 0.0), (1522, 0.0), (1523, 0.0), (1524, 0.0), (1525, 0.016765151118434133), (1526, 0.0), (1527, 0.0), (1528, 0.0), (1529, 0.01629018144071629), (1530, 0.0), (1531, 0.011208911770875511), (1532, 0.0), (1533, 0.0), (1534, 0.022262421200408153), (1535, 0.023952851831051808), (1536, 0.0), (1537, 0.0), (1538, 0.004346857514322657), (1539, 0.0), (1540, 0.0), (1541, 0.0), (1542, 0.03008050621182135), (1543, 0.0), (1544, 0.0), (1545, 0.0), (1546, 0.005144067968207823), (1547, 0.02323971656245035), (1548, 0.0), (1549, 0.0), (1550, 0.0), (1551, 0.013900248008136341), (1552, 0.0), (1553, 0.07666951480340121), (1554, 0.008144950605453373), (1555, 0.0), (1556, 0.0), (1557, 0.0), (1558, 0.012218345653841898), (1559, 0.0), (1560, 0.0), (1561, 0.0), (1562, 0.0), (1563, 0.0), (1564, 0.0), (1565, 0.0), (1566, 0.0), (1567, 0.0), (1568, 0.012828546354915973), (1569, 0.0), (1570, 0.0), (1571, 0.0), (1572, 0.0), (1573, 0.04075395968731557), (1574, 0.0), (1575, 0.020662131380450584), (1576, 0.0), (1577, 0.004375848150069772), (1578, 0.0), (1579, 0.0), (1580, 0.0), (1581, 0.0), (1582, 0.0), (1583, 0.022841648633321138), (1584, 0.0), (1585, 0.0), (1586, 0.00479214567236282), (1587, 0.0), (1588, 0.021240895130693025), (1589, 0.022874497186533067), (1590, 0.0), (1591, 0.0), (1592, 0.004757750091317529), (1593, 0.0), (1594, 0.0), (1595, 0.0), (1596, 0.004592154403310168), (1597, 0.006168835932340925), (1598, 0.0), (1599, 0.0), (1600, 0.0), (1601, 0.0), (1602, 0.0), (1603, 0.0), (1604, 0.027249030940499994), (1605, 0.0), (1606, 0.019263171561643522), (1607, 0.013374985136020224), (1608, 0.010961607705062902), (1609, 0.0), (1610, 0.0049099849155453575), (1611, 0.010259348254881725), (1612, 0.0), (1613, 0.0), (1614, 0.0), (1615, 0.004828120776350664), (1616, 0.004325602037131023), (1617, 0.026545080512718464), (1618, 0.0), (1619, 0.0), (1620, 0.0), (1621, 0.0), (1622, 0.0), (1623, 0.0), (1624, 0.0), (1625, 0.025872037472667916), (1626, 0.004251296688328591), (1627, 0.0), (1628, 0.005137334023309041), (1629, 0.0), (1630, 0.0), (1631, 0.0), (1632, 0.0), (1633, 0.02764727321173863), (1634, 0.0), (1635, 0.004680673849148816), (1636, 0.042649204077054935), (1637, 0.018208597500986842), (1638, 0.0), (1639, 0.0), (1640, 0.0), (1641, 0.0), (1642, 0.007592782112740114), (1643, 0.008313017721470218), (1644, 0.0), (1645, 0.004444397924948053), (1646, 0.020763331889074477), (1647, 0.0), (1648, 0.0), (1649, 0.0), (1650, 0.03759124860932732), (1651, 0.07245050738409263), (1652, 0.02756187790073868), (1653, 0.0044209707444390475), (1654, 0.07266181764943963), (1655, 0.0), (1656, 0.0), (1657, 0.014488254398809125), (1658, 0.0), (1659, 0.0), (1660, 0.0), (1661, 0.004568347956246037), (1662, 0.0), (1663, 0.012688064699896839), (1664, 0.07370006687014793), (1665, 0.0), (1666, 0.0), (1667, 0.0), (1668, 0.0), (1669, 0.004913518270344956), (1670, 0.05101144709619373), (1671, 0.004526293882296333), (1672, 0.0044957837155529925), (1673, 0.0), (1674, 0.0), (1675, 0.005506162179762323), (1676, 0.0), (1677, 0.0), (1678, 0.0), (1679, 0.0), (1680, 0.0), (1681, 0.0), (1682, 0.0), (1683, 0.02587360879065725), (1684, 0.01555422829867252), (1685, 0.0), (1686, 0.004393345713008128), (1687, 0.030083534123933577), (1688, 0.0), (1689, 0.0), (1690, 0.0), (1691, 0.0), (1692, 0.0), (1693, 0.0), (1694, 0.0), (1695, 0.0), (1696, 0.044400204827342846), (1697, 0.0), (1698, 0.0), (1699, 0.0), (1700, 0.0), (1701, 0.0), (1702, 0.004845953653306371), (1703, 0.041104864901646845), (1704, 0.0), (1705, 0.0), (1706, 0.0), (1707, 0.0), (1708, 0.0), (1709, 0.0), (1710, 0.03740405625006699), (1711, 0.0), (1712, 0.0), (1713, 0.0044853211889608), (1714, 0.0), (1715, 0.03895273517062672), (1716, 0.0), (1717, 0.0), (1718, 0.0), (1719, 0.0), (1720, 0.029256735488810498), (1721, 0.004276089460926004), (1722, 0.0), (1723, 0.0), (1724, 0.0), (1725, 0.02034507847862984), (1726, 0.0), (1727, 0.0), (1728, 0.014485981358067328), (1729, 0.0), (1730, 0.0), (1731, 0.0), (1732, 0.0), (1733, 0.0054094990978817295), (1734, 0.014921333618846705), (1735, 0.011179694746337503), (1736, 0.0), (1737, 0.0), (1738, 0.0), (1739, 0.0), (1740, 0.057846816502775254), (1741, 0.0), (1742, 0.02089200964524584), (1743, 0.004358234263657556), (1744, 0.0), (1745, 0.0), (1746, 0.0), (1747, 0.0), (1748, 0.0), (1749, 0.0), (1750, 0.02409128922364997), (1751, 0.0), (1752, 0.0), (1753, 0.04583501758214214), (1754, 0.0), (1755, 0.0), (1756, 0.0), (1757, 0.026572897402682687), (1758, 0.0), (1759, 0.0), (1760, 0.0), (1761, 0.0), (1762, 0.00914191115647451), (1763, 0.0), (1764, 0.0), (1765, 0.02188538995935298), (1766, 0.0), (1767, 0.0), (1768, 0.0), (1769, 0.0), (1770, 0.0), (1771, 0.019634983975386894), (1772, 0.0), (1773, 0.0), (1774, 0.01742326324366507), (1775, 0.0), (1776, 0.0), (1777, 0.005242301324702004), (1778, 0.0), (1779, 0.0), (1780, 0.03594724469187229), (1781, 0.0), (1782, 0.035376010739137924), (1783, 0.0048571777076842045), (1784, 0.0), (1785, 0.016189762167321303), (1786, 0.02180626744878561), (1787, 0.0), (1788, 0.0), (1789, 0.0), (1790, 0.0046701415644631265), (1791, 0.0), (1792, 0.0), (1793, 0.0), (1794, 0.02189477414061752), (1795, 0.00418293967169044), (1796, 0.0), (1797, 0.0), (1798, 0.015340105822067964), (1799, 0.0), (1800, 0.0), (1801, 0.0), (1802, 0.028594298098741817), (1803, 0.0), (1804, 0.0), (1805, 0.0), (1806, 0.0), (1807, 0.014749036116987838), (1808, 0.019723675538720647), (1809, 0.0), (1810, 0.0), (1811, 0.0), (1812, 0.0), (1813, 0.0), (1814, 0.0), (1815, 0.0047080161535625305), (1816, 0.0), (1817, 0.0036903214490405776), (1818, 0.0), (1819, 0.03116442403027185), (1820, 0.0), (1821, 0.0597725134136414), (1822, 0.0), (1823, 0.0), (1824, 0.0), (1825, 0.004532031456894701), (1826, 0.014077799629146404), (1827, 0.02418681069553206), (1828, 0.014494535095872162), (1829, 0.0), (1830, 0.004394580625072773), (1831, 0.0), (1832, 0.0), (1833, 0.0), (1834, 0.0), (1835, 0.0), (1836, 0.005040358449224312), (1837, 0.0037679130071557303), (1838, 0.0), (1839, 0.0), (1840, 0.0), (1841, 0.013598172473130015), (1842, 0.0), (1843, 0.0), (1844, 0.00493255448946966), (1845, 0.015164830615355094), (1846, 0.0), (1847, 0.016301859744687456), (1848, 0.0), (1849, 0.0), (1850, 0.02183639910742973), (1851, 0.0045211438045152045), (1852, 0.02793274119650544), (1853, 0.004866776613181591), (1854, 0.004566471274604953), (1855, 0.0), (1856, 0.0), (1857, 0.0), (1858, 0.004869578412736582), (1859, 0.0), (1860, 0.005347725397505987), (1861, 0.0), (1862, 0.0), (1863, 0.0), (1864, 0.07004900856186697), (1865, 0.04018071822985214), (1866, 0.0), (1867, 0.0), (1868, 0.005132821159837408), (1869, 0.0), (1870, 0.0), (1871, 0.0), (1872, 0.0), (1873, 0.0), (1874, 0.06351632073848867), (1875, 0.0), (1876, 0.0), (1877, 0.003940430940505773), (1878, 0.0), (1879, 0.0), (1880, 0.0), (1881, 0.0), (1882, 0.0), (1883, 0.0), (1884, 0.0), (1885, 0.0), (1886, 0.0), (1887, 0.0), (1888, 0.0), (1889, 0.0), (1890, 0.0), (1891, 0.0), (1892, 0.004331887644203737), (1893, 0.0), (1894, 0.005277673732143708), (1895, 0.0), (1896, 0.0), (1897, 0.0), (1898, 0.0), (1899, 0.0), (1900, 0.0), (1901, 0.0), (1902, 0.008908764978089189), (1903, 0.0), (1904, 0.0), (1905, 0.0), (1906, 0.0), (1907, 0.00417975959331954), (1908, 0.00457006566863996), (1909, 0.0), (1910, 0.004922680657932392), (1911, 0.0), (1912, 0.0), (1913, 0.0), (1914, 0.020729411622016754), (1915, 0.0), (1916, 0.05089235272952671), (1917, 0.0), (1918, 0.004981204230173084), (1919, 0.0), (1920, 0.005187746645328122), (1921, 0.0), (1922, 0.0), (1923, 0.0), (1924, 0.0), (1925, 0.03477067286933076), (1926, 0.0), (1927, 0.0), (1928, 0.0), (1929, 0.0), (1930, 0.00435047981875663), (1931, 0.015902516138790505), (1932, 0.0), (1933, 0.0), (1934, 0.0), (1935, 0.0), (1936, 0.011439830268316194), (1937, 0.0), (1938, 0.0), (1939, 0.004980093785171418), (1940, 0.0), (1941, 0.0), (1942, 0.0), (1943, 0.0), (1944, 0.0), (1945, 0.0), (1946, 0.0), (1947, 0.0), (1948, 0.0), (1949, 0.0), (1950, 0.0), (1951, 0.0), (1952, 0.0), (1953, 0.005221108228214247), (1954, 0.0), (1955, 0.004532336453154431), (1956, 0.04673049060186814), (1957, 0.0), (1958, 0.0), (1959, 0.019360700127125274), (1960, 0.0), (1961, 0.0), (1962, 0.0), (1963, 0.0), (1964, 0.0), (1965, 0.0), (1966, 0.0), (1967, 0.046961297192326196), (1968, 0.023154006207487168), (1969, 0.01613641761039926), (1970, 0.0), (1971, 0.03867545304162527), (1972, 0.07745650137603856), (1973, 0.00463620474866243), (1974, 0.0219262881676795), (1975, 0.0), (1976, 0.022378340640566215), (1977, 0.0), (1978, 0.03269130231539369), (1979, 0.0), (1980, 0.0), (1981, 0.0), (1982, 0.0), (1983, 0.0), (1984, 0.0), (1985, 0.0), (1986, 0.0), (1987, 0.0), (1988, 0.0), (1989, 0.0), (1990, 0.01400897619930079), (1991, 0.005107312666825871), (1992, 0.014371837428894883), (1993, 0.0), (1994, 0.0), (1995, 0.019148333945743515), (1996, 0.0), (1997, 0.021308415560120128), (1998, 0.0), (1999, 0.0), (2000, 0.0), (2001, 0.0), (2002, 0.005042676338303664), (2003, 0.0), (2004, 0.012933161049985582), (2005, 0.0), (2006, 0.0), (2007, 0.03556374305298922), (2008, 0.0), (2009, 0.0), (2010, 0.0), (2011, 0.0), (2012, 0.0), (2013, 0.020730239516053982), (2014, 0.0), (2015, 0.00831823194138167), (2016, 0.0), (2017, 0.0), (2018, 0.0), (2019, 0.0), (2020, 0.0), (2021, 0.0), (2022, 0.0), (2023, 0.004147862818236737), (2024, 0.0), (2025, 0.0), (2026, 0.0), (2027, 0.0), (2028, 0.03473122546448507), (2029, 0.0057676305096237505), (2030, 0.0), (2031, 0.0), (2032, 0.0), (2033, 0.0), (2034, 0.025563293822521836), (2035, 0.0), (2036, 0.0), (2037, 0.016753993166040426), (2038, 0.0), (2039, 0.04712038468776848), (2040, 0.0), (2041, 0.0), (2042, 0.0), (2043, 0.04058786993840823), (2044, 0.06346221971101317), (2045, 0.0), (2046, 0.04283639366935903), (2047, 0.03054220421667956), (2048, 0.0), (2049, 0.015582335828420566), (2050, 0.004774358918361568), (2051, 0.0), (2052, 0.0), (2053, 0.0), (2054, 0.0046259835658756625), (2055, 0.0), (2056, 0.0), (2057, 0.004122082325752728), (2058, 0.015328247739739806), (2059, 0.0), (2060, 0.03817943797956039), (2061, 0.0), (2062, 0.0), (2063, 0.08913535284042004), (2064, 0.0), (2065, 0.0), (2066, 0.073854838552221), (2067, 0.0), (2068, 0.0), (2069, 0.004779622636420602), (2070, 0.0), (2071, 0.017919607356752906), (2072, 0.0), (2073, 0.0), (2074, 0.00451562368157645), (2075, 0.0), (2076, 0.008890572039112884), (2077, 0.0), (2078, 0.0), (2079, 0.0), (2080, 0.0), (2081, 0.0), (2082, 0.0), (2083, 0.0), (2084, 0.025703824058027687), (2085, 0.0), (2086, 0.0), (2087, 0.021972968554878715), (2088, 0.0), (2089, 0.0), (2090, 0.0), (2091, 0.0), (2092, 0.0), (2093, 0.0), (2094, 0.0), (2095, 0.0), (2096, 0.0), (2097, 0.0), (2098, 0.0), (2099, 0.0), (2100, 0.004540113640528756), (2101, 0.020655811435548288), (2102, 0.014781283723421256), (2103, 0.0), (2104, 0.0), (2105, 0.0), (2106, 0.0), (2107, 0.0), (2108, 0.0), (2109, 0.0), (2110, 0.0), (2111, 0.0038562557279673477), (2112, 0.0), (2113, 0.0), (2114, 0.030616233316430534), (2115, 0.0), (2116, 0.0), (2117, 0.0), (2118, 0.0), (2119, 0.0), (2120, 0.0), (2121, 0.0), (2122, 0.0), (2123, 0.0), (2124, 0.0), (2125, 0.0), (2126, 0.0), (2127, 0.04548094666340221), (2128, 0.02928443507452526), (2129, 0.03552861055936263), (2130, 0.0), (2131, 0.0), (2132, 0.0), (2133, 0.0), (2134, 0.0), (2135, 0.0), (2136, 0.004700444104414373), (2137, 0.0), (2138, 0.05128097612173185), (2139, 0.0), (2140, 0.004782823643315315), (2141, 0.0), (2142, 0.0), (2143, 0.0), (2144, 0.0), (2145, 0.02397715280004666), (2146, 0.0), (2147, 0.0), (2148, 0.0), (2149, 0.0), (2150, 0.0), (2151, 0.0), (2152, 0.01974497684338776), (2153, 0.0), (2154, 0.005359825412184968), (2155, 0.013042853747743385), (2156, 0.004870126740853088), (2157, 0.0)]\n"
          ]
        }
      ]
    },
    {
      "cell_type": "code",
      "source": [
        "len(similarity_score)"
      ],
      "metadata": {
        "colab": {
          "base_uri": "https://localhost:8080/"
        },
        "id": "c_TlA96lsr_z",
        "outputId": "41d6d71c-5975-4f69-827f-754c139be977"
      },
      "execution_count": null,
      "outputs": [
        {
          "output_type": "execute_result",
          "data": {
            "text/plain": [
              "2158"
            ]
          },
          "metadata": {},
          "execution_count": 67
        }
      ]
    },
    {
      "cell_type": "code",
      "source": [
        "#sorting the movies based on their similariy score\n",
        "sorted_similar_movies = sorted(similarity_score,key = lambda x:x[1],reverse = True)\n",
        "print(sorted_similar_movies)"
      ],
      "metadata": {
        "colab": {
          "base_uri": "https://localhost:8080/"
        },
        "id": "CooadEKIsxS2",
        "outputId": "b147b312-f6f1-40e6-cbee-fd210fd3aae3"
      },
      "execution_count": null,
      "outputs": [
        {
          "output_type": "stream",
          "name": "stdout",
          "text": [
            "[(68, 1.0000000000000002), (79, 0.23211575599935208), (31, 0.21454087923363185), (16, 0.17949520859346263), (26, 0.15423293299920454), (7, 0.14104865755217136), (353, 0.11614054978431115), (33, 0.11399018792247922), (46, 0.11088450565868463), (1210, 0.10581481744085684), (511, 0.10273872096697592), (954, 0.10106576643085935), (203, 0.10015128859673361), (1406, 0.09753376318593693), (174, 0.09553847722831227), (882, 0.09433729584521312), (85, 0.09324450371139793), (64, 0.0909263792389573), (307, 0.08953392269556068), (2063, 0.08913535284042004), (101, 0.08872697085502994), (38, 0.08781011455467204), (1282, 0.08664455316588396), (356, 0.08246429443348761), (788, 0.08214268971264951), (783, 0.0816232658317333), (205, 0.08161313996226646), (1972, 0.07745650137603856), (1553, 0.07666951480340121), (39, 0.07666731464451912), (182, 0.0755055091834003), (661, 0.07436328093688183), (2066, 0.073854838552221), (1664, 0.07370006687014793), (1654, 0.07266181764943963), (1311, 0.07252585525470573), (1015, 0.07249750086533549), (1651, 0.07245050738409263), (421, 0.07184475453062496), (1029, 0.0711689891950561), (725, 0.07055593246781455), (1864, 0.07004900856186697), (599, 0.06956267036157343), (1128, 0.06794152508870989), (800, 0.06640683294941528), (607, 0.06638690534457757), (501, 0.06459679803530473), (1451, 0.06455674091274809), (1502, 0.06385934811967739), (1874, 0.06351632073848867), (2044, 0.06346221971101317), (1274, 0.06320120385425984), (840, 0.0625274750086864), (278, 0.06252284935290951), (1041, 0.06240165374072013), (30, 0.060392806085069924), (382, 0.06010182526842986), (91, 0.05981821919625932), (1821, 0.0597725134136414), (763, 0.05904902486585356), (20, 0.05904378817169118), (1365, 0.05897129880792332), (641, 0.058541862224537104), (131, 0.05812698414028767), (1740, 0.057846816502775254), (6, 0.05780341661916248), (129, 0.05751148931981411), (138, 0.05725262350910049), (318, 0.05715840351841283), (618, 0.056716395725181556), (28, 0.05643782821284146), (126, 0.054533822958995046), (232, 0.05364760554678616), (574, 0.052612734434164685), (953, 0.05205565174181509), (396, 0.051932736713118786), (2138, 0.05128097612173185), (1484, 0.05111606384932194), (1670, 0.05101144709619373), (1916, 0.05089235272952671), (94, 0.05067735013538071), (457, 0.050189199676952664), (1272, 0.04937541591048155), (720, 0.04931518925562325), (1200, 0.048736782335574096), (122, 0.047442387037154345), (2039, 0.04712038468776848), (331, 0.04702802998271155), (1967, 0.046961297192326196), (1956, 0.04673049060186814), (242, 0.046720235317410465), (1135, 0.04646885419704523), (945, 0.046445027017333176), (95, 0.046120184407054475), (1494, 0.04598964002821522), (1753, 0.04583501758214214), (2127, 0.04548094666340221), (929, 0.045181869708794446), (1696, 0.044400204827342846), (1016, 0.04414588555080542), (940, 0.04413868411597128), (401, 0.04383137459287973), (54, 0.04368206600428973), (169, 0.04284546886879373), (2046, 0.04283639366935903), (1636, 0.042649204077054935), (833, 0.04254103111502355), (1024, 0.04252478789284259), (316, 0.04229487530772662), (545, 0.0422626175585627), (1249, 0.04178395902739517), (508, 0.04174204103022499), (451, 0.041141321940960526), (1703, 0.041104864901646845), (564, 0.04096762055644239), (1573, 0.04075395968731557), (2043, 0.04058786993840823), (1459, 0.04052529242614495), (789, 0.04033294245220179), (1865, 0.04018071822985214), (198, 0.039939284138118085), (361, 0.039895195853646426), (14, 0.03984356850330205), (507, 0.03938135581911369), (956, 0.039132528589153184), (1715, 0.03895273517062672), (1971, 0.03867545304162527), (270, 0.03856050746725992), (1247, 0.038240243689160625), (2060, 0.03817943797956039), (855, 0.03815800376381866), (631, 0.03803409477249065), (1170, 0.03800668035079527), (146, 0.03794545713430292), (1180, 0.03792940868058749), (870, 0.03786918588162719), (328, 0.037671765861171186), (1650, 0.03759124860932732), (1710, 0.03740405625006699), (199, 0.03703046193301263), (782, 0.03676626110225119), (1398, 0.03668409657538716), (1052, 0.03655245796407075), (570, 0.03634199068795888), (1780, 0.03594724469187229), (2007, 0.03556374305298922), (2129, 0.03552861055936263), (1192, 0.035493077071259385), (1782, 0.035376010739137924), (1, 0.03530319724406544), (163, 0.035191943950107), (310, 0.0351811263561604), (76, 0.03505200297481542), (1925, 0.03477067286933076), (2028, 0.03473122546448507), (309, 0.03456488797117487), (1456, 0.03456306938603814), (775, 0.034555986384549146), (675, 0.03432121209799576), (441, 0.034007418307759385), (635, 0.03381951626432158), (1005, 0.03342673222849707), (201, 0.03341652314804832), (1233, 0.03333526494755736), (965, 0.03302780048438992), (805, 0.03295781763055311), (185, 0.03294378803906248), (1978, 0.03269130231539369), (700, 0.03168718342034538), (1445, 0.03166144471558626), (366, 0.03164103818373057), (211, 0.03138234787472177), (752, 0.031192719039646398), (279, 0.031180234191711752), (345, 0.031164851042931953), (1819, 0.03116442403027185), (241, 0.031112547637978445), (9, 0.031031958774738178), (732, 0.03088080189858334), (493, 0.030736029245499737), (593, 0.03071735766402457), (562, 0.030704724879597304), (2114, 0.030616233316430534), (2047, 0.03054220421667956), (1152, 0.03050115019524474), (1687, 0.030083534123933577), (1542, 0.03008050621182135), (1002, 0.030030003173923958), (668, 0.029899356848856903), (977, 0.029886951463100046), (271, 0.029879514786914765), (539, 0.029867817794431973), (193, 0.029750248897683497), (35, 0.029750083858277456), (57, 0.029581262695940108), (768, 0.029454329135398485), (1086, 0.029311274558837645), (601, 0.029308486032490314), (2128, 0.02928443507452526), (1720, 0.029256735488810498), (699, 0.029237402937087004), (1332, 0.02915438525101448), (127, 0.02909354071034969), (1390, 0.02898982599168117), (222, 0.028855975656683415), (82, 0.02879640748152916), (1083, 0.028795066213940866), (1802, 0.028594298098741817), (402, 0.02846183091867676), (158, 0.028367204761551947), (976, 0.028327251975613026), (108, 0.02820271820695476), (850, 0.028177308693207184), (1480, 0.028157107068553625), (61, 0.02809010069219247), (972, 0.028076474773068155), (1852, 0.02793274119650544), (257, 0.027882120610631306), (480, 0.027853649793100184), (476, 0.027853219975596345), (70, 0.02773967741336706), (43, 0.027698331602412172), (1633, 0.02764727321173863), (755, 0.027643781765044215), (1034, 0.027585729909760753), (1652, 0.02756187790073868), (1354, 0.02756078871110885), (36, 0.02747438032350352), (260, 0.027449334040240775), (1319, 0.027420427404119187), (838, 0.02741998363225154), (380, 0.027392251799531087), (1604, 0.027249030940499994), (797, 0.027234974802886728), (1294, 0.027215787061373155), (654, 0.027151223015410387), (1110, 0.02710659608530717), (1303, 0.026812272460217917), (459, 0.026773805384253512), (1358, 0.026744519401244636), (96, 0.02673567509228488), (376, 0.026665439941457633), (212, 0.026619559214382662), (1171, 0.026595739255607254), (1757, 0.026572897402682687), (1617, 0.026545080512718464), (1465, 0.026347665450057806), (780, 0.02624520320300882), (726, 0.026116127539033314), (149, 0.026109870968767778), (228, 0.0260493636292813), (1201, 0.025990358636906467), (990, 0.02598825254525043), (1683, 0.02587360879065725), (1625, 0.025872037472667916), (701, 0.025865744930963157), (45, 0.025707016080403284), (2084, 0.025703824058027687), (911, 0.025637429419330223), (464, 0.0256247449217981), (1335, 0.02561779844930882), (2034, 0.025563293822521836), (275, 0.0254984793547917), (600, 0.025481038966320275), (238, 0.025356961826859307), (446, 0.025244829203514032), (581, 0.025126520390552354), (1271, 0.02504226421433974), (1506, 0.0249764049116969), (184, 0.024973701842163964), (1440, 0.024912927976895392), (1232, 0.02486126182758072), (1383, 0.024852952353904077), (1001, 0.024840600701432874), (974, 0.02472578238701469), (1165, 0.024611713332190567), (414, 0.024595069517737343), (254, 0.024592840714129618), (52, 0.02453520440387389), (542, 0.024517661413262275), (1396, 0.024472160875580105), (626, 0.024453372119303405), (111, 0.024393137306835684), (1055, 0.02434465703550204), (1044, 0.024320316714179877), (902, 0.02428267867961064), (1097, 0.02427475643717687), (1213, 0.02423871150033053), (1827, 0.02418681069553206), (1177, 0.024179337964025358), (1345, 0.024127313030876136), (51, 0.02409278340728338), (1750, 0.02409128922364997), (900, 0.024041258727535965), (1079, 0.024015606303961396), (2145, 0.02397715280004666), (1488, 0.023971004546969054), (1336, 0.023960736860132954), (1535, 0.023952851831051808), (1377, 0.023942454030978937), (466, 0.023823437044345863), (442, 0.02371291585975527), (908, 0.02361754527376138), (718, 0.0234595596767538), (200, 0.023354754089949258), (665, 0.023269721541309178), (1547, 0.02323971656245035), (1968, 0.023154006207487168), (931, 0.023126806695736662), (770, 0.02311831208186208), (32, 0.023074301409517883), (1468, 0.02304042815972073), (1495, 0.023004973013155718), (740, 0.02297089463283189), (793, 0.02287798342968396), (1589, 0.022874497186533067), (632, 0.02286842479645273), (575, 0.02284675468811579), (1583, 0.022841648633321138), (1422, 0.022820399880303682), (1058, 0.02266985589860533), (313, 0.022654807183008597), (229, 0.022609773156161778), (1412, 0.02256535708543376), (1014, 0.022545159443618484), (1496, 0.022533557130197977), (1299, 0.022497577500581498), (1286, 0.022484976312855016), (219, 0.022479518447608583), (904, 0.022440775399694142), (249, 0.02239487143108248), (1976, 0.022378340640566215), (778, 0.02234418663246726), (371, 0.022320088652533963), (1534, 0.022262421200408153), (239, 0.02213573380912399), (1517, 0.0221279239265642), (470, 0.022095622495376638), (1379, 0.022093624620067292), (1439, 0.02204746883090849), (2087, 0.021972968554878715), (1974, 0.0219262881676795), (107, 0.021921610602291343), (1794, 0.02189477414061752), (1765, 0.02188538995935298), (1473, 0.021861878429090254), (1850, 0.02183639910742973), (577, 0.021824363961291282), (1786, 0.02180626744878561), (939, 0.021771633552288516), (1352, 0.021767871561794376), (490, 0.021752684916812214), (426, 0.02169705549517334), (1184, 0.021617381805626532), (1367, 0.021569448724802417), (1275, 0.021559792365137193), (1997, 0.021308415560120128), (1344, 0.02124952284841672), (1588, 0.021240895130693025), (333, 0.021232306482542353), (716, 0.02116631638519724), (1244, 0.02112852522116858), (454, 0.020951417879526563), (1472, 0.020922478367876775), (777, 0.02091769834286053), (1742, 0.02089200964524584), (110, 0.020847713394110998), (286, 0.02078262244563071), (1646, 0.020763331889074477), (2013, 0.020730239516053982), (1914, 0.020729411622016754), (504, 0.020674589547110236), (1575, 0.020662131380450584), (2101, 0.020655811435548288), (487, 0.020562270165213795), (220, 0.02054808010075968), (432, 0.020362736917842746), (1725, 0.02034507847862984), (1119, 0.020316448102561138), (471, 0.020208739375319015), (1419, 0.02020182655670207), (365, 0.020150131538179492), (670, 0.020142577397455206), (546, 0.02010769923933516), (360, 0.020085034317937584), (1436, 0.020074883925925255), (578, 0.019998576378223953), (2152, 0.01974497684338776), (1808, 0.019723675538720647), (754, 0.01972194826566372), (324, 0.01972081722071683), (263, 0.019712326855527307), (1131, 0.019664600280050633), (1191, 0.019636958437546082), (1771, 0.019634983975386894), (1157, 0.019570908412847417), (443, 0.019413650635471853), (771, 0.019379422409440482), (1959, 0.019360700127125274), (1606, 0.019263171561643522), (988, 0.01920183736711847), (1995, 0.019148333945743515), (1222, 0.019098012359985043), (1111, 0.019085017630260014), (735, 0.01908322524332079), (372, 0.01877101767432958), (761, 0.018707918588754573), (615, 0.018654579076081448), (862, 0.018650025325453037), (1467, 0.01841813529472119), (525, 0.018400191754104196), (389, 0.018353118464465107), (503, 0.01835053990038666), (1637, 0.018208597500986842), (1518, 0.018008609566098354), (2071, 0.017919607356752906), (502, 0.017806819285784075), (895, 0.01759746413930961), (878, 0.01751332716718101), (646, 0.017485515890951306), (1774, 0.01742326324366507), (1237, 0.01730735054462329), (170, 0.0172879646327268), (674, 0.01716488166539324), (292, 0.016965393499385206), (706, 0.016768213856415352), (1525, 0.016765151118434133), (2037, 0.016753993166040426), (729, 0.01661374073094083), (612, 0.016562518653164483), (1847, 0.016301859744687456), (1529, 0.01629018144071629), (591, 0.01626168144331706), (1785, 0.016189762167321303), (1969, 0.01613641761039926), (1305, 0.016109770658755875), (898, 0.016100292866309263), (284, 0.016035518178591182), (1931, 0.015902516138790505), (688, 0.01588683347293619), (892, 0.01565939934780049), (2049, 0.015582335828420566), (1684, 0.01555422829867252), (1090, 0.01541028186790516), (172, 0.015404285311976403), (811, 0.015397211015073364), (363, 0.01538385983925631), (1798, 0.015340105822067964), (1337, 0.015330525952192444), (2058, 0.015328247739739806), (165, 0.015310501733116797), (377, 0.0152196463532041), (1845, 0.015164830615355094), (362, 0.015091784431438313), (560, 0.01508259268008238), (225, 0.01497380135698376), (415, 0.014947498054462514), (1105, 0.014926284812718195), (1734, 0.014921333618846705), (1057, 0.01490948077211486), (733, 0.01489866825317195), (47, 0.014802378953503031), (2102, 0.014781283723421256), (1399, 0.014778007310886894), (1807, 0.014749036116987838), (322, 0.014676985783875607), (652, 0.014672749409101753), (703, 0.014559414904072773), (319, 0.014540665037388356), (1828, 0.014494535095872162), (1657, 0.014488254398809125), (1728, 0.014485981358067328), (102, 0.014448379715793318), (1369, 0.014442225008145768), (183, 0.014434050853531975), (1992, 0.014371837428894883), (440, 0.014370387731187446), (609, 0.014248621474271615), (311, 0.014203894729629081), (1243, 0.014181348620529017), (196, 0.014173121275863454), (74, 0.014151999497268697), (1826, 0.014077799629146404), (657, 0.014073504856396482), (1338, 0.014009746134943244), (1990, 0.01400897619930079), (922, 0.013930350040897578), (1551, 0.013900248008136341), (266, 0.013820792430877636), (335, 0.013786485467502088), (1070, 0.013720059438151673), (168, 0.013687287100888257), (0, 0.013661486482143808), (1841, 0.013598172473130015), (1490, 0.013561589459557492), (1230, 0.013535181409524987), (1155, 0.013535168308735007), (72, 0.013460123170349484), (920, 0.01343913587906102), (150, 0.013423324935048341), (510, 0.013405944826841916), (634, 0.013383198577778602), (1607, 0.013374985136020224), (412, 0.013299764291150788), (1395, 0.013298643839427617), (93, 0.013272042134771504), (125, 0.01322941156474667), (18, 0.013226588103473439), (59, 0.013207358721354444), (813, 0.013180920060011921), (505, 0.01316085759806097), (224, 0.013148735751123557), (1093, 0.013143075334949069), (495, 0.013108881451136867), (582, 0.013084594955327558), (4, 0.01306929881487099), (2155, 0.013042853747743385), (658, 0.013038518184168721), (123, 0.013032024430087592), (1251, 0.013013155328783391), (41, 0.01298223611890692), (1482, 0.012976193882630398), (334, 0.012937971352071875), (2004, 0.012933161049985582), (1491, 0.012910501087236275), (1270, 0.012905744797866478), (1568, 0.012828546354915973), (1067, 0.012768041107646634), (851, 0.012762648542591725), (1663, 0.012688064699896839), (342, 0.0126760928894605), (854, 0.012581258036895263), (207, 0.012573256951224587), (449, 0.012490061571691006), (27, 0.012462096307755126), (799, 0.012461505301031767), (223, 0.01239058302333371), (116, 0.012345289955634286), (728, 0.012283233962389013), (1558, 0.012218345653841898), (483, 0.012089283430147531), (400, 0.012050477880745179), (1428, 0.011841125056022181), (233, 0.01164239353230626), (97, 0.011638525944372764), (230, 0.011578869416075162), (587, 0.011540876147423669), (1936, 0.011439830268316194), (300, 0.011328880620367281), (1531, 0.011208911770875511), (1735, 0.011179694746337503), (541, 0.011096925603761777), (994, 0.010992451448366223), (1608, 0.010961607705062902), (1296, 0.010930387615135526), (1202, 0.010351746841777879), (1611, 0.010259348254881725), (1153, 0.010163096021249509), (164, 0.010126610517508067), (1008, 0.009845857300477764), (1259, 0.009727334427601627), (419, 0.009690383371644769), (461, 0.009367458829144117), (301, 0.009364201564792006), (373, 0.0093496840353533), (358, 0.009284533111300543), (1762, 0.00914191115647451), (67, 0.009121851682628163), (960, 0.009081742849795432), (306, 0.009000533691412311), (413, 0.008981102336164348), (1902, 0.008908764978089189), (1068, 0.008908081729691326), (2076, 0.008890572039112884), (305, 0.008779673671482417), (1053, 0.008753244870535807), (87, 0.008737361023770951), (256, 0.008629589347491346), (1238, 0.00862290131549896), (422, 0.008607850793431484), (473, 0.008562014032127183), (420, 0.008499514610114509), (410, 0.008417985701477322), (450, 0.008381516175467679), (814, 0.008369166725681935), (1318, 0.008368502211693793), (1198, 0.008355894010007874), (2015, 0.00831823194138167), (1643, 0.008313017721470218), (1326, 0.008229633650705856), (1554, 0.008144950605453373), (375, 0.008104062450983551), (1415, 0.008099900894242321), (549, 0.007785701892711281), (1217, 0.0076470524686662955), (1642, 0.007592782112740114), (1085, 0.00741935245397318), (723, 0.007362048966236097), (999, 0.0069071673106496844), (673, 0.006596801868798221), (1597, 0.006168835932340925), (1503, 0.006015506168210005), (1183, 0.005878368621909085), (58, 0.005792353956979278), (2029, 0.0057676305096237505), (715, 0.005750235386707098), (1273, 0.005718565360574305), (1278, 0.005715917076882041), (774, 0.0057036349487872414), (530, 0.005675264503691973), (350, 0.005630329609842056), (218, 0.005610005889655819), (518, 0.005604817934790294), (1479, 0.005558709884562875), (1114, 0.005528249224622962), (1417, 0.005526146354062149), (534, 0.005510840364137815), (1675, 0.005506162179762323), (773, 0.00548298971887666), (467, 0.005457354248125059), (1289, 0.0054495133681499806), (3, 0.005431092765892404), (339, 0.005424655888775259), (1733, 0.0054094990978817295), (573, 0.005373599392976402), (2154, 0.005359825412184968), (1860, 0.005347725397505987), (213, 0.005335789178833446), (261, 0.005331949899674197), (834, 0.005327023068300711), (433, 0.005323626656076792), (425, 0.005321059547283196), (48, 0.005306723166204917), (437, 0.005306105513048888), (303, 0.005301412635464727), (1894, 0.005277673732143708), (512, 0.005268841522736362), (248, 0.005265768201110411), (320, 0.005261566360707522), (290, 0.005244270278261026), (1777, 0.005242301324702004), (453, 0.005233773961515289), (215, 0.005225735551487627), (1448, 0.0052230165331327355), (1342, 0.005221540286089475), (1953, 0.005221108228214247), (104, 0.00519623314644871), (596, 0.00519302186402849), (1920, 0.005187746645328122), (29, 0.005187393054322929), (737, 0.005187286370564799), (167, 0.005183484954496279), (180, 0.005161869175509635), (984, 0.005155644559812741), (747, 0.005150149023025347), (2, 0.005145467408529855), (1546, 0.005144067968207823), (597, 0.005143604990441486), (1628, 0.005137334023309041), (823, 0.005136071848989232), (1868, 0.005132821159837408), (762, 0.005126889437354833), (188, 0.005126708200105378), (274, 0.005121357463360881), (643, 0.005119577317122095), (428, 0.005119152183474411), (784, 0.005118909190283153), (1991, 0.005107312666825871), (299, 0.005097584895662213), (807, 0.0050843655633002844), (252, 0.0050784428280027825), (1514, 0.00507524529740517), (1320, 0.005072863871514673), (296, 0.005067310020235041), (804, 0.005067117443725767), (622, 0.005062305479206254), (523, 0.005058726622955198), (731, 0.0050576145213120805), (828, 0.005057472917741065), (1254, 0.005057350103839382), (1139, 0.005052519984300865), (547, 0.005052226943578536), (65, 0.0050502065012312325), (702, 0.005050185108071844), (1012, 0.005047754508444649), (767, 0.0050464285208222485), (119, 0.005043255250479041), (2002, 0.005042676338303664), (1035, 0.005040765049426672), (1836, 0.005040358449224312), (1302, 0.005040329372864306), (5, 0.005035024820347633), (50, 0.005034469224417778), (1118, 0.005028014798195317), (982, 0.005019198908755159), (148, 0.0050173973297654014), (644, 0.00501467379629547), (818, 0.005007882545664307), (645, 0.004996214899936984), (209, 0.004989672135074327), (394, 0.00498679029211042), (863, 0.004986684904889479), (1918, 0.004981204230173084), (1939, 0.004980093785171418), (1425, 0.004978214863741686), (140, 0.00497128195242152), (685, 0.004966755315497718), (370, 0.004965583308419866), (62, 0.004965493838562066), (919, 0.004965314055093155), (1124, 0.004963679177755063), (386, 0.0049630265474997545), (1133, 0.004957853179189814), (1073, 0.0049571874555599405), (993, 0.0049524686450326035), (355, 0.004940384479805322), (979, 0.004940271227978419), (1844, 0.00493255448946966), (1178, 0.004929722797519806), (687, 0.00492580118728668), (103, 0.004923166096578202), (1910, 0.004922680657932392), (659, 0.00491777915032334), (1669, 0.004913518270344956), (204, 0.004911044453205043), (1610, 0.0049099849155453575), (653, 0.004907856878296752), (134, 0.0049076949103584915), (1434, 0.0049066171344613165), (1195, 0.00490596915027999), (1380, 0.004901175822086104), (240, 0.004881174469773588), (1500, 0.004874853355572144), (594, 0.004872965197667808), (2156, 0.004870126740853088), (1858, 0.004869578412736582), (1447, 0.004869316775975126), (1853, 0.004866776613181591), (112, 0.004866631841718866), (1245, 0.004863741151937547), (553, 0.004861766221734711), (873, 0.004861034679831794), (236, 0.004860554617224023), (1510, 0.004858523811598701), (478, 0.004858487304522683), (1783, 0.0048571777076842045), (500, 0.004856009079095156), (888, 0.004853168557765371), (664, 0.004846118813389231), (1702, 0.004845953653306371), (1457, 0.004841020482459339), (1486, 0.00484027674897402), (387, 0.004836704126583437), (472, 0.0048353075101248396), (589, 0.004832765043459931), (277, 0.004831941426938598), (392, 0.004831566247537982), (1615, 0.004828120776350664), (992, 0.004823018690039759), (17, 0.004808167653111434), (537, 0.004806152581895858), (88, 0.004805586435412488), (1158, 0.00480454608492844), (160, 0.004803740313179709), (1076, 0.004801894157916891), (808, 0.004796219160893317), (408, 0.004793877327151923), (1432, 0.004793841393967713), (1586, 0.00479214567236282), (893, 0.0047867800736356644), (2140, 0.004782823643315315), (2069, 0.004779622636420602), (227, 0.004776368006048371), (2050, 0.004774358918361568), (151, 0.004773649125560778), (753, 0.004773281475380977), (1234, 0.00477211064951511), (724, 0.004770081464287891), (544, 0.004769220292615656), (243, 0.004769218601135952), (152, 0.004766883552933048), (1470, 0.004763581969017521), (210, 0.004763539745018826), (1592, 0.004757750091317529), (304, 0.0047544051583468415), (1515, 0.004753937040820303), (237, 0.004753699962501667), (468, 0.004752458373564291), (844, 0.004751958341457969), (273, 0.004745651251354016), (153, 0.004741378507779025), (1027, 0.004730329677663444), (604, 0.004722913527981898), (13, 0.004720937893807882), (99, 0.004716219845077624), (590, 0.004716084724258717), (1815, 0.0047080161535625305), (455, 0.004707757834062083), (1279, 0.004706615606119202), (1339, 0.004703606491191124), (568, 0.004702784146097583), (744, 0.0047016519047591455), (2136, 0.004700444104414373), (1137, 0.004690233381069085), (486, 0.004685557634633911), (613, 0.004684698049845156), (610, 0.004683599188338239), (121, 0.004680859988104238), (1635, 0.004680673849148816), (1790, 0.0046701415644631265), (951, 0.004668869407240842), (1000, 0.0046677260470698), (741, 0.004666844924581924), (1239, 0.0046621355408111445), (933, 0.004656989966811413), (580, 0.00465337333950733), (1096, 0.004651401651773298), (864, 0.004648273361226698), (1101, 0.004647928937231884), (187, 0.00464160148069008), (1973, 0.00463620474866243), (836, 0.004635751852739216), (1266, 0.004628785021013656), (535, 0.004628172732943062), (1100, 0.0046264497818279925), (2054, 0.0046259835658756625), (1443, 0.004624128394086804), (821, 0.004619736809000698), (295, 0.004619393263922221), (677, 0.004619293058822126), (1450, 0.004613166670542389), (1188, 0.00460544196760616), (694, 0.004603520058196424), (1363, 0.004602294362700931), (640, 0.004597379101259844), (1596, 0.004592154403310168), (595, 0.004586388071992628), (930, 0.004583941046019411), (746, 0.004579324885937191), (621, 0.004574667731268757), (1908, 0.00457006566863996), (1661, 0.004568347956246037), (571, 0.004568113016060902), (1437, 0.004566868362665834), (1854, 0.004566471274604953), (739, 0.0045566859590878885), (291, 0.00455431571512794), (1343, 0.004553072211304437), (217, 0.004553022658163193), (676, 0.00455078314297716), (383, 0.004544975942871485), (1334, 0.004544125417937653), (2100, 0.004540113640528756), (491, 0.004534904588661285), (1955, 0.004532336453154431), (1825, 0.004532031456894701), (1671, 0.004526293882296333), (1851, 0.0045211438045152045), (2074, 0.00451562368157645), (1310, 0.0045152412017693665), (856, 0.004508647413063477), (955, 0.004507642083119932), (745, 0.0045045415466443), (973, 0.004499861199421563), (11, 0.004497770429534954), (285, 0.004497717323306035), (1672, 0.0044957837155529925), (1507, 0.004493167302991588), (531, 0.004491543234489622), (969, 0.004485730505419527), (1713, 0.0044853211889608), (259, 0.004484268227180951), (1347, 0.004484189596531193), (1140, 0.004479520363459071), (963, 0.0044758060110736434), (880, 0.004474124443267304), (611, 0.004473778316502403), (1431, 0.0044678753412515015), (914, 0.004467116744897544), (1103, 0.004466283128350653), (1049, 0.004465219789186408), (1084, 0.004454370424419679), (147, 0.004453943981357206), (308, 0.00444519120157073), (1645, 0.004444397924948053), (711, 0.00444194776679787), (695, 0.00444032840666015), (1146, 0.004440101010239059), (312, 0.0044280768204115455), (1653, 0.0044209707444390475), (403, 0.004419803709326258), (683, 0.004419391874472002), (529, 0.004418957918395757), (1361, 0.004414921113658065), (556, 0.004403552265938479), (989, 0.0043976112603593), (624, 0.004395169218739574), (1830, 0.004394580625072773), (1686, 0.004393345713008128), (1513, 0.004390170832171702), (1136, 0.0043859823325578745), (139, 0.004384270016616027), (1577, 0.004375848150069772), (21, 0.004375700786293635), (1106, 0.004365809853246778), (1438, 0.004361434781270673), (1743, 0.004358234263657556), (1281, 0.004354637325939575), (1930, 0.00435047981875663), (186, 0.004350399545177689), (469, 0.004349128785399081), (1538, 0.004346857514322657), (19, 0.004337323786820451), (1892, 0.004331887644203737), (1616, 0.004325602037131023), (1463, 0.0043249174863817415), (1175, 0.004303500931702713), (1199, 0.004303028244548716), (1095, 0.004300277743574155), (691, 0.004297631001675264), (315, 0.00429681696928238), (830, 0.004293087137056235), (959, 0.004283236376651935), (1721, 0.004276089460926004), (253, 0.0042703794958285956), (680, 0.0042628030427058145), (245, 0.004262717212580478), (1626, 0.004251296688328591), (81, 0.0042413319379665), (369, 0.004240720016025917), (736, 0.004238290297534007), (282, 0.004235475434972837), (950, 0.004224282271443931), (1003, 0.004217527157703869), (1138, 0.00419438237079427), (1174, 0.0041938761954049735), (84, 0.004191746114515755), (1193, 0.004188510479304363), (513, 0.004183461163703676), (1795, 0.00418293967169044), (1907, 0.00417975959331954), (894, 0.004177648176389361), (543, 0.004173849695752263), (787, 0.0041730807732846065), (267, 0.004166779675931503), (2023, 0.004147862818236737), (941, 0.004137725945426753), (244, 0.00412959373573617), (2057, 0.004122082325752728), (831, 0.004116602882111789), (332, 0.004080518649152414), (344, 0.0040695992825521225), (475, 0.004043031106244517), (629, 0.004032067099439996), (156, 0.004030684230717493), (405, 0.0040151416215438215), (1109, 0.004004109036815323), (1082, 0.0039521100837175), (794, 0.003943562871163343), (1877, 0.003940430940505773), (579, 0.0039015142551060635), (340, 0.0039012648746142822), (1077, 0.003892460630482317), (2111, 0.0038562557279673477), (1064, 0.0038357157635420186), (1404, 0.00378902297226984), (1837, 0.0037679130071557303), (411, 0.00375804943914654), (1817, 0.0036903214490405776), (627, 0.0036863887606159488), (528, 0.003638271076859368), (932, 0.003613215775091065), (1018, 0.0035779481844022336), (1304, 0.003425365257930843), (337, 0.0034181350635751778), (8, 0.0), (10, 0.0), (12, 0.0), (15, 0.0), (22, 0.0), (23, 0.0), (24, 0.0), (25, 0.0), (34, 0.0), (37, 0.0), (40, 0.0), (42, 0.0), (44, 0.0), (49, 0.0), (53, 0.0), (55, 0.0), (56, 0.0), (60, 0.0), (63, 0.0), (66, 0.0), (69, 0.0), (71, 0.0), (73, 0.0), (75, 0.0), (77, 0.0), (78, 0.0), (80, 0.0), (83, 0.0), (86, 0.0), (89, 0.0), (90, 0.0), (92, 0.0), (98, 0.0), (100, 0.0), (105, 0.0), (106, 0.0), (109, 0.0), (113, 0.0), (114, 0.0), (115, 0.0), (117, 0.0), (118, 0.0), (120, 0.0), (124, 0.0), (128, 0.0), (130, 0.0), (132, 0.0), (133, 0.0), (135, 0.0), (136, 0.0), (137, 0.0), (141, 0.0), (142, 0.0), (143, 0.0), (144, 0.0), (145, 0.0), (154, 0.0), (155, 0.0), (157, 0.0), (159, 0.0), (161, 0.0), (162, 0.0), (166, 0.0), (171, 0.0), (173, 0.0), (175, 0.0), (176, 0.0), (177, 0.0), (178, 0.0), (179, 0.0), (181, 0.0), (189, 0.0), (190, 0.0), (191, 0.0), (192, 0.0), (194, 0.0), (195, 0.0), (197, 0.0), (202, 0.0), (206, 0.0), (208, 0.0), (214, 0.0), (216, 0.0), (221, 0.0), (226, 0.0), (231, 0.0), (234, 0.0), (235, 0.0), (246, 0.0), (247, 0.0), (250, 0.0), (251, 0.0), (255, 0.0), (258, 0.0), (262, 0.0), (264, 0.0), (265, 0.0), (268, 0.0), (269, 0.0), (272, 0.0), (276, 0.0), (280, 0.0), (281, 0.0), (283, 0.0), (287, 0.0), (288, 0.0), (289, 0.0), (293, 0.0), (294, 0.0), (297, 0.0), (298, 0.0), (302, 0.0), (314, 0.0), (317, 0.0), (321, 0.0), (323, 0.0), (325, 0.0), (326, 0.0), (327, 0.0), (329, 0.0), (330, 0.0), (336, 0.0), (338, 0.0), (341, 0.0), (343, 0.0), (346, 0.0), (347, 0.0), (348, 0.0), (349, 0.0), (351, 0.0), (352, 0.0), (354, 0.0), (357, 0.0), (359, 0.0), (364, 0.0), (367, 0.0), (368, 0.0), (374, 0.0), (378, 0.0), (379, 0.0), (381, 0.0), (384, 0.0), (385, 0.0), (388, 0.0), (390, 0.0), (391, 0.0), (393, 0.0), (395, 0.0), (397, 0.0), (398, 0.0), (399, 0.0), (404, 0.0), (406, 0.0), (407, 0.0), (409, 0.0), (416, 0.0), (417, 0.0), (418, 0.0), (423, 0.0), (424, 0.0), (427, 0.0), (429, 0.0), (430, 0.0), (431, 0.0), (434, 0.0), (435, 0.0), (436, 0.0), (438, 0.0), (439, 0.0), (444, 0.0), (445, 0.0), (447, 0.0), (448, 0.0), (452, 0.0), (456, 0.0), (458, 0.0), (460, 0.0), (462, 0.0), (463, 0.0), (465, 0.0), (474, 0.0), (477, 0.0), (479, 0.0), (481, 0.0), (482, 0.0), (484, 0.0), (485, 0.0), (488, 0.0), (489, 0.0), (492, 0.0), (494, 0.0), (496, 0.0), (497, 0.0), (498, 0.0), (499, 0.0), (506, 0.0), (509, 0.0), (514, 0.0), (515, 0.0), (516, 0.0), (517, 0.0), (519, 0.0), (520, 0.0), (521, 0.0), (522, 0.0), (524, 0.0), (526, 0.0), (527, 0.0), (532, 0.0), (533, 0.0), (536, 0.0), (538, 0.0), (540, 0.0), (548, 0.0), (550, 0.0), (551, 0.0), (552, 0.0), (554, 0.0), (555, 0.0), (557, 0.0), (558, 0.0), (559, 0.0), (561, 0.0), (563, 0.0), (565, 0.0), (566, 0.0), (567, 0.0), (569, 0.0), (572, 0.0), (576, 0.0), (583, 0.0), (584, 0.0), (585, 0.0), (586, 0.0), (588, 0.0), (592, 0.0), (598, 0.0), (602, 0.0), (603, 0.0), (605, 0.0), (606, 0.0), (608, 0.0), (614, 0.0), (616, 0.0), (617, 0.0), (619, 0.0), (620, 0.0), (623, 0.0), (625, 0.0), (628, 0.0), (630, 0.0), (633, 0.0), (636, 0.0), (637, 0.0), (638, 0.0), (639, 0.0), (642, 0.0), (647, 0.0), (648, 0.0), (649, 0.0), (650, 0.0), (651, 0.0), (655, 0.0), (656, 0.0), (660, 0.0), (662, 0.0), (663, 0.0), (666, 0.0), (667, 0.0), (669, 0.0), (671, 0.0), (672, 0.0), (678, 0.0), (679, 0.0), (681, 0.0), (682, 0.0), (684, 0.0), (686, 0.0), (689, 0.0), (690, 0.0), (692, 0.0), (693, 0.0), (696, 0.0), (697, 0.0), (698, 0.0), (704, 0.0), (705, 0.0), (707, 0.0), (708, 0.0), (709, 0.0), (710, 0.0), (712, 0.0), (713, 0.0), (714, 0.0), (717, 0.0), (719, 0.0), (721, 0.0), (722, 0.0), (727, 0.0), (730, 0.0), (734, 0.0), (738, 0.0), (742, 0.0), (743, 0.0), (748, 0.0), (749, 0.0), (750, 0.0), (751, 0.0), (756, 0.0), (757, 0.0), (758, 0.0), (759, 0.0), (760, 0.0), (764, 0.0), (765, 0.0), (766, 0.0), (769, 0.0), (772, 0.0), (776, 0.0), (779, 0.0), (781, 0.0), (785, 0.0), (786, 0.0), (790, 0.0), (791, 0.0), (792, 0.0), (795, 0.0), (796, 0.0), (798, 0.0), (801, 0.0), (802, 0.0), (803, 0.0), (806, 0.0), (809, 0.0), (810, 0.0), (812, 0.0), (815, 0.0), (816, 0.0), (817, 0.0), (819, 0.0), (820, 0.0), (822, 0.0), (824, 0.0), (825, 0.0), (826, 0.0), (827, 0.0), (829, 0.0), (832, 0.0), (835, 0.0), (837, 0.0), (839, 0.0), (841, 0.0), (842, 0.0), (843, 0.0), (845, 0.0), (846, 0.0), (847, 0.0), (848, 0.0), (849, 0.0), (852, 0.0), (853, 0.0), (857, 0.0), (858, 0.0), (859, 0.0), (860, 0.0), (861, 0.0), (865, 0.0), (866, 0.0), (867, 0.0), (868, 0.0), (869, 0.0), (871, 0.0), (872, 0.0), (874, 0.0), (875, 0.0), (876, 0.0), (877, 0.0), (879, 0.0), (881, 0.0), (883, 0.0), (884, 0.0), (885, 0.0), (886, 0.0), (887, 0.0), (889, 0.0), (890, 0.0), (891, 0.0), (896, 0.0), (897, 0.0), (899, 0.0), (901, 0.0), (903, 0.0), (905, 0.0), (906, 0.0), (907, 0.0), (909, 0.0), (910, 0.0), (912, 0.0), (913, 0.0), (915, 0.0), (916, 0.0), (917, 0.0), (918, 0.0), (921, 0.0), (923, 0.0), (924, 0.0), (925, 0.0), (926, 0.0), (927, 0.0), (928, 0.0), (934, 0.0), (935, 0.0), (936, 0.0), (937, 0.0), (938, 0.0), (942, 0.0), (943, 0.0), (944, 0.0), (946, 0.0), (947, 0.0), (948, 0.0), (949, 0.0), (952, 0.0), (957, 0.0), (958, 0.0), (961, 0.0), (962, 0.0), (964, 0.0), (966, 0.0), (967, 0.0), (968, 0.0), (970, 0.0), (971, 0.0), (975, 0.0), (978, 0.0), (980, 0.0), (981, 0.0), (983, 0.0), (985, 0.0), (986, 0.0), (987, 0.0), (991, 0.0), (995, 0.0), (996, 0.0), (997, 0.0), (998, 0.0), (1004, 0.0), (1006, 0.0), (1007, 0.0), (1009, 0.0), (1010, 0.0), (1011, 0.0), (1013, 0.0), (1017, 0.0), (1019, 0.0), (1020, 0.0), (1021, 0.0), (1022, 0.0), (1023, 0.0), (1025, 0.0), (1026, 0.0), (1028, 0.0), (1030, 0.0), (1031, 0.0), (1032, 0.0), (1033, 0.0), (1036, 0.0), (1037, 0.0), (1038, 0.0), (1039, 0.0), (1040, 0.0), (1042, 0.0), (1043, 0.0), (1045, 0.0), (1046, 0.0), (1047, 0.0), (1048, 0.0), (1050, 0.0), (1051, 0.0), (1054, 0.0), (1056, 0.0), (1059, 0.0), (1060, 0.0), (1061, 0.0), (1062, 0.0), (1063, 0.0), (1065, 0.0), (1066, 0.0), (1069, 0.0), (1071, 0.0), (1072, 0.0), (1074, 0.0), (1075, 0.0), (1078, 0.0), (1080, 0.0), (1081, 0.0), (1087, 0.0), (1088, 0.0), (1089, 0.0), (1091, 0.0), (1092, 0.0), (1094, 0.0), (1098, 0.0), (1099, 0.0), (1102, 0.0), (1104, 0.0), (1107, 0.0), (1108, 0.0), (1112, 0.0), (1113, 0.0), (1115, 0.0), (1116, 0.0), (1117, 0.0), (1120, 0.0), (1121, 0.0), (1122, 0.0), (1123, 0.0), (1125, 0.0), (1126, 0.0), (1127, 0.0), (1129, 0.0), (1130, 0.0), (1132, 0.0), (1134, 0.0), (1141, 0.0), (1142, 0.0), (1143, 0.0), (1144, 0.0), (1145, 0.0), (1147, 0.0), (1148, 0.0), (1149, 0.0), (1150, 0.0), (1151, 0.0), (1154, 0.0), (1156, 0.0), (1159, 0.0), (1160, 0.0), (1161, 0.0), (1162, 0.0), (1163, 0.0), (1164, 0.0), (1166, 0.0), (1167, 0.0), (1168, 0.0), (1169, 0.0), (1172, 0.0), (1173, 0.0), (1176, 0.0), (1179, 0.0), (1181, 0.0), (1182, 0.0), (1185, 0.0), (1186, 0.0), (1187, 0.0), (1189, 0.0), (1190, 0.0), (1194, 0.0), (1196, 0.0), (1197, 0.0), (1203, 0.0), (1204, 0.0), (1205, 0.0), (1206, 0.0), (1207, 0.0), (1208, 0.0), (1209, 0.0), (1211, 0.0), (1212, 0.0), (1214, 0.0), (1215, 0.0), (1216, 0.0), (1218, 0.0), (1219, 0.0), (1220, 0.0), (1221, 0.0), (1223, 0.0), (1224, 0.0), (1225, 0.0), (1226, 0.0), (1227, 0.0), (1228, 0.0), (1229, 0.0), (1231, 0.0), (1235, 0.0), (1236, 0.0), (1240, 0.0), (1241, 0.0), (1242, 0.0), (1246, 0.0), (1248, 0.0), (1250, 0.0), (1252, 0.0), (1253, 0.0), (1255, 0.0), (1256, 0.0), (1257, 0.0), (1258, 0.0), (1260, 0.0), (1261, 0.0), (1262, 0.0), (1263, 0.0), (1264, 0.0), (1265, 0.0), (1267, 0.0), (1268, 0.0), (1269, 0.0), (1276, 0.0), (1277, 0.0), (1280, 0.0), (1283, 0.0), (1284, 0.0), (1285, 0.0), (1287, 0.0), (1288, 0.0), (1290, 0.0), (1291, 0.0), (1292, 0.0), (1293, 0.0), (1295, 0.0), (1297, 0.0), (1298, 0.0), (1300, 0.0), (1301, 0.0), (1306, 0.0), (1307, 0.0), (1308, 0.0), (1309, 0.0), (1312, 0.0), (1313, 0.0), (1314, 0.0), (1315, 0.0), (1316, 0.0), (1317, 0.0), (1321, 0.0), (1322, 0.0), (1323, 0.0), (1324, 0.0), (1325, 0.0), (1327, 0.0), (1328, 0.0), (1329, 0.0), (1330, 0.0), (1331, 0.0), (1333, 0.0), (1340, 0.0), (1341, 0.0), (1346, 0.0), (1348, 0.0), (1349, 0.0), (1350, 0.0), (1351, 0.0), (1353, 0.0), (1355, 0.0), (1356, 0.0), (1357, 0.0), (1359, 0.0), (1360, 0.0), (1362, 0.0), (1364, 0.0), (1366, 0.0), (1368, 0.0), (1370, 0.0), (1371, 0.0), (1372, 0.0), (1373, 0.0), (1374, 0.0), (1375, 0.0), (1376, 0.0), (1378, 0.0), (1381, 0.0), (1382, 0.0), (1384, 0.0), (1385, 0.0), (1386, 0.0), (1387, 0.0), (1388, 0.0), (1389, 0.0), (1391, 0.0), (1392, 0.0), (1393, 0.0), (1394, 0.0), (1397, 0.0), (1400, 0.0), (1401, 0.0), (1402, 0.0), (1403, 0.0), (1405, 0.0), (1407, 0.0), (1408, 0.0), (1409, 0.0), (1410, 0.0), (1411, 0.0), (1413, 0.0), (1414, 0.0), (1416, 0.0), (1418, 0.0), (1420, 0.0), (1421, 0.0), (1423, 0.0), (1424, 0.0), (1426, 0.0), (1427, 0.0), (1429, 0.0), (1430, 0.0), (1433, 0.0), (1435, 0.0), (1441, 0.0), (1442, 0.0), (1444, 0.0), (1446, 0.0), (1449, 0.0), (1452, 0.0), (1453, 0.0), (1454, 0.0), (1455, 0.0), (1458, 0.0), (1460, 0.0), (1461, 0.0), (1462, 0.0), (1464, 0.0), (1466, 0.0), (1469, 0.0), (1471, 0.0), (1474, 0.0), (1475, 0.0), (1476, 0.0), (1477, 0.0), (1478, 0.0), (1481, 0.0), (1483, 0.0), (1485, 0.0), (1487, 0.0), (1489, 0.0), (1492, 0.0), (1493, 0.0), (1497, 0.0), (1498, 0.0), (1499, 0.0), (1501, 0.0), (1504, 0.0), (1505, 0.0), (1508, 0.0), (1509, 0.0), (1511, 0.0), (1512, 0.0), (1516, 0.0), (1519, 0.0), (1520, 0.0), (1521, 0.0), (1522, 0.0), (1523, 0.0), (1524, 0.0), (1526, 0.0), (1527, 0.0), (1528, 0.0), (1530, 0.0), (1532, 0.0), (1533, 0.0), (1536, 0.0), (1537, 0.0), (1539, 0.0), (1540, 0.0), (1541, 0.0), (1543, 0.0), (1544, 0.0), (1545, 0.0), (1548, 0.0), (1549, 0.0), (1550, 0.0), (1552, 0.0), (1555, 0.0), (1556, 0.0), (1557, 0.0), (1559, 0.0), (1560, 0.0), (1561, 0.0), (1562, 0.0), (1563, 0.0), (1564, 0.0), (1565, 0.0), (1566, 0.0), (1567, 0.0), (1569, 0.0), (1570, 0.0), (1571, 0.0), (1572, 0.0), (1574, 0.0), (1576, 0.0), (1578, 0.0), (1579, 0.0), (1580, 0.0), (1581, 0.0), (1582, 0.0), (1584, 0.0), (1585, 0.0), (1587, 0.0), (1590, 0.0), (1591, 0.0), (1593, 0.0), (1594, 0.0), (1595, 0.0), (1598, 0.0), (1599, 0.0), (1600, 0.0), (1601, 0.0), (1602, 0.0), (1603, 0.0), (1605, 0.0), (1609, 0.0), (1612, 0.0), (1613, 0.0), (1614, 0.0), (1618, 0.0), (1619, 0.0), (1620, 0.0), (1621, 0.0), (1622, 0.0), (1623, 0.0), (1624, 0.0), (1627, 0.0), (1629, 0.0), (1630, 0.0), (1631, 0.0), (1632, 0.0), (1634, 0.0), (1638, 0.0), (1639, 0.0), (1640, 0.0), (1641, 0.0), (1644, 0.0), (1647, 0.0), (1648, 0.0), (1649, 0.0), (1655, 0.0), (1656, 0.0), (1658, 0.0), (1659, 0.0), (1660, 0.0), (1662, 0.0), (1665, 0.0), (1666, 0.0), (1667, 0.0), (1668, 0.0), (1673, 0.0), (1674, 0.0), (1676, 0.0), (1677, 0.0), (1678, 0.0), (1679, 0.0), (1680, 0.0), (1681, 0.0), (1682, 0.0), (1685, 0.0), (1688, 0.0), (1689, 0.0), (1690, 0.0), (1691, 0.0), (1692, 0.0), (1693, 0.0), (1694, 0.0), (1695, 0.0), (1697, 0.0), (1698, 0.0), (1699, 0.0), (1700, 0.0), (1701, 0.0), (1704, 0.0), (1705, 0.0), (1706, 0.0), (1707, 0.0), (1708, 0.0), (1709, 0.0), (1711, 0.0), (1712, 0.0), (1714, 0.0), (1716, 0.0), (1717, 0.0), (1718, 0.0), (1719, 0.0), (1722, 0.0), (1723, 0.0), (1724, 0.0), (1726, 0.0), (1727, 0.0), (1729, 0.0), (1730, 0.0), (1731, 0.0), (1732, 0.0), (1736, 0.0), (1737, 0.0), (1738, 0.0), (1739, 0.0), (1741, 0.0), (1744, 0.0), (1745, 0.0), (1746, 0.0), (1747, 0.0), (1748, 0.0), (1749, 0.0), (1751, 0.0), (1752, 0.0), (1754, 0.0), (1755, 0.0), (1756, 0.0), (1758, 0.0), (1759, 0.0), (1760, 0.0), (1761, 0.0), (1763, 0.0), (1764, 0.0), (1766, 0.0), (1767, 0.0), (1768, 0.0), (1769, 0.0), (1770, 0.0), (1772, 0.0), (1773, 0.0), (1775, 0.0), (1776, 0.0), (1778, 0.0), (1779, 0.0), (1781, 0.0), (1784, 0.0), (1787, 0.0), (1788, 0.0), (1789, 0.0), (1791, 0.0), (1792, 0.0), (1793, 0.0), (1796, 0.0), (1797, 0.0), (1799, 0.0), (1800, 0.0), (1801, 0.0), (1803, 0.0), (1804, 0.0), (1805, 0.0), (1806, 0.0), (1809, 0.0), (1810, 0.0), (1811, 0.0), (1812, 0.0), (1813, 0.0), (1814, 0.0), (1816, 0.0), (1818, 0.0), (1820, 0.0), (1822, 0.0), (1823, 0.0), (1824, 0.0), (1829, 0.0), (1831, 0.0), (1832, 0.0), (1833, 0.0), (1834, 0.0), (1835, 0.0), (1838, 0.0), (1839, 0.0), (1840, 0.0), (1842, 0.0), (1843, 0.0), (1846, 0.0), (1848, 0.0), (1849, 0.0), (1855, 0.0), (1856, 0.0), (1857, 0.0), (1859, 0.0), (1861, 0.0), (1862, 0.0), (1863, 0.0), (1866, 0.0), (1867, 0.0), (1869, 0.0), (1870, 0.0), (1871, 0.0), (1872, 0.0), (1873, 0.0), (1875, 0.0), (1876, 0.0), (1878, 0.0), (1879, 0.0), (1880, 0.0), (1881, 0.0), (1882, 0.0), (1883, 0.0), (1884, 0.0), (1885, 0.0), (1886, 0.0), (1887, 0.0), (1888, 0.0), (1889, 0.0), (1890, 0.0), (1891, 0.0), (1893, 0.0), (1895, 0.0), (1896, 0.0), (1897, 0.0), (1898, 0.0), (1899, 0.0), (1900, 0.0), (1901, 0.0), (1903, 0.0), (1904, 0.0), (1905, 0.0), (1906, 0.0), (1909, 0.0), (1911, 0.0), (1912, 0.0), (1913, 0.0), (1915, 0.0), (1917, 0.0), (1919, 0.0), (1921, 0.0), (1922, 0.0), (1923, 0.0), (1924, 0.0), (1926, 0.0), (1927, 0.0), (1928, 0.0), (1929, 0.0), (1932, 0.0), (1933, 0.0), (1934, 0.0), (1935, 0.0), (1937, 0.0), (1938, 0.0), (1940, 0.0), (1941, 0.0), (1942, 0.0), (1943, 0.0), (1944, 0.0), (1945, 0.0), (1946, 0.0), (1947, 0.0), (1948, 0.0), (1949, 0.0), (1950, 0.0), (1951, 0.0), (1952, 0.0), (1954, 0.0), (1957, 0.0), (1958, 0.0), (1960, 0.0), (1961, 0.0), (1962, 0.0), (1963, 0.0), (1964, 0.0), (1965, 0.0), (1966, 0.0), (1970, 0.0), (1975, 0.0), (1977, 0.0), (1979, 0.0), (1980, 0.0), (1981, 0.0), (1982, 0.0), (1983, 0.0), (1984, 0.0), (1985, 0.0), (1986, 0.0), (1987, 0.0), (1988, 0.0), (1989, 0.0), (1993, 0.0), (1994, 0.0), (1996, 0.0), (1998, 0.0), (1999, 0.0), (2000, 0.0), (2001, 0.0), (2003, 0.0), (2005, 0.0), (2006, 0.0), (2008, 0.0), (2009, 0.0), (2010, 0.0), (2011, 0.0), (2012, 0.0), (2014, 0.0), (2016, 0.0), (2017, 0.0), (2018, 0.0), (2019, 0.0), (2020, 0.0), (2021, 0.0), (2022, 0.0), (2024, 0.0), (2025, 0.0), (2026, 0.0), (2027, 0.0), (2030, 0.0), (2031, 0.0), (2032, 0.0), (2033, 0.0), (2035, 0.0), (2036, 0.0), (2038, 0.0), (2040, 0.0), (2041, 0.0), (2042, 0.0), (2045, 0.0), (2048, 0.0), (2051, 0.0), (2052, 0.0), (2053, 0.0), (2055, 0.0), (2056, 0.0), (2059, 0.0), (2061, 0.0), (2062, 0.0), (2064, 0.0), (2065, 0.0), (2067, 0.0), (2068, 0.0), (2070, 0.0), (2072, 0.0), (2073, 0.0), (2075, 0.0), (2077, 0.0), (2078, 0.0), (2079, 0.0), (2080, 0.0), (2081, 0.0), (2082, 0.0), (2083, 0.0), (2085, 0.0), (2086, 0.0), (2088, 0.0), (2089, 0.0), (2090, 0.0), (2091, 0.0), (2092, 0.0), (2093, 0.0), (2094, 0.0), (2095, 0.0), (2096, 0.0), (2097, 0.0), (2098, 0.0), (2099, 0.0), (2103, 0.0), (2104, 0.0), (2105, 0.0), (2106, 0.0), (2107, 0.0), (2108, 0.0), (2109, 0.0), (2110, 0.0), (2112, 0.0), (2113, 0.0), (2115, 0.0), (2116, 0.0), (2117, 0.0), (2118, 0.0), (2119, 0.0), (2120, 0.0), (2121, 0.0), (2122, 0.0), (2123, 0.0), (2124, 0.0), (2125, 0.0), (2126, 0.0), (2130, 0.0), (2131, 0.0), (2132, 0.0), (2133, 0.0), (2134, 0.0), (2135, 0.0), (2137, 0.0), (2139, 0.0), (2141, 0.0), (2142, 0.0), (2143, 0.0), (2144, 0.0), (2146, 0.0), (2147, 0.0), (2148, 0.0), (2149, 0.0), (2150, 0.0), (2151, 0.0), (2153, 0.0), (2157, 0.0)]\n"
          ]
        }
      ]
    },
    {
      "cell_type": "code",
      "source": [
        "print('Movies suggested for you:\\n')\n",
        "i = 1\n",
        "for movie in sorted_similar_movies:\n",
        "    index = movie[0]\n",
        "    title_from_index = movies_data[movies_data.index == index]['title'].values[0]\n",
        "    if i < 30:\n",
        "        print(i, '.', title_from_index)\n",
        "        i += 1\n"
      ],
      "metadata": {
        "colab": {
          "base_uri": "https://localhost:8080/"
        },
        "id": "JkqZeiBwtM1P",
        "outputId": "e935a17c-aed8-458f-de72-0ef86be6d357"
      },
      "execution_count": null,
      "outputs": [
        {
          "output_type": "stream",
          "name": "stdout",
          "text": [
            "Movies suggested for you:\n",
            "\n",
            "1 . Iron Man\n",
            "2 . Iron Man 2\n",
            "3 . Iron Man 3\n",
            "4 . The Avengers\n",
            "5 . Captain America: Civil War\n",
            "6 . Avengers: Age of Ultron\n",
            "7 . Tropic Thunder\n",
            "8 . X-Men: The Last Stand\n",
            "9 . X-Men: Days of Future Past\n",
            "10 . Gothika\n",
            "11 . X-Men\n",
            "12 . The Judge\n",
            "13 . X2\n",
            "14 . The Nativity Story\n",
            "15 . The Incredible Hulk\n",
            "16 . Lucky You\n",
            "17 . Captain America: The Winter Soldier\n",
            "18 . X-Men: Apocalypse\n",
            "19 . The Expendables 3\n",
            "20 . Arlington Road\n",
            "21 . X-Men: First Class\n",
            "22 . The Amazing Spider-Man 2\n",
            "23 . The Hunting Party\n",
            "24 . Sherlock Holmes\n",
            "25 . Deadpool\n",
            "26 . Mortdecai\n",
            "27 . Sherlock Holmes: A Game of Shadows\n",
            "28 . The Men Who Stare at Goats\n",
            "29 . Se7en\n"
          ]
        }
      ]
    },
    {
      "cell_type": "markdown",
      "source": [
        "Movie Recommendation system\n"
      ],
      "metadata": {
        "id": "1ffsqsYfvYtH"
      }
    },
    {
      "cell_type": "code",
      "source": [
        "movie_name = input('Enter your favourite movie name:')\n",
        "\n",
        "list_of_all_titles = movies_data['title'].tolist()\n",
        "find_close_match = difflib.get_close_matches(movie_name,list_of_all_titles)\n",
        "close_match = find_close_match[0]\n",
        "index_of_the_movie = movies_data[movies_data.title == close_match]['index'].values[0]\n",
        "similarity_score = list(enumerate(similarity[index_of_the_movie]))\n",
        "sorted_similar_movies = sorted(similarity_score,key = lambda x:x[1],reverse = True)\n",
        "print('Movies suggested for you:\\n')\n",
        "i = 1\n",
        "for movie in sorted_similar_movies:\n",
        "    index = movie[0]\n",
        "    title_from_index = movies_data[movies_data.index == index]['title'].values[0]\n",
        "    if i < 30:\n",
        "        print(i, '.', title_from_index)\n",
        "        i += 1"
      ],
      "metadata": {
        "colab": {
          "base_uri": "https://localhost:8080/"
        },
        "id": "aEGF7ZKLvdSG",
        "outputId": "7a8aa3c3-47ff-474b-c5b1-5ff27047f2bd"
      },
      "execution_count": null,
      "outputs": [
        {
          "output_type": "stream",
          "name": "stdout",
          "text": [
            "Enter your favourite movie name:batman\n",
            "Movies suggested for you:\n",
            "\n",
            "1 . Batman\n",
            "2 . Batman Returns\n",
            "3 . Batman & Robin\n",
            "4 . Batman Begins\n",
            "5 . Man of Steel\n",
            "6 . The Dark Knight Rises\n",
            "7 . I Dreamed of Africa\n",
            "8 . Bedazzled\n",
            "9 . Reds\n",
            "10 . Mars Attacks!\n",
            "11 . Jonah Hex\n",
            "12 . The Dark Knight\n",
            "13 . Something's Gotta Give\n",
            "14 . A History of Violence\n",
            "15 . Superman III\n",
            "16 . Blood and Wine\n",
            "17 . 8 Mile\n",
            "18 . Superman\n",
            "19 . Cellular\n",
            "20 . Multiplicity\n",
            "21 . Superman II\n",
            "22 . Planet of the Apes\n",
            "23 . Catwoman\n",
            "24 . Batman Forever\n",
            "25 . Spotlight\n",
            "26 . The 6th Day\n",
            "27 . The American President\n",
            "28 . Megiddo: The Omega Code 2\n",
            "29 . How Do You Know\n"
          ]
        }
      ]
    }
  ],
  "metadata": {
    "colab": {
      "provenance": [],
      "authorship_tag": "ABX9TyO47T591yB0OcOMOeYhJNPM",
      "include_colab_link": true
    },
    "kernelspec": {
      "display_name": "Python 3",
      "name": "python3"
    },
    "language_info": {
      "name": "python"
    }
  },
  "nbformat": 4,
  "nbformat_minor": 0
}